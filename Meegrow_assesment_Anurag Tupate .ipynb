{
 "cells": [
  {
   "cell_type": "markdown",
   "metadata": {},
   "source": [
    "## Case Study: \n",
    "  ### This is a transnational data set which contains all the transactions occurring between 01/12/2010 and 09/12/2011 for a UK-based and registered non-store online retail,The company mainly sells unique all-occasion gifts. Many customers of the company are wholesalers.\n",
    "\n",
    "\n",
    "## Attribute Information:\n",
    "\n",
    "#### InvoiceNo: Invoice number. Nominal, a 6-digit integral number uniquely assigned to each transaction. If this code starts with letter 'c', it indicates a cancellation.\n",
    "#### StockCode: Product (item) code. Nominal, a 5-digit integral number uniquely assigned to each distinct product.\n",
    "#### Description: Product (item) name. Nominal.\n",
    "#### Quantity: The quantities of each product (item) per transaction. Numeric.\n",
    "#### InvoiceDate: Invice Date and time. Numeric, the day and time when each transaction was generated.\n",
    "#### UnitPrice: Unit price. Numeric, Product price per unit in sterling.\n",
    "#### CustomerID: Customer number. Nominal, a 5-digit integral number uniquely assigned to each customer.\n",
    "#### Country: Country name. Nominal, the name of the country where each customer resides.\n",
    "\n",
    "\n",
    "\n",
    "### Data Set Characteristics:  Multivariate, Sequential, Time-Series\n",
    "\n",
    "### Associated Tasks: Classification, Clustering\n"
   ]
  },
  {
   "cell_type": "code",
   "execution_count": 1,
   "metadata": {},
   "outputs": [],
   "source": [
    "import numpy as np\n",
    "import pandas as pd\n",
    "import seaborn as sns\n",
    "import matplotlib.pyplot as plt\n",
    "%matplotlib inline\n",
    "from pylab import rcParams\n",
    "from sklearn.ensemble import RandomForestRegressor\n",
    "from sklearn.linear_model import LinearRegression\n",
    "from sklearn.model_selection import train_test_split\n",
    "from sklearn.metrics import confusion_matrix, classification_report,plot_confusion_matrix\n",
    "from sklearn import metrics"
   ]
  },
  {
   "cell_type": "markdown",
   "metadata": {},
   "source": [
    "### From the aboue case study we are going to Analysis the Given data Set"
   ]
  },
  {
   "cell_type": "code",
   "execution_count": 2,
   "metadata": {},
   "outputs": [],
   "source": [
    "df=pd.read_excel(\"C:/Users/anura/OneDrive/Desktop/DT Consulting/Meergrow/Online Retail.xlsx\")"
   ]
  },
  {
   "cell_type": "code",
   "execution_count": 3,
   "metadata": {},
   "outputs": [
    {
     "data": {
      "text/html": [
       "<div>\n",
       "<style scoped>\n",
       "    .dataframe tbody tr th:only-of-type {\n",
       "        vertical-align: middle;\n",
       "    }\n",
       "\n",
       "    .dataframe tbody tr th {\n",
       "        vertical-align: top;\n",
       "    }\n",
       "\n",
       "    .dataframe thead th {\n",
       "        text-align: right;\n",
       "    }\n",
       "</style>\n",
       "<table border=\"1\" class=\"dataframe\">\n",
       "  <thead>\n",
       "    <tr style=\"text-align: right;\">\n",
       "      <th></th>\n",
       "      <th>InvoiceNo</th>\n",
       "      <th>StockCode</th>\n",
       "      <th>Description</th>\n",
       "      <th>Quantity</th>\n",
       "      <th>InvoiceDate</th>\n",
       "      <th>UnitPrice</th>\n",
       "      <th>CustomerID</th>\n",
       "      <th>Country</th>\n",
       "    </tr>\n",
       "  </thead>\n",
       "  <tbody>\n",
       "    <tr>\n",
       "      <th>540421</th>\n",
       "      <td>581483</td>\n",
       "      <td>23843</td>\n",
       "      <td>PAPER CRAFT , LITTLE BIRDIE</td>\n",
       "      <td>80995</td>\n",
       "      <td>2011-12-09 09:15:00</td>\n",
       "      <td>2.08</td>\n",
       "      <td>16446.0</td>\n",
       "      <td>United Kingdom</td>\n",
       "    </tr>\n",
       "    <tr>\n",
       "      <th>61619</th>\n",
       "      <td>541431</td>\n",
       "      <td>23166</td>\n",
       "      <td>MEDIUM CERAMIC TOP STORAGE JAR</td>\n",
       "      <td>74215</td>\n",
       "      <td>2011-01-18 10:01:00</td>\n",
       "      <td>1.04</td>\n",
       "      <td>12346.0</td>\n",
       "      <td>United Kingdom</td>\n",
       "    </tr>\n",
       "    <tr>\n",
       "      <th>502122</th>\n",
       "      <td>578841</td>\n",
       "      <td>84826</td>\n",
       "      <td>ASSTD DESIGN 3D PAPER STICKERS</td>\n",
       "      <td>12540</td>\n",
       "      <td>2011-11-25 15:57:00</td>\n",
       "      <td>0.00</td>\n",
       "      <td>13256.0</td>\n",
       "      <td>United Kingdom</td>\n",
       "    </tr>\n",
       "    <tr>\n",
       "      <th>74614</th>\n",
       "      <td>542504</td>\n",
       "      <td>37413</td>\n",
       "      <td>NaN</td>\n",
       "      <td>5568</td>\n",
       "      <td>2011-01-28 12:03:00</td>\n",
       "      <td>0.00</td>\n",
       "      <td>NaN</td>\n",
       "      <td>United Kingdom</td>\n",
       "    </tr>\n",
       "    <tr>\n",
       "      <th>421632</th>\n",
       "      <td>573008</td>\n",
       "      <td>84077</td>\n",
       "      <td>WORLD WAR 2 GLIDERS ASSTD DESIGNS</td>\n",
       "      <td>4800</td>\n",
       "      <td>2011-10-27 12:26:00</td>\n",
       "      <td>0.21</td>\n",
       "      <td>12901.0</td>\n",
       "      <td>United Kingdom</td>\n",
       "    </tr>\n",
       "    <tr>\n",
       "      <th>...</th>\n",
       "      <td>...</td>\n",
       "      <td>...</td>\n",
       "      <td>...</td>\n",
       "      <td>...</td>\n",
       "      <td>...</td>\n",
       "      <td>...</td>\n",
       "      <td>...</td>\n",
       "      <td>...</td>\n",
       "    </tr>\n",
       "    <tr>\n",
       "      <th>4287</th>\n",
       "      <td>C536757</td>\n",
       "      <td>84347</td>\n",
       "      <td>ROTATING SILVER ANGELS T-LIGHT HLDR</td>\n",
       "      <td>-9360</td>\n",
       "      <td>2010-12-02 14:23:00</td>\n",
       "      <td>0.03</td>\n",
       "      <td>15838.0</td>\n",
       "      <td>United Kingdom</td>\n",
       "    </tr>\n",
       "    <tr>\n",
       "      <th>225530</th>\n",
       "      <td>556691</td>\n",
       "      <td>23005</td>\n",
       "      <td>printing smudges/thrown away</td>\n",
       "      <td>-9600</td>\n",
       "      <td>2011-06-14 10:37:00</td>\n",
       "      <td>0.00</td>\n",
       "      <td>NaN</td>\n",
       "      <td>United Kingdom</td>\n",
       "    </tr>\n",
       "    <tr>\n",
       "      <th>225529</th>\n",
       "      <td>556690</td>\n",
       "      <td>23005</td>\n",
       "      <td>printing smudges/thrown away</td>\n",
       "      <td>-9600</td>\n",
       "      <td>2011-06-14 10:37:00</td>\n",
       "      <td>0.00</td>\n",
       "      <td>NaN</td>\n",
       "      <td>United Kingdom</td>\n",
       "    </tr>\n",
       "    <tr>\n",
       "      <th>61624</th>\n",
       "      <td>C541433</td>\n",
       "      <td>23166</td>\n",
       "      <td>MEDIUM CERAMIC TOP STORAGE JAR</td>\n",
       "      <td>-74215</td>\n",
       "      <td>2011-01-18 10:17:00</td>\n",
       "      <td>1.04</td>\n",
       "      <td>12346.0</td>\n",
       "      <td>United Kingdom</td>\n",
       "    </tr>\n",
       "    <tr>\n",
       "      <th>540422</th>\n",
       "      <td>C581484</td>\n",
       "      <td>23843</td>\n",
       "      <td>PAPER CRAFT , LITTLE BIRDIE</td>\n",
       "      <td>-80995</td>\n",
       "      <td>2011-12-09 09:27:00</td>\n",
       "      <td>2.08</td>\n",
       "      <td>16446.0</td>\n",
       "      <td>United Kingdom</td>\n",
       "    </tr>\n",
       "  </tbody>\n",
       "</table>\n",
       "<p>541909 rows × 8 columns</p>\n",
       "</div>"
      ],
      "text/plain": [
       "       InvoiceNo StockCode                          Description  Quantity  \\\n",
       "540421    581483     23843          PAPER CRAFT , LITTLE BIRDIE     80995   \n",
       "61619     541431     23166       MEDIUM CERAMIC TOP STORAGE JAR     74215   \n",
       "502122    578841     84826       ASSTD DESIGN 3D PAPER STICKERS     12540   \n",
       "74614     542504     37413                                  NaN      5568   \n",
       "421632    573008     84077    WORLD WAR 2 GLIDERS ASSTD DESIGNS      4800   \n",
       "...          ...       ...                                  ...       ...   \n",
       "4287     C536757     84347  ROTATING SILVER ANGELS T-LIGHT HLDR     -9360   \n",
       "225530    556691     23005         printing smudges/thrown away     -9600   \n",
       "225529    556690     23005         printing smudges/thrown away     -9600   \n",
       "61624    C541433     23166       MEDIUM CERAMIC TOP STORAGE JAR    -74215   \n",
       "540422   C581484     23843          PAPER CRAFT , LITTLE BIRDIE    -80995   \n",
       "\n",
       "               InvoiceDate  UnitPrice  CustomerID         Country  \n",
       "540421 2011-12-09 09:15:00       2.08     16446.0  United Kingdom  \n",
       "61619  2011-01-18 10:01:00       1.04     12346.0  United Kingdom  \n",
       "502122 2011-11-25 15:57:00       0.00     13256.0  United Kingdom  \n",
       "74614  2011-01-28 12:03:00       0.00         NaN  United Kingdom  \n",
       "421632 2011-10-27 12:26:00       0.21     12901.0  United Kingdom  \n",
       "...                    ...        ...         ...             ...  \n",
       "4287   2010-12-02 14:23:00       0.03     15838.0  United Kingdom  \n",
       "225530 2011-06-14 10:37:00       0.00         NaN  United Kingdom  \n",
       "225529 2011-06-14 10:37:00       0.00         NaN  United Kingdom  \n",
       "61624  2011-01-18 10:17:00       1.04     12346.0  United Kingdom  \n",
       "540422 2011-12-09 09:27:00       2.08     16446.0  United Kingdom  \n",
       "\n",
       "[541909 rows x 8 columns]"
      ]
     },
     "execution_count": 3,
     "metadata": {},
     "output_type": "execute_result"
    }
   ],
   "source": [
    "df.sort_values([\"Quantity\"],ascending=False)"
   ]
  },
  {
   "cell_type": "code",
   "execution_count": 4,
   "metadata": {},
   "outputs": [
    {
     "data": {
      "text/plain": [
       "(541909, 8)"
      ]
     },
     "execution_count": 4,
     "metadata": {},
     "output_type": "execute_result"
    }
   ],
   "source": [
    "df.shape"
   ]
  },
  {
   "cell_type": "code",
   "execution_count": 5,
   "metadata": {
    "scrolled": true
   },
   "outputs": [
    {
     "name": "stdout",
     "output_type": "stream",
     "text": [
      "<class 'pandas.core.frame.DataFrame'>\n",
      "RangeIndex: 541909 entries, 0 to 541908\n",
      "Data columns (total 8 columns):\n",
      " #   Column       Non-Null Count   Dtype         \n",
      "---  ------       --------------   -----         \n",
      " 0   InvoiceNo    541909 non-null  object        \n",
      " 1   StockCode    541909 non-null  object        \n",
      " 2   Description  540455 non-null  object        \n",
      " 3   Quantity     541909 non-null  int64         \n",
      " 4   InvoiceDate  541909 non-null  datetime64[ns]\n",
      " 5   UnitPrice    541909 non-null  float64       \n",
      " 6   CustomerID   406829 non-null  float64       \n",
      " 7   Country      541909 non-null  object        \n",
      "dtypes: datetime64[ns](1), float64(2), int64(1), object(4)\n",
      "memory usage: 33.1+ MB\n"
     ]
    }
   ],
   "source": [
    "df.info()"
   ]
  },
  {
   "cell_type": "code",
   "execution_count": 6,
   "metadata": {},
   "outputs": [],
   "source": [
    "dups=df.duplicated()"
   ]
  },
  {
   "cell_type": "code",
   "execution_count": 7,
   "metadata": {},
   "outputs": [
    {
     "name": "stdout",
     "output_type": "stream",
     "text": [
      "numbers of duplicate=5268\n"
     ]
    }
   ],
   "source": [
    "print(\"numbers of duplicate=%d\"%(dups.sum()))"
   ]
  },
  {
   "cell_type": "markdown",
   "metadata": {},
   "source": [
    "#### The Given data Info we can see that Data Frame is Class-pandas.core.frame.DataFrame with Range Index= 541909 entries from 0 to 541908 and in Data columns there are Total 08 Column. Data. As we can see datetime64 [ns] (1),Dtype:int64(1), Object (4) ,float64(2) . \n",
    "\n",
    "#### we can see in Non-Null Count >>> null value Present in Description and CustomerID.\n",
    "\n",
    "####  In Describe we we will get Mean std. Dev., min.,25%,50%,75%, Max. value of each Variable in that count is 541909 in all variables as we can in shape also.\n",
    "#### Shape of Data = (541909,8)\n",
    "#### We found Numbers of duplicate =5268\n"
   ]
  },
  {
   "cell_type": "code",
   "execution_count": 8,
   "metadata": {},
   "outputs": [
    {
     "data": {
      "text/html": [
       "<div>\n",
       "<style scoped>\n",
       "    .dataframe tbody tr th:only-of-type {\n",
       "        vertical-align: middle;\n",
       "    }\n",
       "\n",
       "    .dataframe tbody tr th {\n",
       "        vertical-align: top;\n",
       "    }\n",
       "\n",
       "    .dataframe thead th {\n",
       "        text-align: right;\n",
       "    }\n",
       "</style>\n",
       "<table border=\"1\" class=\"dataframe\">\n",
       "  <thead>\n",
       "    <tr style=\"text-align: right;\">\n",
       "      <th></th>\n",
       "      <th>count</th>\n",
       "      <th>mean</th>\n",
       "      <th>std</th>\n",
       "      <th>min</th>\n",
       "      <th>25%</th>\n",
       "      <th>50%</th>\n",
       "      <th>75%</th>\n",
       "      <th>max</th>\n",
       "    </tr>\n",
       "  </thead>\n",
       "  <tbody>\n",
       "    <tr>\n",
       "      <th>Quantity</th>\n",
       "      <td>541909.0</td>\n",
       "      <td>9.552250</td>\n",
       "      <td>218.081158</td>\n",
       "      <td>-80995.00</td>\n",
       "      <td>1.00</td>\n",
       "      <td>3.00</td>\n",
       "      <td>10.00</td>\n",
       "      <td>80995.0</td>\n",
       "    </tr>\n",
       "    <tr>\n",
       "      <th>UnitPrice</th>\n",
       "      <td>541909.0</td>\n",
       "      <td>4.611114</td>\n",
       "      <td>96.759853</td>\n",
       "      <td>-11062.06</td>\n",
       "      <td>1.25</td>\n",
       "      <td>2.08</td>\n",
       "      <td>4.13</td>\n",
       "      <td>38970.0</td>\n",
       "    </tr>\n",
       "    <tr>\n",
       "      <th>CustomerID</th>\n",
       "      <td>406829.0</td>\n",
       "      <td>15287.690570</td>\n",
       "      <td>1713.600303</td>\n",
       "      <td>12346.00</td>\n",
       "      <td>13953.00</td>\n",
       "      <td>15152.00</td>\n",
       "      <td>16791.00</td>\n",
       "      <td>18287.0</td>\n",
       "    </tr>\n",
       "  </tbody>\n",
       "</table>\n",
       "</div>"
      ],
      "text/plain": [
       "               count          mean          std       min       25%       50%  \\\n",
       "Quantity    541909.0      9.552250   218.081158 -80995.00      1.00      3.00   \n",
       "UnitPrice   541909.0      4.611114    96.759853 -11062.06      1.25      2.08   \n",
       "CustomerID  406829.0  15287.690570  1713.600303  12346.00  13953.00  15152.00   \n",
       "\n",
       "                 75%      max  \n",
       "Quantity       10.00  80995.0  \n",
       "UnitPrice       4.13  38970.0  \n",
       "CustomerID  16791.00  18287.0  "
      ]
     },
     "execution_count": 8,
     "metadata": {},
     "output_type": "execute_result"
    }
   ],
   "source": [
    "df.describe().T"
   ]
  },
  {
   "cell_type": "code",
   "execution_count": 9,
   "metadata": {},
   "outputs": [
    {
     "data": {
      "text/plain": [
       "InvoiceNo           0\n",
       "StockCode           0\n",
       "Description      1454\n",
       "Quantity            0\n",
       "InvoiceDate         0\n",
       "UnitPrice           0\n",
       "CustomerID     135080\n",
       "Country             0\n",
       "dtype: int64"
      ]
     },
     "execution_count": 9,
     "metadata": {},
     "output_type": "execute_result"
    }
   ],
   "source": [
    "df.isnull().sum()"
   ]
  },
  {
   "cell_type": "code",
   "execution_count": 10,
   "metadata": {},
   "outputs": [],
   "source": [
    "for column in [\"Description\",\"CustomerID\"]:\n",
    "    df[column].fillna(df[column].mode()[0],inplace = True) "
   ]
  },
  {
   "cell_type": "code",
   "execution_count": 11,
   "metadata": {},
   "outputs": [
    {
     "data": {
      "text/plain": [
       "InvoiceNo      0\n",
       "StockCode      0\n",
       "Description    0\n",
       "Quantity       0\n",
       "InvoiceDate    0\n",
       "UnitPrice      0\n",
       "CustomerID     0\n",
       "Country        0\n",
       "dtype: int64"
      ]
     },
     "execution_count": 11,
     "metadata": {},
     "output_type": "execute_result"
    }
   ],
   "source": [
    "df.isnull().sum()"
   ]
  },
  {
   "cell_type": "markdown",
   "metadata": {},
   "source": [
    "#### In the Data set contain Null value  \n",
    "### Description : 1454\n",
    "### CustomerID :135080\n",
    "#### So treat Null value  with Imputation of Mode,we are not removing Null value it affect the data "
   ]
  },
  {
   "cell_type": "code",
   "execution_count": 12,
   "metadata": {},
   "outputs": [],
   "source": [
    "df1 = df[[\"Description\",\"Quantity\"]].groupby(['Description'])['Quantity'] \\\n",
    "                             .count() \\\n",
    "                             .reset_index(name='count_Quantity') \\\n",
    "                             .sort_values(['count_Quantity'], ascending=False) \\\n",
    "           "
   ]
  },
  {
   "cell_type": "code",
   "execution_count": 13,
   "metadata": {},
   "outputs": [
    {
     "data": {
      "text/html": [
       "<div>\n",
       "<style scoped>\n",
       "    .dataframe tbody tr th:only-of-type {\n",
       "        vertical-align: middle;\n",
       "    }\n",
       "\n",
       "    .dataframe tbody tr th {\n",
       "        vertical-align: top;\n",
       "    }\n",
       "\n",
       "    .dataframe thead th {\n",
       "        text-align: right;\n",
       "    }\n",
       "</style>\n",
       "<table border=\"1\" class=\"dataframe\">\n",
       "  <thead>\n",
       "    <tr style=\"text-align: right;\">\n",
       "      <th></th>\n",
       "      <th>Description</th>\n",
       "      <th>count_Quantity</th>\n",
       "    </tr>\n",
       "  </thead>\n",
       "  <tbody>\n",
       "    <tr>\n",
       "      <th>3918</th>\n",
       "      <td>WHITE HANGING HEART T-LIGHT HOLDER</td>\n",
       "      <td>3823</td>\n",
       "    </tr>\n",
       "    <tr>\n",
       "      <th>2915</th>\n",
       "      <td>REGENCY CAKESTAND 3 TIER</td>\n",
       "      <td>2200</td>\n",
       "    </tr>\n",
       "    <tr>\n",
       "      <th>1866</th>\n",
       "      <td>JUMBO BAG RED RETROSPOT</td>\n",
       "      <td>2159</td>\n",
       "    </tr>\n",
       "    <tr>\n",
       "      <th>2471</th>\n",
       "      <td>PARTY BUNTING</td>\n",
       "      <td>1727</td>\n",
       "    </tr>\n",
       "    <tr>\n",
       "      <th>2054</th>\n",
       "      <td>LUNCH BAG RED RETROSPOT</td>\n",
       "      <td>1638</td>\n",
       "    </tr>\n",
       "    <tr>\n",
       "      <th>...</th>\n",
       "      <td>...</td>\n",
       "      <td>...</td>\n",
       "    </tr>\n",
       "    <tr>\n",
       "      <th>2319</th>\n",
       "      <td>ORANGE FELT VASE + FLOWERS</td>\n",
       "      <td>1</td>\n",
       "    </tr>\n",
       "    <tr>\n",
       "      <th>2318</th>\n",
       "      <td>OPULENT VELVET SET/3 CANDLES</td>\n",
       "      <td>1</td>\n",
       "    </tr>\n",
       "    <tr>\n",
       "      <th>2315</th>\n",
       "      <td>OOPS ! adjustment</td>\n",
       "      <td>1</td>\n",
       "    </tr>\n",
       "    <tr>\n",
       "      <th>2314</th>\n",
       "      <td>OOH LA LA DOGS COLLAR</td>\n",
       "      <td>1</td>\n",
       "    </tr>\n",
       "    <tr>\n",
       "      <th>4222</th>\n",
       "      <td>wrongly sold sets</td>\n",
       "      <td>1</td>\n",
       "    </tr>\n",
       "  </tbody>\n",
       "</table>\n",
       "<p>4223 rows × 2 columns</p>\n",
       "</div>"
      ],
      "text/plain": [
       "                             Description  count_Quantity\n",
       "3918  WHITE HANGING HEART T-LIGHT HOLDER            3823\n",
       "2915            REGENCY CAKESTAND 3 TIER            2200\n",
       "1866             JUMBO BAG RED RETROSPOT            2159\n",
       "2471                       PARTY BUNTING            1727\n",
       "2054             LUNCH BAG RED RETROSPOT            1638\n",
       "...                                  ...             ...\n",
       "2319          ORANGE FELT VASE + FLOWERS               1\n",
       "2318        OPULENT VELVET SET/3 CANDLES               1\n",
       "2315                   OOPS ! adjustment               1\n",
       "2314               OOH LA LA DOGS COLLAR               1\n",
       "4222                   wrongly sold sets               1\n",
       "\n",
       "[4223 rows x 2 columns]"
      ]
     },
     "execution_count": 13,
     "metadata": {},
     "output_type": "execute_result"
    }
   ],
   "source": [
    "df1"
   ]
  },
  {
   "cell_type": "code",
   "execution_count": 14,
   "metadata": {},
   "outputs": [
    {
     "data": {
      "image/png": "[encoded data removed]",
      "text/plain": [
       "<Figure size 1080x360 with 1 Axes>"
      ]
     },
     "metadata": {
      "needs_background": "light"
     },
     "output_type": "display_data"
    }
   ],
   "source": [
    "df1.groupby(by=['Description'])['count_Quantity'].sum().reset_index().sort_values(['count_Quantity']).tail(10).plot(x='Description',\n",
    "                                                                                                           y='count_Quantity',\n",
    "                                                                                                           kind='bar',\n",
    "                                                                                                           figsize=(15,5))\n",
    "plt.show()"
   ]
  },
  {
   "attachments": {
    "image.png": {
     "image/png": "[encoded data removed]"
    }
   },
   "cell_type": "markdown",
   "metadata": {},
   "source": [
    "### In description of Product we can see that maximum order ordered by wholesale Customers:\n",
    "\n",
    "#### \"WHITE HANGING HEART T-LIGHT HOLDER\" : 3823\n",
    "#### \"REGENCY CAKESTAND 3 TIER\"                      : 2200\n",
    "#### \"JUMBO BAG RED RETROSPOT\"                     : 2159\n",
    "#### \"PARTY BUNTING\"                                              : 1727\n",
    "#### \"LUNCH BAG RED RETROSPOT\"                      : 1638\n",
    "\n",
    "### And lowest order ordered was:\n",
    "\n",
    "#### \"ORANGE FELT VASE + FLOWERS\"                 :  1\n",
    "#### \"OPULENT VELVET SET/3 CANDLES\"              :  1\n",
    "#### \"OOPS ! adjustment\"\t                                       : 1\n",
    "#### \"OOH LA LA DOGS COLLAR\"                            :  1\n",
    "#### \"wrongly sold sets\"                                             :\t1\n",
    "\n",
    "\n",
    "### And from the above its completly visible that maximum  demand of Product as we compare it with country level we can see the first two Maximum Order odered by:\n",
    "#### United Kingdom : 495478 \n",
    "#### France:9495\n",
    "\n",
    "### as we can see last two lowest order ordered by\n",
    "#### Bahrain: 19\n",
    "#### Saudi Arabia:10\n",
    "![image.png](attachment:image.png)\n",
    " \n"
   ]
  },
  {
   "cell_type": "code",
   "execution_count": 15,
   "metadata": {},
   "outputs": [
    {
     "data": {
      "text/plain": [
       "United Kingdom          495478\n",
       "Germany                   9495\n",
       "France                    8557\n",
       "EIRE                      8196\n",
       "Spain                     2533\n",
       "Netherlands               2371\n",
       "Belgium                   2069\n",
       "Switzerland               2002\n",
       "Portugal                  1519\n",
       "Australia                 1259\n",
       "Norway                    1086\n",
       "Italy                      803\n",
       "Channel Islands            758\n",
       "Finland                    695\n",
       "Cyprus                     622\n",
       "Sweden                     462\n",
       "Unspecified                446\n",
       "Austria                    401\n",
       "Denmark                    389\n",
       "Japan                      358\n",
       "Poland                     341\n",
       "Israel                     297\n",
       "USA                        291\n",
       "Hong Kong                  288\n",
       "Singapore                  229\n",
       "Iceland                    182\n",
       "Canada                     151\n",
       "Greece                     146\n",
       "Malta                      127\n",
       "United Arab Emirates        68\n",
       "European Community          61\n",
       "RSA                         58\n",
       "Lebanon                     45\n",
       "Lithuania                   35\n",
       "Brazil                      32\n",
       "Czech Republic              30\n",
       "Bahrain                     19\n",
       "Saudi Arabia                10\n",
       "Name: Country, dtype: int64"
      ]
     },
     "execution_count": 15,
     "metadata": {},
     "output_type": "execute_result"
    }
   ],
   "source": [
    "df['Country'].sort_values().value_counts()\n"
   ]
  },
  {
   "cell_type": "code",
   "execution_count": 16,
   "metadata": {},
   "outputs": [
    {
     "data": {
      "text/html": [
       "<div>\n",
       "<style scoped>\n",
       "    .dataframe tbody tr th:only-of-type {\n",
       "        vertical-align: middle;\n",
       "    }\n",
       "\n",
       "    .dataframe tbody tr th {\n",
       "        vertical-align: top;\n",
       "    }\n",
       "\n",
       "    .dataframe thead th {\n",
       "        text-align: right;\n",
       "    }\n",
       "</style>\n",
       "<table border=\"1\" class=\"dataframe\">\n",
       "  <thead>\n",
       "    <tr style=\"text-align: right;\">\n",
       "      <th></th>\n",
       "      <th>Quantity</th>\n",
       "      <th>UnitPrice</th>\n",
       "      <th>CustomerID</th>\n",
       "    </tr>\n",
       "    <tr>\n",
       "      <th>Country</th>\n",
       "      <th></th>\n",
       "      <th></th>\n",
       "      <th></th>\n",
       "    </tr>\n",
       "  </thead>\n",
       "  <tbody>\n",
       "    <tr>\n",
       "      <th>United Kingdom</th>\n",
       "      <td>4263829</td>\n",
       "      <td>2.245715e+06</td>\n",
       "      <td>8.009990e+09</td>\n",
       "    </tr>\n",
       "    <tr>\n",
       "      <th>Netherlands</th>\n",
       "      <td>200128</td>\n",
       "      <td>6.492550e+03</td>\n",
       "      <td>3.419054e+07</td>\n",
       "    </tr>\n",
       "    <tr>\n",
       "      <th>EIRE</th>\n",
       "      <td>142637</td>\n",
       "      <td>4.844719e+04</td>\n",
       "      <td>1.230767e+08</td>\n",
       "    </tr>\n",
       "    <tr>\n",
       "      <th>Germany</th>\n",
       "      <td>117448</td>\n",
       "      <td>3.766600e+04</td>\n",
       "      <td>1.200751e+08</td>\n",
       "    </tr>\n",
       "    <tr>\n",
       "      <th>France</th>\n",
       "      <td>110480</td>\n",
       "      <td>4.303199e+04</td>\n",
       "      <td>1.088264e+08</td>\n",
       "    </tr>\n",
       "    <tr>\n",
       "      <th>Australia</th>\n",
       "      <td>83653</td>\n",
       "      <td>4.054750e+03</td>\n",
       "      <td>1.569300e+07</td>\n",
       "    </tr>\n",
       "    <tr>\n",
       "      <th>Sweden</th>\n",
       "      <td>35637</td>\n",
       "      <td>1.806830e+03</td>\n",
       "      <td>6.790083e+06</td>\n",
       "    </tr>\n",
       "    <tr>\n",
       "      <th>Switzerland</th>\n",
       "      <td>30325</td>\n",
       "      <td>6.813690e+03</td>\n",
       "      <td>2.600604e+07</td>\n",
       "    </tr>\n",
       "    <tr>\n",
       "      <th>Spain</th>\n",
       "      <td>26824</td>\n",
       "      <td>1.263345e+04</td>\n",
       "      <td>3.268929e+07</td>\n",
       "    </tr>\n",
       "    <tr>\n",
       "      <th>Japan</th>\n",
       "      <td>25218</td>\n",
       "      <td>8.148600e+02</td>\n",
       "      <td>4.567292e+06</td>\n",
       "    </tr>\n",
       "    <tr>\n",
       "      <th>Belgium</th>\n",
       "      <td>23152</td>\n",
       "      <td>7.540130e+03</td>\n",
       "      <td>2.571829e+07</td>\n",
       "    </tr>\n",
       "    <tr>\n",
       "      <th>Norway</th>\n",
       "      <td>19247</td>\n",
       "      <td>6.529060e+03</td>\n",
       "      <td>1.350765e+07</td>\n",
       "    </tr>\n",
       "    <tr>\n",
       "      <th>Portugal</th>\n",
       "      <td>16180</td>\n",
       "      <td>1.303754e+04</td>\n",
       "      <td>1.956060e+07</td>\n",
       "    </tr>\n",
       "    <tr>\n",
       "      <th>Finland</th>\n",
       "      <td>10666</td>\n",
       "      <td>3.786850e+03</td>\n",
       "      <td>8.699324e+06</td>\n",
       "    </tr>\n",
       "    <tr>\n",
       "      <th>Channel Islands</th>\n",
       "      <td>9479</td>\n",
       "      <td>3.738550e+03</td>\n",
       "      <td>1.128522e+07</td>\n",
       "    </tr>\n",
       "    <tr>\n",
       "      <th>Denmark</th>\n",
       "      <td>8188</td>\n",
       "      <td>1.266950e+03</td>\n",
       "      <td>4.876734e+06</td>\n",
       "    </tr>\n",
       "    <tr>\n",
       "      <th>Italy</th>\n",
       "      <td>7999</td>\n",
       "      <td>3.879390e+03</td>\n",
       "      <td>1.015666e+07</td>\n",
       "    </tr>\n",
       "    <tr>\n",
       "      <th>Cyprus</th>\n",
       "      <td>6317</td>\n",
       "      <td>3.920070e+03</td>\n",
       "      <td>7.715880e+06</td>\n",
       "    </tr>\n",
       "    <tr>\n",
       "      <th>Singapore</th>\n",
       "      <td>5234</td>\n",
       "      <td>2.510889e+04</td>\n",
       "      <td>2.918376e+06</td>\n",
       "    </tr>\n",
       "    <tr>\n",
       "      <th>Austria</th>\n",
       "      <td>4827</td>\n",
       "      <td>1.701520e+03</td>\n",
       "      <td>5.021102e+06</td>\n",
       "    </tr>\n",
       "    <tr>\n",
       "      <th>Hong Kong</th>\n",
       "      <td>4769</td>\n",
       "      <td>1.224150e+04</td>\n",
       "      <td>5.138208e+06</td>\n",
       "    </tr>\n",
       "    <tr>\n",
       "      <th>Israel</th>\n",
       "      <td>4353</td>\n",
       "      <td>1.079040e+03</td>\n",
       "      <td>4.002994e+06</td>\n",
       "    </tr>\n",
       "    <tr>\n",
       "      <th>Poland</th>\n",
       "      <td>3653</td>\n",
       "      <td>1.422270e+03</td>\n",
       "      <td>4.341972e+06</td>\n",
       "    </tr>\n",
       "    <tr>\n",
       "      <th>Unspecified</th>\n",
       "      <td>3300</td>\n",
       "      <td>1.204010e+03</td>\n",
       "      <td>6.951928e+06</td>\n",
       "    </tr>\n",
       "    <tr>\n",
       "      <th>Canada</th>\n",
       "      <td>2763</td>\n",
       "      <td>9.105800e+02</td>\n",
       "      <td>2.615483e+06</td>\n",
       "    </tr>\n",
       "    <tr>\n",
       "      <th>Iceland</th>\n",
       "      <td>2458</td>\n",
       "      <td>4.812100e+02</td>\n",
       "      <td>2.247154e+06</td>\n",
       "    </tr>\n",
       "    <tr>\n",
       "      <th>Greece</th>\n",
       "      <td>1556</td>\n",
       "      <td>7.132900e+02</td>\n",
       "      <td>2.008584e+06</td>\n",
       "    </tr>\n",
       "    <tr>\n",
       "      <th>USA</th>\n",
       "      <td>1034</td>\n",
       "      <td>6.449800e+02</td>\n",
       "      <td>3.672086e+06</td>\n",
       "    </tr>\n",
       "    <tr>\n",
       "      <th>United Arab Emirates</th>\n",
       "      <td>982</td>\n",
       "      <td>2.298900e+02</td>\n",
       "      <td>1.018952e+06</td>\n",
       "    </tr>\n",
       "    <tr>\n",
       "      <th>Malta</th>\n",
       "      <td>944</td>\n",
       "      <td>6.660100e+02</td>\n",
       "      <td>2.158496e+06</td>\n",
       "    </tr>\n",
       "    <tr>\n",
       "      <th>Lithuania</th>\n",
       "      <td>652</td>\n",
       "      <td>9.944000e+01</td>\n",
       "      <td>5.366200e+05</td>\n",
       "    </tr>\n",
       "    <tr>\n",
       "      <th>Czech Republic</th>\n",
       "      <td>592</td>\n",
       "      <td>8.815000e+01</td>\n",
       "      <td>3.834300e+05</td>\n",
       "    </tr>\n",
       "    <tr>\n",
       "      <th>European Community</th>\n",
       "      <td>497</td>\n",
       "      <td>2.940500e+02</td>\n",
       "      <td>9.215880e+05</td>\n",
       "    </tr>\n",
       "    <tr>\n",
       "      <th>Lebanon</th>\n",
       "      <td>386</td>\n",
       "      <td>2.424400e+02</td>\n",
       "      <td>5.743800e+05</td>\n",
       "    </tr>\n",
       "    <tr>\n",
       "      <th>Brazil</th>\n",
       "      <td>356</td>\n",
       "      <td>1.426000e+02</td>\n",
       "      <td>4.086080e+05</td>\n",
       "    </tr>\n",
       "    <tr>\n",
       "      <th>RSA</th>\n",
       "      <td>352</td>\n",
       "      <td>2.481000e+02</td>\n",
       "      <td>7.218680e+05</td>\n",
       "    </tr>\n",
       "    <tr>\n",
       "      <th>Bahrain</th>\n",
       "      <td>260</td>\n",
       "      <td>8.657000e+01</td>\n",
       "      <td>2.457090e+05</td>\n",
       "    </tr>\n",
       "    <tr>\n",
       "      <th>Saudi Arabia</th>\n",
       "      <td>75</td>\n",
       "      <td>2.411000e+01</td>\n",
       "      <td>1.256500e+05</td>\n",
       "    </tr>\n",
       "  </tbody>\n",
       "</table>\n",
       "</div>"
      ],
      "text/plain": [
       "                      Quantity     UnitPrice    CustomerID\n",
       "Country                                                   \n",
       "United Kingdom         4263829  2.245715e+06  8.009990e+09\n",
       "Netherlands             200128  6.492550e+03  3.419054e+07\n",
       "EIRE                    142637  4.844719e+04  1.230767e+08\n",
       "Germany                 117448  3.766600e+04  1.200751e+08\n",
       "France                  110480  4.303199e+04  1.088264e+08\n",
       "Australia                83653  4.054750e+03  1.569300e+07\n",
       "Sweden                   35637  1.806830e+03  6.790083e+06\n",
       "Switzerland              30325  6.813690e+03  2.600604e+07\n",
       "Spain                    26824  1.263345e+04  3.268929e+07\n",
       "Japan                    25218  8.148600e+02  4.567292e+06\n",
       "Belgium                  23152  7.540130e+03  2.571829e+07\n",
       "Norway                   19247  6.529060e+03  1.350765e+07\n",
       "Portugal                 16180  1.303754e+04  1.956060e+07\n",
       "Finland                  10666  3.786850e+03  8.699324e+06\n",
       "Channel Islands           9479  3.738550e+03  1.128522e+07\n",
       "Denmark                   8188  1.266950e+03  4.876734e+06\n",
       "Italy                     7999  3.879390e+03  1.015666e+07\n",
       "Cyprus                    6317  3.920070e+03  7.715880e+06\n",
       "Singapore                 5234  2.510889e+04  2.918376e+06\n",
       "Austria                   4827  1.701520e+03  5.021102e+06\n",
       "Hong Kong                 4769  1.224150e+04  5.138208e+06\n",
       "Israel                    4353  1.079040e+03  4.002994e+06\n",
       "Poland                    3653  1.422270e+03  4.341972e+06\n",
       "Unspecified               3300  1.204010e+03  6.951928e+06\n",
       "Canada                    2763  9.105800e+02  2.615483e+06\n",
       "Iceland                   2458  4.812100e+02  2.247154e+06\n",
       "Greece                    1556  7.132900e+02  2.008584e+06\n",
       "USA                       1034  6.449800e+02  3.672086e+06\n",
       "United Arab Emirates       982  2.298900e+02  1.018952e+06\n",
       "Malta                      944  6.660100e+02  2.158496e+06\n",
       "Lithuania                  652  9.944000e+01  5.366200e+05\n",
       "Czech Republic             592  8.815000e+01  3.834300e+05\n",
       "European Community         497  2.940500e+02  9.215880e+05\n",
       "Lebanon                    386  2.424400e+02  5.743800e+05\n",
       "Brazil                     356  1.426000e+02  4.086080e+05\n",
       "RSA                        352  2.481000e+02  7.218680e+05\n",
       "Bahrain                    260  8.657000e+01  2.457090e+05\n",
       "Saudi Arabia                75  2.411000e+01  1.256500e+05"
      ]
     },
     "execution_count": 16,
     "metadata": {},
     "output_type": "execute_result"
    }
   ],
   "source": [
    "df.groupby(['Country']).sum().sort_values(['Quantity'],ascending=False)"
   ]
  },
  {
   "cell_type": "code",
   "execution_count": 17,
   "metadata": {},
   "outputs": [
    {
     "data": {
      "image/png": "[encoded data removed]",
      "text/plain": [
       "<Figure size 1080x360 with 1 Axes>"
      ]
     },
     "metadata": {
      "needs_background": "light"
     },
     "output_type": "display_data"
    }
   ],
   "source": [
    "df.groupby(by=['Country'])['Quantity'].sum().reset_index().sort_values(['Quantity']).tail(10).plot(x='Country',\n",
    "                                                                                                           y='Quantity',\n",
    "                                                                                                           kind='bar',\n",
    "                                                                                                           figsize=(15,5))\n",
    "plt.show()"
   ]
  },
  {
   "attachments": {
    "image.png": {
     "image/png": "[encoded data removed]"
    }
   },
   "cell_type": "markdown",
   "metadata": {},
   "source": [
    "![image.png](attachment:image.png)"
   ]
  },
  {
   "attachments": {
    "image.png": {
     "image/png": "[encoded data removed]"
    }
   },
   "cell_type": "markdown",
   "metadata": {},
   "source": [
    "\n",
    "### in bar plot we can see  \"Country\" with respect to  \"Quantity\" ordered:\n",
    "\n",
    "#### United kingdom =4263829 as maximum order in terms of Total Quantity with Total Quantity UnitPrice=2.245715e+06\n",
    "\n",
    "#### Netherland =200128 Secound maximum  order with Total Quantity and its UnitPrice=6.492550e+03 which is less than  EIRE = \t4.844719e+04 ,so we can say that  EIRE ordered primium Product as if we compaired  with Total Quantity=142637.\n",
    "\n",
    "\n",
    "#### we can see Bahrain and Saudi Arabia\t as lowest Order Quantity \n",
    "\n",
    "#### Netherland Come at 12th possition  if we go total Sum Price  ![image.png](attachment:image.png)\n",
    "\n"
   ]
  },
  {
   "cell_type": "code",
   "execution_count": 18,
   "metadata": {},
   "outputs": [
    {
     "data": {
      "image/png": "[encoded data removed]",
      "text/plain": [
       "<Figure size 1080x360 with 1 Axes>"
      ]
     },
     "metadata": {
      "needs_background": "light"
     },
     "output_type": "display_data"
    }
   ],
   "source": [
    "df.groupby(by=['Country'])['UnitPrice'].sum().reset_index().sort_values(['UnitPrice']).plot(x='Country',\n",
    "                                                                                                           y='UnitPrice',\n",
    "                                                                                                           kind='bar',\n",
    "                                                                                                           figsize=(15,5))\n",
    "plt.show()"
   ]
  },
  {
   "cell_type": "code",
   "execution_count": 19,
   "metadata": {},
   "outputs": [
    {
     "data": {
      "text/html": [
       "<div>\n",
       "<style scoped>\n",
       "    .dataframe tbody tr th:only-of-type {\n",
       "        vertical-align: middle;\n",
       "    }\n",
       "\n",
       "    .dataframe tbody tr th {\n",
       "        vertical-align: top;\n",
       "    }\n",
       "\n",
       "    .dataframe thead th {\n",
       "        text-align: right;\n",
       "    }\n",
       "</style>\n",
       "<table border=\"1\" class=\"dataframe\">\n",
       "  <thead>\n",
       "    <tr style=\"text-align: right;\">\n",
       "      <th></th>\n",
       "      <th>Quantity</th>\n",
       "      <th>UnitPrice</th>\n",
       "      <th>CustomerID</th>\n",
       "    </tr>\n",
       "    <tr>\n",
       "      <th>Country</th>\n",
       "      <th></th>\n",
       "      <th></th>\n",
       "      <th></th>\n",
       "    </tr>\n",
       "  </thead>\n",
       "  <tbody>\n",
       "    <tr>\n",
       "      <th>Singapore</th>\n",
       "      <td>22.855895</td>\n",
       "      <td>109.645808</td>\n",
       "      <td>12744.000000</td>\n",
       "    </tr>\n",
       "    <tr>\n",
       "      <th>Hong Kong</th>\n",
       "      <td>16.559028</td>\n",
       "      <td>42.505208</td>\n",
       "      <td>17841.000000</td>\n",
       "    </tr>\n",
       "    <tr>\n",
       "      <th>Portugal</th>\n",
       "      <td>10.651745</td>\n",
       "      <td>8.582976</td>\n",
       "      <td>12877.287031</td>\n",
       "    </tr>\n",
       "    <tr>\n",
       "      <th>Cyprus</th>\n",
       "      <td>10.155949</td>\n",
       "      <td>6.302363</td>\n",
       "      <td>12404.951768</td>\n",
       "    </tr>\n",
       "    <tr>\n",
       "      <th>Canada</th>\n",
       "      <td>18.298013</td>\n",
       "      <td>6.030331</td>\n",
       "      <td>17321.079470</td>\n",
       "    </tr>\n",
       "    <tr>\n",
       "      <th>Norway</th>\n",
       "      <td>17.722836</td>\n",
       "      <td>6.012026</td>\n",
       "      <td>12437.984346</td>\n",
       "    </tr>\n",
       "    <tr>\n",
       "      <th>EIRE</th>\n",
       "      <td>17.403245</td>\n",
       "      <td>5.911077</td>\n",
       "      <td>15016.678380</td>\n",
       "    </tr>\n",
       "    <tr>\n",
       "      <th>Finland</th>\n",
       "      <td>15.346763</td>\n",
       "      <td>5.448705</td>\n",
       "      <td>12517.012950</td>\n",
       "    </tr>\n",
       "    <tr>\n",
       "      <th>Lebanon</th>\n",
       "      <td>8.577778</td>\n",
       "      <td>5.387556</td>\n",
       "      <td>12764.000000</td>\n",
       "    </tr>\n",
       "    <tr>\n",
       "      <th>Malta</th>\n",
       "      <td>7.433071</td>\n",
       "      <td>5.244173</td>\n",
       "      <td>16996.031496</td>\n",
       "    </tr>\n",
       "    <tr>\n",
       "      <th>France</th>\n",
       "      <td>12.911067</td>\n",
       "      <td>5.028864</td>\n",
       "      <td>12717.818161</td>\n",
       "    </tr>\n",
       "    <tr>\n",
       "      <th>Spain</th>\n",
       "      <td>10.589814</td>\n",
       "      <td>4.987544</td>\n",
       "      <td>12905.365574</td>\n",
       "    </tr>\n",
       "    <tr>\n",
       "      <th>Channel Islands</th>\n",
       "      <td>12.505277</td>\n",
       "      <td>4.932124</td>\n",
       "      <td>14888.151715</td>\n",
       "    </tr>\n",
       "    <tr>\n",
       "      <th>Greece</th>\n",
       "      <td>10.657534</td>\n",
       "      <td>4.885548</td>\n",
       "      <td>13757.424658</td>\n",
       "    </tr>\n",
       "    <tr>\n",
       "      <th>Italy</th>\n",
       "      <td>9.961395</td>\n",
       "      <td>4.831121</td>\n",
       "      <td>12648.397260</td>\n",
       "    </tr>\n",
       "    <tr>\n",
       "      <th>European Community</th>\n",
       "      <td>8.147541</td>\n",
       "      <td>4.820492</td>\n",
       "      <td>15108.000000</td>\n",
       "    </tr>\n",
       "    <tr>\n",
       "      <th>Bahrain</th>\n",
       "      <td>13.684211</td>\n",
       "      <td>4.556316</td>\n",
       "      <td>12932.052632</td>\n",
       "    </tr>\n",
       "    <tr>\n",
       "      <th>United Kingdom</th>\n",
       "      <td>8.605486</td>\n",
       "      <td>4.532422</td>\n",
       "      <td>16166.187389</td>\n",
       "    </tr>\n",
       "    <tr>\n",
       "      <th>Brazil</th>\n",
       "      <td>11.125000</td>\n",
       "      <td>4.456250</td>\n",
       "      <td>12769.000000</td>\n",
       "    </tr>\n",
       "    <tr>\n",
       "      <th>RSA</th>\n",
       "      <td>6.068966</td>\n",
       "      <td>4.277586</td>\n",
       "      <td>12446.000000</td>\n",
       "    </tr>\n",
       "    <tr>\n",
       "      <th>Austria</th>\n",
       "      <td>12.037406</td>\n",
       "      <td>4.243192</td>\n",
       "      <td>12521.451372</td>\n",
       "    </tr>\n",
       "    <tr>\n",
       "      <th>Poland</th>\n",
       "      <td>10.712610</td>\n",
       "      <td>4.170880</td>\n",
       "      <td>12733.055718</td>\n",
       "    </tr>\n",
       "    <tr>\n",
       "      <th>Germany</th>\n",
       "      <td>12.369458</td>\n",
       "      <td>3.966930</td>\n",
       "      <td>12646.139336</td>\n",
       "    </tr>\n",
       "    <tr>\n",
       "      <th>Sweden</th>\n",
       "      <td>77.136364</td>\n",
       "      <td>3.910887</td>\n",
       "      <td>14697.149351</td>\n",
       "    </tr>\n",
       "    <tr>\n",
       "      <th>Belgium</th>\n",
       "      <td>11.189947</td>\n",
       "      <td>3.644335</td>\n",
       "      <td>12430.298695</td>\n",
       "    </tr>\n",
       "    <tr>\n",
       "      <th>Israel</th>\n",
       "      <td>14.656566</td>\n",
       "      <td>3.633131</td>\n",
       "      <td>13478.094276</td>\n",
       "    </tr>\n",
       "    <tr>\n",
       "      <th>Switzerland</th>\n",
       "      <td>15.147353</td>\n",
       "      <td>3.403442</td>\n",
       "      <td>12990.030470</td>\n",
       "    </tr>\n",
       "    <tr>\n",
       "      <th>United Arab Emirates</th>\n",
       "      <td>14.441176</td>\n",
       "      <td>3.380735</td>\n",
       "      <td>14984.588235</td>\n",
       "    </tr>\n",
       "    <tr>\n",
       "      <th>Denmark</th>\n",
       "      <td>21.048843</td>\n",
       "      <td>3.256941</td>\n",
       "      <td>12536.591260</td>\n",
       "    </tr>\n",
       "    <tr>\n",
       "      <th>Australia</th>\n",
       "      <td>66.444003</td>\n",
       "      <td>3.220612</td>\n",
       "      <td>12464.656076</td>\n",
       "    </tr>\n",
       "    <tr>\n",
       "      <th>Czech Republic</th>\n",
       "      <td>19.733333</td>\n",
       "      <td>2.938333</td>\n",
       "      <td>12781.000000</td>\n",
       "    </tr>\n",
       "    <tr>\n",
       "      <th>Lithuania</th>\n",
       "      <td>18.628571</td>\n",
       "      <td>2.841143</td>\n",
       "      <td>15332.000000</td>\n",
       "    </tr>\n",
       "    <tr>\n",
       "      <th>Netherlands</th>\n",
       "      <td>84.406580</td>\n",
       "      <td>2.738317</td>\n",
       "      <td>14420.302826</td>\n",
       "    </tr>\n",
       "    <tr>\n",
       "      <th>Unspecified</th>\n",
       "      <td>7.399103</td>\n",
       "      <td>2.699574</td>\n",
       "      <td>15587.282511</td>\n",
       "    </tr>\n",
       "    <tr>\n",
       "      <th>Iceland</th>\n",
       "      <td>13.505495</td>\n",
       "      <td>2.644011</td>\n",
       "      <td>12347.000000</td>\n",
       "    </tr>\n",
       "    <tr>\n",
       "      <th>Saudi Arabia</th>\n",
       "      <td>7.500000</td>\n",
       "      <td>2.411000</td>\n",
       "      <td>12565.000000</td>\n",
       "    </tr>\n",
       "    <tr>\n",
       "      <th>Japan</th>\n",
       "      <td>70.441341</td>\n",
       "      <td>2.276145</td>\n",
       "      <td>12757.798883</td>\n",
       "    </tr>\n",
       "    <tr>\n",
       "      <th>USA</th>\n",
       "      <td>3.553265</td>\n",
       "      <td>2.216426</td>\n",
       "      <td>12618.852234</td>\n",
       "    </tr>\n",
       "  </tbody>\n",
       "</table>\n",
       "</div>"
      ],
      "text/plain": [
       "                       Quantity   UnitPrice    CustomerID\n",
       "Country                                                  \n",
       "Singapore             22.855895  109.645808  12744.000000\n",
       "Hong Kong             16.559028   42.505208  17841.000000\n",
       "Portugal              10.651745    8.582976  12877.287031\n",
       "Cyprus                10.155949    6.302363  12404.951768\n",
       "Canada                18.298013    6.030331  17321.079470\n",
       "Norway                17.722836    6.012026  12437.984346\n",
       "EIRE                  17.403245    5.911077  15016.678380\n",
       "Finland               15.346763    5.448705  12517.012950\n",
       "Lebanon                8.577778    5.387556  12764.000000\n",
       "Malta                  7.433071    5.244173  16996.031496\n",
       "France                12.911067    5.028864  12717.818161\n",
       "Spain                 10.589814    4.987544  12905.365574\n",
       "Channel Islands       12.505277    4.932124  14888.151715\n",
       "Greece                10.657534    4.885548  13757.424658\n",
       "Italy                  9.961395    4.831121  12648.397260\n",
       "European Community     8.147541    4.820492  15108.000000\n",
       "Bahrain               13.684211    4.556316  12932.052632\n",
       "United Kingdom         8.605486    4.532422  16166.187389\n",
       "Brazil                11.125000    4.456250  12769.000000\n",
       "RSA                    6.068966    4.277586  12446.000000\n",
       "Austria               12.037406    4.243192  12521.451372\n",
       "Poland                10.712610    4.170880  12733.055718\n",
       "Germany               12.369458    3.966930  12646.139336\n",
       "Sweden                77.136364    3.910887  14697.149351\n",
       "Belgium               11.189947    3.644335  12430.298695\n",
       "Israel                14.656566    3.633131  13478.094276\n",
       "Switzerland           15.147353    3.403442  12990.030470\n",
       "United Arab Emirates  14.441176    3.380735  14984.588235\n",
       "Denmark               21.048843    3.256941  12536.591260\n",
       "Australia             66.444003    3.220612  12464.656076\n",
       "Czech Republic        19.733333    2.938333  12781.000000\n",
       "Lithuania             18.628571    2.841143  15332.000000\n",
       "Netherlands           84.406580    2.738317  14420.302826\n",
       "Unspecified            7.399103    2.699574  15587.282511\n",
       "Iceland               13.505495    2.644011  12347.000000\n",
       "Saudi Arabia           7.500000    2.411000  12565.000000\n",
       "Japan                 70.441341    2.276145  12757.798883\n",
       "USA                    3.553265    2.216426  12618.852234"
      ]
     },
     "execution_count": 19,
     "metadata": {},
     "output_type": "execute_result"
    }
   ],
   "source": [
    "df.groupby(['Country']).mean().sort_values(['UnitPrice'],ascending=False)"
   ]
  },
  {
   "cell_type": "code",
   "execution_count": 20,
   "metadata": {},
   "outputs": [
    {
     "data": {
      "text/html": [
       "<div>\n",
       "<style scoped>\n",
       "    .dataframe tbody tr th:only-of-type {\n",
       "        vertical-align: middle;\n",
       "    }\n",
       "\n",
       "    .dataframe tbody tr th {\n",
       "        vertical-align: top;\n",
       "    }\n",
       "\n",
       "    .dataframe thead th {\n",
       "        text-align: right;\n",
       "    }\n",
       "</style>\n",
       "<table border=\"1\" class=\"dataframe\">\n",
       "  <thead>\n",
       "    <tr style=\"text-align: right;\">\n",
       "      <th></th>\n",
       "      <th>Quantity</th>\n",
       "      <th>UnitPrice</th>\n",
       "      <th>CustomerID</th>\n",
       "    </tr>\n",
       "    <tr>\n",
       "      <th>InvoiceNo</th>\n",
       "      <th></th>\n",
       "      <th></th>\n",
       "      <th></th>\n",
       "    </tr>\n",
       "  </thead>\n",
       "  <tbody>\n",
       "    <tr>\n",
       "      <th>581483</th>\n",
       "      <td>80995</td>\n",
       "      <td>2.08</td>\n",
       "      <td>16446.0</td>\n",
       "    </tr>\n",
       "    <tr>\n",
       "      <th>541431</th>\n",
       "      <td>74215</td>\n",
       "      <td>1.04</td>\n",
       "      <td>12346.0</td>\n",
       "    </tr>\n",
       "    <tr>\n",
       "      <th>556917</th>\n",
       "      <td>15049</td>\n",
       "      <td>283.57</td>\n",
       "      <td>1713270.0</td>\n",
       "    </tr>\n",
       "    <tr>\n",
       "      <th>563076</th>\n",
       "      <td>14730</td>\n",
       "      <td>269.39</td>\n",
       "      <td>1742874.0</td>\n",
       "    </tr>\n",
       "    <tr>\n",
       "      <th>574941</th>\n",
       "      <td>14149</td>\n",
       "      <td>498.89</td>\n",
       "      <td>1801941.0</td>\n",
       "    </tr>\n",
       "  </tbody>\n",
       "</table>\n",
       "</div>"
      ],
      "text/plain": [
       "           Quantity  UnitPrice  CustomerID\n",
       "InvoiceNo                                 \n",
       "581483        80995       2.08     16446.0\n",
       "541431        74215       1.04     12346.0\n",
       "556917        15049     283.57   1713270.0\n",
       "563076        14730     269.39   1742874.0\n",
       "574941        14149     498.89   1801941.0"
      ]
     },
     "execution_count": 20,
     "metadata": {},
     "output_type": "execute_result"
    }
   ],
   "source": [
    "df3=df.groupby(['InvoiceNo']).sum().sort_values(['Quantity'],ascending=False)\n",
    "df3.head()"
   ]
  },
  {
   "cell_type": "code",
   "execution_count": 21,
   "metadata": {},
   "outputs": [
    {
     "data": {
      "text/html": [
       "<div>\n",
       "<style scoped>\n",
       "    .dataframe tbody tr th:only-of-type {\n",
       "        vertical-align: middle;\n",
       "    }\n",
       "\n",
       "    .dataframe tbody tr th {\n",
       "        vertical-align: top;\n",
       "    }\n",
       "\n",
       "    .dataframe thead th {\n",
       "        text-align: right;\n",
       "    }\n",
       "</style>\n",
       "<table border=\"1\" class=\"dataframe\">\n",
       "  <thead>\n",
       "    <tr style=\"text-align: right;\">\n",
       "      <th></th>\n",
       "      <th>InvoiceNo</th>\n",
       "      <th>StockCode</th>\n",
       "      <th>Description</th>\n",
       "      <th>Quantity</th>\n",
       "      <th>InvoiceDate</th>\n",
       "      <th>UnitPrice</th>\n",
       "      <th>CustomerID</th>\n",
       "    </tr>\n",
       "    <tr>\n",
       "      <th>Country</th>\n",
       "      <th></th>\n",
       "      <th></th>\n",
       "      <th></th>\n",
       "      <th></th>\n",
       "      <th></th>\n",
       "      <th></th>\n",
       "      <th></th>\n",
       "    </tr>\n",
       "  </thead>\n",
       "  <tbody>\n",
       "    <tr>\n",
       "      <th>United Kingdom</th>\n",
       "      <td>495478</td>\n",
       "      <td>495478</td>\n",
       "      <td>495478</td>\n",
       "      <td>495478</td>\n",
       "      <td>495478</td>\n",
       "      <td>495478</td>\n",
       "      <td>495478</td>\n",
       "    </tr>\n",
       "    <tr>\n",
       "      <th>Germany</th>\n",
       "      <td>9495</td>\n",
       "      <td>9495</td>\n",
       "      <td>9495</td>\n",
       "      <td>9495</td>\n",
       "      <td>9495</td>\n",
       "      <td>9495</td>\n",
       "      <td>9495</td>\n",
       "    </tr>\n",
       "    <tr>\n",
       "      <th>France</th>\n",
       "      <td>8557</td>\n",
       "      <td>8557</td>\n",
       "      <td>8557</td>\n",
       "      <td>8557</td>\n",
       "      <td>8557</td>\n",
       "      <td>8557</td>\n",
       "      <td>8557</td>\n",
       "    </tr>\n",
       "    <tr>\n",
       "      <th>EIRE</th>\n",
       "      <td>8196</td>\n",
       "      <td>8196</td>\n",
       "      <td>8196</td>\n",
       "      <td>8196</td>\n",
       "      <td>8196</td>\n",
       "      <td>8196</td>\n",
       "      <td>8196</td>\n",
       "    </tr>\n",
       "    <tr>\n",
       "      <th>Spain</th>\n",
       "      <td>2533</td>\n",
       "      <td>2533</td>\n",
       "      <td>2533</td>\n",
       "      <td>2533</td>\n",
       "      <td>2533</td>\n",
       "      <td>2533</td>\n",
       "      <td>2533</td>\n",
       "    </tr>\n",
       "    <tr>\n",
       "      <th>Netherlands</th>\n",
       "      <td>2371</td>\n",
       "      <td>2371</td>\n",
       "      <td>2371</td>\n",
       "      <td>2371</td>\n",
       "      <td>2371</td>\n",
       "      <td>2371</td>\n",
       "      <td>2371</td>\n",
       "    </tr>\n",
       "    <tr>\n",
       "      <th>Belgium</th>\n",
       "      <td>2069</td>\n",
       "      <td>2069</td>\n",
       "      <td>2069</td>\n",
       "      <td>2069</td>\n",
       "      <td>2069</td>\n",
       "      <td>2069</td>\n",
       "      <td>2069</td>\n",
       "    </tr>\n",
       "    <tr>\n",
       "      <th>Switzerland</th>\n",
       "      <td>2002</td>\n",
       "      <td>2002</td>\n",
       "      <td>2002</td>\n",
       "      <td>2002</td>\n",
       "      <td>2002</td>\n",
       "      <td>2002</td>\n",
       "      <td>2002</td>\n",
       "    </tr>\n",
       "    <tr>\n",
       "      <th>Portugal</th>\n",
       "      <td>1519</td>\n",
       "      <td>1519</td>\n",
       "      <td>1519</td>\n",
       "      <td>1519</td>\n",
       "      <td>1519</td>\n",
       "      <td>1519</td>\n",
       "      <td>1519</td>\n",
       "    </tr>\n",
       "    <tr>\n",
       "      <th>Australia</th>\n",
       "      <td>1259</td>\n",
       "      <td>1259</td>\n",
       "      <td>1259</td>\n",
       "      <td>1259</td>\n",
       "      <td>1259</td>\n",
       "      <td>1259</td>\n",
       "      <td>1259</td>\n",
       "    </tr>\n",
       "    <tr>\n",
       "      <th>Norway</th>\n",
       "      <td>1086</td>\n",
       "      <td>1086</td>\n",
       "      <td>1086</td>\n",
       "      <td>1086</td>\n",
       "      <td>1086</td>\n",
       "      <td>1086</td>\n",
       "      <td>1086</td>\n",
       "    </tr>\n",
       "    <tr>\n",
       "      <th>Italy</th>\n",
       "      <td>803</td>\n",
       "      <td>803</td>\n",
       "      <td>803</td>\n",
       "      <td>803</td>\n",
       "      <td>803</td>\n",
       "      <td>803</td>\n",
       "      <td>803</td>\n",
       "    </tr>\n",
       "    <tr>\n",
       "      <th>Channel Islands</th>\n",
       "      <td>758</td>\n",
       "      <td>758</td>\n",
       "      <td>758</td>\n",
       "      <td>758</td>\n",
       "      <td>758</td>\n",
       "      <td>758</td>\n",
       "      <td>758</td>\n",
       "    </tr>\n",
       "    <tr>\n",
       "      <th>Finland</th>\n",
       "      <td>695</td>\n",
       "      <td>695</td>\n",
       "      <td>695</td>\n",
       "      <td>695</td>\n",
       "      <td>695</td>\n",
       "      <td>695</td>\n",
       "      <td>695</td>\n",
       "    </tr>\n",
       "    <tr>\n",
       "      <th>Cyprus</th>\n",
       "      <td>622</td>\n",
       "      <td>622</td>\n",
       "      <td>622</td>\n",
       "      <td>622</td>\n",
       "      <td>622</td>\n",
       "      <td>622</td>\n",
       "      <td>622</td>\n",
       "    </tr>\n",
       "    <tr>\n",
       "      <th>Sweden</th>\n",
       "      <td>462</td>\n",
       "      <td>462</td>\n",
       "      <td>462</td>\n",
       "      <td>462</td>\n",
       "      <td>462</td>\n",
       "      <td>462</td>\n",
       "      <td>462</td>\n",
       "    </tr>\n",
       "    <tr>\n",
       "      <th>Unspecified</th>\n",
       "      <td>446</td>\n",
       "      <td>446</td>\n",
       "      <td>446</td>\n",
       "      <td>446</td>\n",
       "      <td>446</td>\n",
       "      <td>446</td>\n",
       "      <td>446</td>\n",
       "    </tr>\n",
       "    <tr>\n",
       "      <th>Austria</th>\n",
       "      <td>401</td>\n",
       "      <td>401</td>\n",
       "      <td>401</td>\n",
       "      <td>401</td>\n",
       "      <td>401</td>\n",
       "      <td>401</td>\n",
       "      <td>401</td>\n",
       "    </tr>\n",
       "    <tr>\n",
       "      <th>Denmark</th>\n",
       "      <td>389</td>\n",
       "      <td>389</td>\n",
       "      <td>389</td>\n",
       "      <td>389</td>\n",
       "      <td>389</td>\n",
       "      <td>389</td>\n",
       "      <td>389</td>\n",
       "    </tr>\n",
       "    <tr>\n",
       "      <th>Japan</th>\n",
       "      <td>358</td>\n",
       "      <td>358</td>\n",
       "      <td>358</td>\n",
       "      <td>358</td>\n",
       "      <td>358</td>\n",
       "      <td>358</td>\n",
       "      <td>358</td>\n",
       "    </tr>\n",
       "    <tr>\n",
       "      <th>Poland</th>\n",
       "      <td>341</td>\n",
       "      <td>341</td>\n",
       "      <td>341</td>\n",
       "      <td>341</td>\n",
       "      <td>341</td>\n",
       "      <td>341</td>\n",
       "      <td>341</td>\n",
       "    </tr>\n",
       "    <tr>\n",
       "      <th>Israel</th>\n",
       "      <td>297</td>\n",
       "      <td>297</td>\n",
       "      <td>297</td>\n",
       "      <td>297</td>\n",
       "      <td>297</td>\n",
       "      <td>297</td>\n",
       "      <td>297</td>\n",
       "    </tr>\n",
       "    <tr>\n",
       "      <th>USA</th>\n",
       "      <td>291</td>\n",
       "      <td>291</td>\n",
       "      <td>291</td>\n",
       "      <td>291</td>\n",
       "      <td>291</td>\n",
       "      <td>291</td>\n",
       "      <td>291</td>\n",
       "    </tr>\n",
       "    <tr>\n",
       "      <th>Hong Kong</th>\n",
       "      <td>288</td>\n",
       "      <td>288</td>\n",
       "      <td>288</td>\n",
       "      <td>288</td>\n",
       "      <td>288</td>\n",
       "      <td>288</td>\n",
       "      <td>288</td>\n",
       "    </tr>\n",
       "    <tr>\n",
       "      <th>Singapore</th>\n",
       "      <td>229</td>\n",
       "      <td>229</td>\n",
       "      <td>229</td>\n",
       "      <td>229</td>\n",
       "      <td>229</td>\n",
       "      <td>229</td>\n",
       "      <td>229</td>\n",
       "    </tr>\n",
       "    <tr>\n",
       "      <th>Iceland</th>\n",
       "      <td>182</td>\n",
       "      <td>182</td>\n",
       "      <td>182</td>\n",
       "      <td>182</td>\n",
       "      <td>182</td>\n",
       "      <td>182</td>\n",
       "      <td>182</td>\n",
       "    </tr>\n",
       "    <tr>\n",
       "      <th>Canada</th>\n",
       "      <td>151</td>\n",
       "      <td>151</td>\n",
       "      <td>151</td>\n",
       "      <td>151</td>\n",
       "      <td>151</td>\n",
       "      <td>151</td>\n",
       "      <td>151</td>\n",
       "    </tr>\n",
       "    <tr>\n",
       "      <th>Greece</th>\n",
       "      <td>146</td>\n",
       "      <td>146</td>\n",
       "      <td>146</td>\n",
       "      <td>146</td>\n",
       "      <td>146</td>\n",
       "      <td>146</td>\n",
       "      <td>146</td>\n",
       "    </tr>\n",
       "    <tr>\n",
       "      <th>Malta</th>\n",
       "      <td>127</td>\n",
       "      <td>127</td>\n",
       "      <td>127</td>\n",
       "      <td>127</td>\n",
       "      <td>127</td>\n",
       "      <td>127</td>\n",
       "      <td>127</td>\n",
       "    </tr>\n",
       "    <tr>\n",
       "      <th>United Arab Emirates</th>\n",
       "      <td>68</td>\n",
       "      <td>68</td>\n",
       "      <td>68</td>\n",
       "      <td>68</td>\n",
       "      <td>68</td>\n",
       "      <td>68</td>\n",
       "      <td>68</td>\n",
       "    </tr>\n",
       "    <tr>\n",
       "      <th>European Community</th>\n",
       "      <td>61</td>\n",
       "      <td>61</td>\n",
       "      <td>61</td>\n",
       "      <td>61</td>\n",
       "      <td>61</td>\n",
       "      <td>61</td>\n",
       "      <td>61</td>\n",
       "    </tr>\n",
       "    <tr>\n",
       "      <th>RSA</th>\n",
       "      <td>58</td>\n",
       "      <td>58</td>\n",
       "      <td>58</td>\n",
       "      <td>58</td>\n",
       "      <td>58</td>\n",
       "      <td>58</td>\n",
       "      <td>58</td>\n",
       "    </tr>\n",
       "    <tr>\n",
       "      <th>Lebanon</th>\n",
       "      <td>45</td>\n",
       "      <td>45</td>\n",
       "      <td>45</td>\n",
       "      <td>45</td>\n",
       "      <td>45</td>\n",
       "      <td>45</td>\n",
       "      <td>45</td>\n",
       "    </tr>\n",
       "    <tr>\n",
       "      <th>Lithuania</th>\n",
       "      <td>35</td>\n",
       "      <td>35</td>\n",
       "      <td>35</td>\n",
       "      <td>35</td>\n",
       "      <td>35</td>\n",
       "      <td>35</td>\n",
       "      <td>35</td>\n",
       "    </tr>\n",
       "    <tr>\n",
       "      <th>Brazil</th>\n",
       "      <td>32</td>\n",
       "      <td>32</td>\n",
       "      <td>32</td>\n",
       "      <td>32</td>\n",
       "      <td>32</td>\n",
       "      <td>32</td>\n",
       "      <td>32</td>\n",
       "    </tr>\n",
       "    <tr>\n",
       "      <th>Czech Republic</th>\n",
       "      <td>30</td>\n",
       "      <td>30</td>\n",
       "      <td>30</td>\n",
       "      <td>30</td>\n",
       "      <td>30</td>\n",
       "      <td>30</td>\n",
       "      <td>30</td>\n",
       "    </tr>\n",
       "    <tr>\n",
       "      <th>Bahrain</th>\n",
       "      <td>19</td>\n",
       "      <td>19</td>\n",
       "      <td>19</td>\n",
       "      <td>19</td>\n",
       "      <td>19</td>\n",
       "      <td>19</td>\n",
       "      <td>19</td>\n",
       "    </tr>\n",
       "    <tr>\n",
       "      <th>Saudi Arabia</th>\n",
       "      <td>10</td>\n",
       "      <td>10</td>\n",
       "      <td>10</td>\n",
       "      <td>10</td>\n",
       "      <td>10</td>\n",
       "      <td>10</td>\n",
       "      <td>10</td>\n",
       "    </tr>\n",
       "  </tbody>\n",
       "</table>\n",
       "</div>"
      ],
      "text/plain": [
       "                      InvoiceNo  StockCode  Description  Quantity  \\\n",
       "Country                                                             \n",
       "United Kingdom           495478     495478       495478    495478   \n",
       "Germany                    9495       9495         9495      9495   \n",
       "France                     8557       8557         8557      8557   \n",
       "EIRE                       8196       8196         8196      8196   \n",
       "Spain                      2533       2533         2533      2533   \n",
       "Netherlands                2371       2371         2371      2371   \n",
       "Belgium                    2069       2069         2069      2069   \n",
       "Switzerland                2002       2002         2002      2002   \n",
       "Portugal                   1519       1519         1519      1519   \n",
       "Australia                  1259       1259         1259      1259   \n",
       "Norway                     1086       1086         1086      1086   \n",
       "Italy                       803        803          803       803   \n",
       "Channel Islands             758        758          758       758   \n",
       "Finland                     695        695          695       695   \n",
       "Cyprus                      622        622          622       622   \n",
       "Sweden                      462        462          462       462   \n",
       "Unspecified                 446        446          446       446   \n",
       "Austria                     401        401          401       401   \n",
       "Denmark                     389        389          389       389   \n",
       "Japan                       358        358          358       358   \n",
       "Poland                      341        341          341       341   \n",
       "Israel                      297        297          297       297   \n",
       "USA                         291        291          291       291   \n",
       "Hong Kong                   288        288          288       288   \n",
       "Singapore                   229        229          229       229   \n",
       "Iceland                     182        182          182       182   \n",
       "Canada                      151        151          151       151   \n",
       "Greece                      146        146          146       146   \n",
       "Malta                       127        127          127       127   \n",
       "United Arab Emirates         68         68           68        68   \n",
       "European Community           61         61           61        61   \n",
       "RSA                          58         58           58        58   \n",
       "Lebanon                      45         45           45        45   \n",
       "Lithuania                    35         35           35        35   \n",
       "Brazil                       32         32           32        32   \n",
       "Czech Republic               30         30           30        30   \n",
       "Bahrain                      19         19           19        19   \n",
       "Saudi Arabia                 10         10           10        10   \n",
       "\n",
       "                      InvoiceDate  UnitPrice  CustomerID  \n",
       "Country                                                   \n",
       "United Kingdom             495478     495478      495478  \n",
       "Germany                      9495       9495        9495  \n",
       "France                       8557       8557        8557  \n",
       "EIRE                         8196       8196        8196  \n",
       "Spain                        2533       2533        2533  \n",
       "Netherlands                  2371       2371        2371  \n",
       "Belgium                      2069       2069        2069  \n",
       "Switzerland                  2002       2002        2002  \n",
       "Portugal                     1519       1519        1519  \n",
       "Australia                    1259       1259        1259  \n",
       "Norway                       1086       1086        1086  \n",
       "Italy                         803        803         803  \n",
       "Channel Islands               758        758         758  \n",
       "Finland                       695        695         695  \n",
       "Cyprus                        622        622         622  \n",
       "Sweden                        462        462         462  \n",
       "Unspecified                   446        446         446  \n",
       "Austria                       401        401         401  \n",
       "Denmark                       389        389         389  \n",
       "Japan                         358        358         358  \n",
       "Poland                        341        341         341  \n",
       "Israel                        297        297         297  \n",
       "USA                           291        291         291  \n",
       "Hong Kong                     288        288         288  \n",
       "Singapore                     229        229         229  \n",
       "Iceland                       182        182         182  \n",
       "Canada                        151        151         151  \n",
       "Greece                        146        146         146  \n",
       "Malta                         127        127         127  \n",
       "United Arab Emirates           68         68          68  \n",
       "European Community             61         61          61  \n",
       "RSA                            58         58          58  \n",
       "Lebanon                        45         45          45  \n",
       "Lithuania                      35         35          35  \n",
       "Brazil                         32         32          32  \n",
       "Czech Republic                 30         30          30  \n",
       "Bahrain                        19         19          19  \n",
       "Saudi Arabia                   10         10          10  "
      ]
     },
     "execution_count": 21,
     "metadata": {},
     "output_type": "execute_result"
    }
   ],
   "source": [
    "\n",
    "df.groupby(['Country']).count().sort_values(['InvoiceNo'],ascending=False)"
   ]
  },
  {
   "cell_type": "code",
   "execution_count": 22,
   "metadata": {},
   "outputs": [
    {
     "data": {
      "image/png": "[encoded data removed]",
      "text/plain": [
       "<Figure size 1080x360 with 1 Axes>"
      ]
     },
     "metadata": {
      "needs_background": "light"
     },
     "output_type": "display_data"
    }
   ],
   "source": [
    "df.groupby(by=['InvoiceNo'])['Quantity'].sum().reset_index().sort_values(['Quantity']).tail(10).plot(x='InvoiceNo',\n",
    "                                                                                                           y='Quantity',\n",
    "                                                                                                           kind='bar',\n",
    "                                                            \n",
    "                                                                                                     figsize=(15,5))\n",
    "plt.show()"
   ]
  },
  {
   "cell_type": "code",
   "execution_count": 23,
   "metadata": {},
   "outputs": [
    {
     "data": {
      "text/html": [
       "<div>\n",
       "<style scoped>\n",
       "    .dataframe tbody tr th:only-of-type {\n",
       "        vertical-align: middle;\n",
       "    }\n",
       "\n",
       "    .dataframe tbody tr th {\n",
       "        vertical-align: top;\n",
       "    }\n",
       "\n",
       "    .dataframe thead th {\n",
       "        text-align: right;\n",
       "    }\n",
       "</style>\n",
       "<table border=\"1\" class=\"dataframe\">\n",
       "  <thead>\n",
       "    <tr style=\"text-align: right;\">\n",
       "      <th></th>\n",
       "      <th>Quantity</th>\n",
       "      <th>UnitPrice</th>\n",
       "      <th>CustomerID</th>\n",
       "    </tr>\n",
       "    <tr>\n",
       "      <th>InvoiceNo</th>\n",
       "      <th></th>\n",
       "      <th></th>\n",
       "      <th></th>\n",
       "    </tr>\n",
       "  </thead>\n",
       "  <tbody>\n",
       "    <tr>\n",
       "      <th>536367</th>\n",
       "      <td>83</td>\n",
       "      <td>58.24</td>\n",
       "      <td>156564.0</td>\n",
       "    </tr>\n",
       "    <tr>\n",
       "      <th>536370</th>\n",
       "      <td>449</td>\n",
       "      <td>55.29</td>\n",
       "      <td>251660.0</td>\n",
       "    </tr>\n",
       "    <tr>\n",
       "      <th>536373</th>\n",
       "      <td>88</td>\n",
       "      <td>53.11</td>\n",
       "      <td>285600.0</td>\n",
       "    </tr>\n",
       "    <tr>\n",
       "      <th>536365</th>\n",
       "      <td>40</td>\n",
       "      <td>27.37</td>\n",
       "      <td>124950.0</td>\n",
       "    </tr>\n",
       "    <tr>\n",
       "      <th>536368</th>\n",
       "      <td>15</td>\n",
       "      <td>19.10</td>\n",
       "      <td>52188.0</td>\n",
       "    </tr>\n",
       "    <tr>\n",
       "      <th>536374</th>\n",
       "      <td>32</td>\n",
       "      <td>10.95</td>\n",
       "      <td>15100.0</td>\n",
       "    </tr>\n",
       "    <tr>\n",
       "      <th>536369</th>\n",
       "      <td>3</td>\n",
       "      <td>5.95</td>\n",
       "      <td>13047.0</td>\n",
       "    </tr>\n",
       "    <tr>\n",
       "      <th>536366</th>\n",
       "      <td>12</td>\n",
       "      <td>3.70</td>\n",
       "      <td>35700.0</td>\n",
       "    </tr>\n",
       "    <tr>\n",
       "      <th>536372</th>\n",
       "      <td>12</td>\n",
       "      <td>3.70</td>\n",
       "      <td>35700.0</td>\n",
       "    </tr>\n",
       "    <tr>\n",
       "      <th>536371</th>\n",
       "      <td>80</td>\n",
       "      <td>2.55</td>\n",
       "      <td>13748.0</td>\n",
       "    </tr>\n",
       "  </tbody>\n",
       "</table>\n",
       "</div>"
      ],
      "text/plain": [
       "           Quantity  UnitPrice  CustomerID\n",
       "InvoiceNo                                 \n",
       "536367           83      58.24    156564.0\n",
       "536370          449      55.29    251660.0\n",
       "536373           88      53.11    285600.0\n",
       "536365           40      27.37    124950.0\n",
       "536368           15      19.10     52188.0\n",
       "536374           32      10.95     15100.0\n",
       "536369            3       5.95     13047.0\n",
       "536366           12       3.70     35700.0\n",
       "536372           12       3.70     35700.0\n",
       "536371           80       2.55     13748.0"
      ]
     },
     "execution_count": 23,
     "metadata": {},
     "output_type": "execute_result"
    }
   ],
   "source": [
    "df.groupby([\"InvoiceNo\"]).sum().head(10).sort_values(['UnitPrice'],ascending=False)"
   ]
  },
  {
   "cell_type": "code",
   "execution_count": 24,
   "metadata": {},
   "outputs": [
    {
     "data": {
      "text/plain": [
       "<matplotlib.axes._subplots.AxesSubplot at 0x12e7932e310>"
      ]
     },
     "execution_count": 24,
     "metadata": {},
     "output_type": "execute_result"
    },
    {
     "data": {
      "image/png": "[encoded data removed]",
      "text/plain": [
       "<Figure size 1080x360 with 1 Axes>"
      ]
     },
     "metadata": {
      "needs_background": "light"
     },
     "output_type": "display_data"
    }
   ],
   "source": [
    "df.groupby(by=[\"InvoiceNo\"])[\"UnitPrice\"].sum().head(10).reset_index().sort_values([\"UnitPrice\"]).head(10).plot(x=\"InvoiceNo\"\n",
    "                                                                                                     ,y=\"UnitPrice\",\n",
    "                                                                                                     kind=\"bar\",\n",
    "                                                                                                     figsize=(15,5))"
   ]
  },
  {
   "attachments": {
    "image.png": {
     "image/png": "[encoded data removed]"
    }
   },
   "cell_type": "markdown",
   "metadata": {},
   "source": [
    "![image.png](attachment:image.png)\n",
    "###  we can see the  Invoice no. 581483= 80995 order in term of Total_Quantity and UnitPrice= 2.08.\n",
    "\n",
    "#### If we Multiple Order to UnitPrice it Give: ~168469\n",
    "\n",
    "### second Invoice no. 541431=74215 order in term of Total_Quantity and UnitPrice=1.04\t\n",
    "\n",
    "#### If we Multiple Order to UnitPrice it Give: ~77183\n",
    "\n",
    "## If we compaire InvoiceNo with UnitPrice \n",
    "\n",
    "###  we can see that InvoiceNo. 536367=83 order quantity with unit price=58.24\n",
    "#### If we Multiple Order to UnitPrice it Give: ~4833\n",
    "\n",
    "###  we can see that InvoiceNo. 536370=449\t order quantity with unit price=55.29\n",
    "#### If we Multiple Order to UnitPrice it Give: ~24825\n",
    "\n",
    "\n",
    "# From above we can say that Quantity give maximum Total_UnitPrice in term of Profit :say "
   ]
  },
  {
   "cell_type": "code",
   "execution_count": 25,
   "metadata": {},
   "outputs": [
    {
     "data": {
      "text/plain": [
       "0"
      ]
     },
     "execution_count": 25,
     "metadata": {},
     "output_type": "execute_result"
    }
   ],
   "source": [
    "df['InvoiceNo'].str.contains('c').sum()"
   ]
  },
  {
   "cell_type": "code",
   "execution_count": 26,
   "metadata": {},
   "outputs": [
    {
     "data": {
      "text/plain": [
       "9291"
      ]
     },
     "execution_count": 26,
     "metadata": {},
     "output_type": "execute_result"
    }
   ],
   "source": [
    "df['InvoiceNo'].str.contains('c').count()"
   ]
  },
  {
   "attachments": {
    "image.png": {
     "image/png": "[encoded data removed]"
    }
   },
   "cell_type": "markdown",
   "metadata": {},
   "source": [
    "![image.png](attachment:image.png)\n",
    "##  Given Data set  contain cancel Order by Given notation C in \"InvoiceNo\" \n",
    "\n",
    "####  Data set contain 9291 cancel order in terms of Counts\n",
    "\n",
    "\n",
    "## If we go with respect to Country then\n",
    "\n",
    "### United Kingdom has maximum cancel order \n",
    "\n",
    "### Netherland and Japan has second Maximum cancel order\n",
    "\n",
    "#### positive Value give order Quantity and Negative Value give cancel order : say"
   ]
  },
  {
   "attachments": {
    "image.png": {
     "image/png": "[encoded data removed]"
    }
   },
   "cell_type": "markdown",
   "metadata": {},
   "source": [
    "![image.png](attachment:image.png)"
   ]
  },
  {
   "cell_type": "code",
   "execution_count": 27,
   "metadata": {},
   "outputs": [
    {
     "data": {
      "text/plain": [
       "([0,\n",
       "  1,\n",
       "  2,\n",
       "  3,\n",
       "  4,\n",
       "  5,\n",
       "  6,\n",
       "  7,\n",
       "  8,\n",
       "  9,\n",
       "  10,\n",
       "  11,\n",
       "  12,\n",
       "  13,\n",
       "  14,\n",
       "  15,\n",
       "  16,\n",
       "  17,\n",
       "  18,\n",
       "  19,\n",
       "  20,\n",
       "  21,\n",
       "  22,\n",
       "  23,\n",
       "  24,\n",
       "  25,\n",
       "  26,\n",
       "  27,\n",
       "  28,\n",
       "  29,\n",
       "  30,\n",
       "  31,\n",
       "  32,\n",
       "  33,\n",
       "  34,\n",
       "  35,\n",
       "  36,\n",
       "  37],\n",
       " <a list of 38 Text major ticklabel objects>)"
      ]
     },
     "execution_count": 27,
     "metadata": {},
     "output_type": "execute_result"
    },
    {
     "data": {
      "image/png": "[encoded data removed]",
      "text/plain": [
       "<Figure size 1008x1080 with 1 Axes>"
      ]
     },
     "metadata": {
      "needs_background": "light"
     },
     "output_type": "display_data"
    }
   ],
   "source": [
    "plt.figure(figsize=(14,15))\n",
    "sns.scatterplot(x=df['Country'],y='Quantity', data=df, size = \"Quantity\")\n",
    "plt.xticks(rotation=90)\n"
   ]
  },
  {
   "cell_type": "markdown",
   "metadata": {},
   "source": [
    "## Outlier_Checking"
   ]
  },
  {
   "cell_type": "code",
   "execution_count": 28,
   "metadata": {},
   "outputs": [
    {
     "data": {
      "image/png": "[encoded data removed]",
      "text/plain": [
       "<Figure size 720x720 with 1 Axes>"
      ]
     },
     "metadata": {
      "needs_background": "light"
     },
     "output_type": "display_data"
    }
   ],
   "source": [
    "# construct box plot for continuous variables\n",
    "plt.figure(figsize=(10,10))\n",
    "df.boxplot(vert=0)\n",
    "plt.show()"
   ]
  },
  {
   "cell_type": "code",
   "execution_count": 29,
   "metadata": {},
   "outputs": [],
   "source": [
    "# Removing_Outliers:\n",
    "def remove_outlier(col):\n",
    "    sorted(col)\n",
    "    Q1,Q3=np.percentile(col,[25,75])\n",
    "    IQR=Q3-Q1\n",
    "    lower_range= Q1-(1.5 * IQR)\n",
    "    upper_range= Q3+(1.5 * IQR)\n",
    "    return lower_range, upper_range"
   ]
  },
  {
   "cell_type": "code",
   "execution_count": 30,
   "metadata": {},
   "outputs": [],
   "source": [
    "lr,ur=remove_outlier(df[\"Quantity\"])\n",
    "df[\"Quantity\"]=np.where(df[\"Quantity\"]>ur,ur,df[\"Quantity\"])\n",
    "df[\"Quantity\"]=np.where(df[\"Quantity\"]<lr,lr,df[\"Quantity\"])\n",
    "\n",
    "lr,ur=remove_outlier(df[\"UnitPrice\"])\n",
    "df[\"UnitPrice\"]=np.where(df[\"UnitPrice\"]>ur,ur,df[\"UnitPrice\"])\n",
    "df[\"UnitPrice\"]=np.where(df[\"UnitPrice\"]<lr,lr,df[\"UnitPrice\"])"
   ]
  },
  {
   "cell_type": "code",
   "execution_count": 31,
   "metadata": {},
   "outputs": [
    {
     "data": {
      "image/png": "[encoded data removed]",
      "text/plain": [
       "<Figure size 1080x576 with 1 Axes>"
      ]
     },
     "metadata": {
      "needs_background": "light"
     },
     "output_type": "display_data"
    }
   ],
   "source": [
    "plt.figure(figsize=(15,8))\n",
    "df.boxplot();"
   ]
  },
  {
   "attachments": {
    "image.png": {
     "image/png": "[encoded data removed]"
    }
   },
   "cell_type": "markdown",
   "metadata": {},
   "source": [
    "![image.png](attachment:image.png)\n",
    "###  BaXplot contain Outlier in UnitPrice and Quantity to treat_outlier  we use Inter_Quartile_Range(IQR) Method \n",
    "\n",
    "#### we are treating Outliers with Upper limit and Lower Limit \n",
    "\n",
    "### by returning Lower_Range and upper_Range  \n",
    "\n",
    "### So there is no outlier Present present Above BoxPlot "
   ]
  },
  {
   "cell_type": "markdown",
   "metadata": {},
   "source": [
    "# Univariate Analysis"
   ]
  },
  {
   "cell_type": "code",
   "execution_count": 32,
   "metadata": {},
   "outputs": [
    {
     "name": "stderr",
     "output_type": "stream",
     "text": [
      "C:\\Users\\anura\\anaconda3\\lib\\site-packages\\seaborn\\_decorators.py:36: FutureWarning: Pass the following variable as a keyword arg: x. From version 0.12, the only valid positional argument will be `data`, and passing other arguments without an explicit keyword will result in an error or misinterpretation.\n",
      "  warnings.warn(\n"
     ]
    },
    {
     "data": {
      "text/plain": [
       "(array([ 0,  1,  2,  3,  4,  5,  6,  7,  8,  9, 10, 11, 12, 13, 14, 15, 16,\n",
       "        17, 18, 19, 20, 21, 22, 23, 24, 25, 26, 27, 28, 29, 30, 31, 32, 33,\n",
       "        34, 35, 36, 37]),\n",
       " <a list of 38 Text major ticklabel objects>)"
      ]
     },
     "execution_count": 32,
     "metadata": {},
     "output_type": "execute_result"
    },
    {
     "data": {
      "image/png": "[encoded data removed]",
      "text/plain": [
       "<Figure size 1008x1080 with 1 Axes>"
      ]
     },
     "metadata": {
      "needs_background": "light"
     },
     "output_type": "display_data"
    }
   ],
   "source": [
    "plt.figure(figsize=(14,15))\n",
    "sns.countplot(df['Country'])\n",
    "plt.xticks(rotation=90)"
   ]
  },
  {
   "cell_type": "code",
   "execution_count": 33,
   "metadata": {},
   "outputs": [
    {
     "name": "stderr",
     "output_type": "stream",
     "text": [
      "C:\\Users\\anura\\anaconda3\\lib\\site-packages\\seaborn\\distributions.py:2619: FutureWarning: `distplot` is a deprecated function and will be removed in a future version. Please adapt your code to use either `displot` (a figure-level function with similar flexibility) or `histplot` (an axes-level function for histograms).\n",
      "  warnings.warn(msg, FutureWarning)\n"
     ]
    },
    {
     "data": {
      "image/png": "[encoded data removed]",
      "text/plain": [
       "<Figure size 1008x1080 with 1 Axes>"
      ]
     },
     "metadata": {
      "needs_background": "light"
     },
     "output_type": "display_data"
    }
   ],
   "source": [
    "plt.figure(figsize=(14,15))\n",
    "sns.distplot(df['UnitPrice']);"
   ]
  },
  {
   "cell_type": "code",
   "execution_count": null,
   "metadata": {},
   "outputs": [],
   "source": []
  },
  {
   "cell_type": "markdown",
   "metadata": {},
   "source": [
    "# Bivariate and Multivariate Analysis"
   ]
  },
  {
   "cell_type": "code",
   "execution_count": 34,
   "metadata": {},
   "outputs": [
    {
     "name": "stderr",
     "output_type": "stream",
     "text": [
      "C:\\Users\\anura\\anaconda3\\lib\\site-packages\\seaborn\\_decorators.py:36: FutureWarning: Pass the following variables as keyword args: x, y. From version 0.12, the only valid positional argument will be `data`, and passing other arguments without an explicit keyword will result in an error or misinterpretation.\n",
      "  warnings.warn(\n"
     ]
    },
    {
     "data": {
      "text/plain": [
       "([0,\n",
       "  1,\n",
       "  2,\n",
       "  3,\n",
       "  4,\n",
       "  5,\n",
       "  6,\n",
       "  7,\n",
       "  8,\n",
       "  9,\n",
       "  10,\n",
       "  11,\n",
       "  12,\n",
       "  13,\n",
       "  14,\n",
       "  15,\n",
       "  16,\n",
       "  17,\n",
       "  18,\n",
       "  19,\n",
       "  20,\n",
       "  21,\n",
       "  22,\n",
       "  23,\n",
       "  24,\n",
       "  25,\n",
       "  26,\n",
       "  27,\n",
       "  28,\n",
       "  29,\n",
       "  30,\n",
       "  31,\n",
       "  32,\n",
       "  33,\n",
       "  34,\n",
       "  35,\n",
       "  36,\n",
       "  37],\n",
       " <a list of 38 Text major ticklabel objects>)"
      ]
     },
     "execution_count": 34,
     "metadata": {},
     "output_type": "execute_result"
    },
    {
     "data": {
      "image/png": "[encoded data removed]",
      "text/plain": [
       "<Figure size 1008x1080 with 1 Axes>"
      ]
     },
     "metadata": {
      "needs_background": "light"
     },
     "output_type": "display_data"
    }
   ],
   "source": [
    "plt.figure(figsize=(14,15))\n",
    "sns.scatterplot(df[\"Country\"],df[\"UnitPrice\"])\n",
    "plt.xticks(rotation=90)"
   ]
  },
  {
   "cell_type": "code",
   "execution_count": 35,
   "metadata": {},
   "outputs": [
    {
     "data": {
      "text/plain": [
       "<seaborn.axisgrid.PairGrid at 0x12e7a2b3940>"
      ]
     },
     "execution_count": 35,
     "metadata": {},
     "output_type": "execute_result"
    },
    {
     "data": {
      "image/png": "[encoded data removed]",
      "text/plain": [
       "<Figure size 540x540 with 12 Axes>"
      ]
     },
     "metadata": {
      "needs_background": "light"
     },
     "output_type": "display_data"
    }
   ],
   "source": [
    "sns.pairplot(df)"
   ]
  },
  {
   "cell_type": "code",
   "execution_count": 36,
   "metadata": {},
   "outputs": [
    {
     "data": {
      "text/html": [
       "<div>\n",
       "<style scoped>\n",
       "    .dataframe tbody tr th:only-of-type {\n",
       "        vertical-align: middle;\n",
       "    }\n",
       "\n",
       "    .dataframe tbody tr th {\n",
       "        vertical-align: top;\n",
       "    }\n",
       "\n",
       "    .dataframe thead th {\n",
       "        text-align: right;\n",
       "    }\n",
       "</style>\n",
       "<table border=\"1\" class=\"dataframe\">\n",
       "  <thead>\n",
       "    <tr style=\"text-align: right;\">\n",
       "      <th></th>\n",
       "      <th>Quantity</th>\n",
       "      <th>UnitPrice</th>\n",
       "      <th>CustomerID</th>\n",
       "    </tr>\n",
       "  </thead>\n",
       "  <tbody>\n",
       "    <tr>\n",
       "      <th>Quantity</th>\n",
       "      <td>1.00000</td>\n",
       "      <td>-0.358790</td>\n",
       "      <td>-0.266700</td>\n",
       "    </tr>\n",
       "    <tr>\n",
       "      <th>UnitPrice</th>\n",
       "      <td>-0.35879</td>\n",
       "      <td>1.000000</td>\n",
       "      <td>0.100043</td>\n",
       "    </tr>\n",
       "    <tr>\n",
       "      <th>CustomerID</th>\n",
       "      <td>-0.26670</td>\n",
       "      <td>0.100043</td>\n",
       "      <td>1.000000</td>\n",
       "    </tr>\n",
       "  </tbody>\n",
       "</table>\n",
       "</div>"
      ],
      "text/plain": [
       "            Quantity  UnitPrice  CustomerID\n",
       "Quantity     1.00000  -0.358790   -0.266700\n",
       "UnitPrice   -0.35879   1.000000    0.100043\n",
       "CustomerID  -0.26670   0.100043    1.000000"
      ]
     },
     "execution_count": 36,
     "metadata": {},
     "output_type": "execute_result"
    }
   ],
   "source": [
    "df.corr()"
   ]
  },
  {
   "cell_type": "code",
   "execution_count": 37,
   "metadata": {},
   "outputs": [
    {
     "data": {
      "image/png": "[encoded data removed]",
      "text/plain": [
       "<Figure size 432x288 with 2 Axes>"
      ]
     },
     "metadata": {
      "needs_background": "light"
     },
     "output_type": "display_data"
    }
   ],
   "source": [
    "sns.heatmap(df.corr(),annot=True);"
   ]
  },
  {
   "cell_type": "markdown",
   "metadata": {},
   "source": [
    "# for  Time-Series"
   ]
  },
  {
   "cell_type": "code",
   "execution_count": 38,
   "metadata": {},
   "outputs": [],
   "source": [
    "df1=pd.read_excel('C:/Users/anura/OneDrive/Desktop/DT Consulting/Meergrow/Online Retail.xlsx',parse_dates=True,index_col='InvoiceDate')\n"
   ]
  },
  {
   "cell_type": "code",
   "execution_count": 39,
   "metadata": {},
   "outputs": [
    {
     "data": {
      "text/html": [
       "<div>\n",
       "<style scoped>\n",
       "    .dataframe tbody tr th:only-of-type {\n",
       "        vertical-align: middle;\n",
       "    }\n",
       "\n",
       "    .dataframe tbody tr th {\n",
       "        vertical-align: top;\n",
       "    }\n",
       "\n",
       "    .dataframe thead th {\n",
       "        text-align: right;\n",
       "    }\n",
       "</style>\n",
       "<table border=\"1\" class=\"dataframe\">\n",
       "  <thead>\n",
       "    <tr style=\"text-align: right;\">\n",
       "      <th></th>\n",
       "      <th>InvoiceNo</th>\n",
       "      <th>StockCode</th>\n",
       "      <th>Description</th>\n",
       "      <th>Quantity</th>\n",
       "      <th>UnitPrice</th>\n",
       "      <th>CustomerID</th>\n",
       "      <th>Country</th>\n",
       "    </tr>\n",
       "    <tr>\n",
       "      <th>InvoiceDate</th>\n",
       "      <th></th>\n",
       "      <th></th>\n",
       "      <th></th>\n",
       "      <th></th>\n",
       "      <th></th>\n",
       "      <th></th>\n",
       "      <th></th>\n",
       "    </tr>\n",
       "  </thead>\n",
       "  <tbody>\n",
       "    <tr>\n",
       "      <th>2010-12-01 08:26:00</th>\n",
       "      <td>536365</td>\n",
       "      <td>85123A</td>\n",
       "      <td>WHITE HANGING HEART T-LIGHT HOLDER</td>\n",
       "      <td>6</td>\n",
       "      <td>2.55</td>\n",
       "      <td>17850.0</td>\n",
       "      <td>United Kingdom</td>\n",
       "    </tr>\n",
       "    <tr>\n",
       "      <th>2010-12-01 08:26:00</th>\n",
       "      <td>536365</td>\n",
       "      <td>71053</td>\n",
       "      <td>WHITE METAL LANTERN</td>\n",
       "      <td>6</td>\n",
       "      <td>3.39</td>\n",
       "      <td>17850.0</td>\n",
       "      <td>United Kingdom</td>\n",
       "    </tr>\n",
       "    <tr>\n",
       "      <th>2010-12-01 08:26:00</th>\n",
       "      <td>536365</td>\n",
       "      <td>84406B</td>\n",
       "      <td>CREAM CUPID HEARTS COAT HANGER</td>\n",
       "      <td>8</td>\n",
       "      <td>2.75</td>\n",
       "      <td>17850.0</td>\n",
       "      <td>United Kingdom</td>\n",
       "    </tr>\n",
       "    <tr>\n",
       "      <th>2010-12-01 08:26:00</th>\n",
       "      <td>536365</td>\n",
       "      <td>84029G</td>\n",
       "      <td>KNITTED UNION FLAG HOT WATER BOTTLE</td>\n",
       "      <td>6</td>\n",
       "      <td>3.39</td>\n",
       "      <td>17850.0</td>\n",
       "      <td>United Kingdom</td>\n",
       "    </tr>\n",
       "    <tr>\n",
       "      <th>2010-12-01 08:26:00</th>\n",
       "      <td>536365</td>\n",
       "      <td>84029E</td>\n",
       "      <td>RED WOOLLY HOTTIE WHITE HEART.</td>\n",
       "      <td>6</td>\n",
       "      <td>3.39</td>\n",
       "      <td>17850.0</td>\n",
       "      <td>United Kingdom</td>\n",
       "    </tr>\n",
       "  </tbody>\n",
       "</table>\n",
       "</div>"
      ],
      "text/plain": [
       "                    InvoiceNo StockCode                          Description  \\\n",
       "InvoiceDate                                                                    \n",
       "2010-12-01 08:26:00    536365    85123A   WHITE HANGING HEART T-LIGHT HOLDER   \n",
       "2010-12-01 08:26:00    536365     71053                  WHITE METAL LANTERN   \n",
       "2010-12-01 08:26:00    536365    84406B       CREAM CUPID HEARTS COAT HANGER   \n",
       "2010-12-01 08:26:00    536365    84029G  KNITTED UNION FLAG HOT WATER BOTTLE   \n",
       "2010-12-01 08:26:00    536365    84029E       RED WOOLLY HOTTIE WHITE HEART.   \n",
       "\n",
       "                     Quantity  UnitPrice  CustomerID         Country  \n",
       "InvoiceDate                                                           \n",
       "2010-12-01 08:26:00         6       2.55     17850.0  United Kingdom  \n",
       "2010-12-01 08:26:00         6       3.39     17850.0  United Kingdom  \n",
       "2010-12-01 08:26:00         8       2.75     17850.0  United Kingdom  \n",
       "2010-12-01 08:26:00         6       3.39     17850.0  United Kingdom  \n",
       "2010-12-01 08:26:00         6       3.39     17850.0  United Kingdom  "
      ]
     },
     "execution_count": 39,
     "metadata": {},
     "output_type": "execute_result"
    }
   ],
   "source": [
    "df1.head()"
   ]
  },
  {
   "cell_type": "code",
   "execution_count": 40,
   "metadata": {},
   "outputs": [
    {
     "data": {
      "text/html": [
       "<div>\n",
       "<style scoped>\n",
       "    .dataframe tbody tr th:only-of-type {\n",
       "        vertical-align: middle;\n",
       "    }\n",
       "\n",
       "    .dataframe tbody tr th {\n",
       "        vertical-align: top;\n",
       "    }\n",
       "\n",
       "    .dataframe thead th {\n",
       "        text-align: right;\n",
       "    }\n",
       "</style>\n",
       "<table border=\"1\" class=\"dataframe\">\n",
       "  <thead>\n",
       "    <tr style=\"text-align: right;\">\n",
       "      <th></th>\n",
       "      <th>UnitPrice</th>\n",
       "      <th>Quantity</th>\n",
       "    </tr>\n",
       "    <tr>\n",
       "      <th>InvoiceDate</th>\n",
       "      <th></th>\n",
       "      <th></th>\n",
       "    </tr>\n",
       "  </thead>\n",
       "  <tbody>\n",
       "    <tr>\n",
       "      <th>2010-12-01 08:26:00</th>\n",
       "      <td>2.55</td>\n",
       "      <td>6</td>\n",
       "    </tr>\n",
       "    <tr>\n",
       "      <th>2010-12-01 08:26:00</th>\n",
       "      <td>3.39</td>\n",
       "      <td>6</td>\n",
       "    </tr>\n",
       "    <tr>\n",
       "      <th>2010-12-01 08:26:00</th>\n",
       "      <td>2.75</td>\n",
       "      <td>8</td>\n",
       "    </tr>\n",
       "    <tr>\n",
       "      <th>2010-12-01 08:26:00</th>\n",
       "      <td>3.39</td>\n",
       "      <td>6</td>\n",
       "    </tr>\n",
       "    <tr>\n",
       "      <th>2010-12-01 08:26:00</th>\n",
       "      <td>3.39</td>\n",
       "      <td>6</td>\n",
       "    </tr>\n",
       "  </tbody>\n",
       "</table>\n",
       "</div>"
      ],
      "text/plain": [
       "                     UnitPrice  Quantity\n",
       "InvoiceDate                             \n",
       "2010-12-01 08:26:00       2.55         6\n",
       "2010-12-01 08:26:00       3.39         6\n",
       "2010-12-01 08:26:00       2.75         8\n",
       "2010-12-01 08:26:00       3.39         6\n",
       "2010-12-01 08:26:00       3.39         6"
      ]
     },
     "execution_count": 40,
     "metadata": {},
     "output_type": "execute_result"
    }
   ],
   "source": [
    "df1=df1[['UnitPrice','Quantity']]\n",
    "df1.head()"
   ]
  },
  {
   "cell_type": "code",
   "execution_count": 41,
   "metadata": {},
   "outputs": [
    {
     "data": {
      "image/png": "[encoded data removed]",
      "text/plain": [
       "<Figure size 1080x576 with 1 Axes>"
      ]
     },
     "metadata": {
      "needs_background": "light"
     },
     "output_type": "display_data"
    }
   ],
   "source": [
    "#Plot the Time Series Data.\n",
    "from pylab import rcParams\n",
    "rcParams['figure.figsize'] = 15,8\n",
    "df1.plot();\n",
    "plt.grid()"
   ]
  },
  {
   "cell_type": "code",
   "execution_count": 156,
   "metadata": {},
   "outputs": [
    {
     "data": {
      "image/png": "[encoded data removed]",
      "text/plain": [
       "<Figure size 1080x576 with 1 Axes>"
      ]
     },
     "metadata": {
      "needs_background": "light"
     },
     "output_type": "display_data"
    }
   ],
   "source": [
    "sns.boxplot(x=df1.index.month,y=df1['Quantity'])\n",
    "plt.grid()"
   ]
  },
  {
   "cell_type": "code",
   "execution_count": 157,
   "metadata": {},
   "outputs": [
    {
     "data": {
      "image/png": "[encoded data removed]",
      "text/plain": [
       "<Figure size 1080x576 with 1 Axes>"
      ]
     },
     "metadata": {
      "needs_background": "light"
     },
     "output_type": "display_data"
    }
   ],
   "source": [
    "sns.boxplot(x=df1.index.month,y=df1['UnitPrice'])\n",
    "plt.grid()"
   ]
  },
  {
   "cell_type": "code",
   "execution_count": 44,
   "metadata": {},
   "outputs": [
    {
     "data": {
      "text/html": [
       "<div>\n",
       "<style scoped>\n",
       "    .dataframe tbody tr th:only-of-type {\n",
       "        vertical-align: middle;\n",
       "    }\n",
       "\n",
       "    .dataframe tbody tr th {\n",
       "        vertical-align: top;\n",
       "    }\n",
       "\n",
       "    .dataframe thead th {\n",
       "        text-align: right;\n",
       "    }\n",
       "</style>\n",
       "<table border=\"1\" class=\"dataframe\">\n",
       "  <thead>\n",
       "    <tr style=\"text-align: right;\">\n",
       "      <th>InvoiceDate</th>\n",
       "      <th>April</th>\n",
       "      <th>August</th>\n",
       "      <th>December</th>\n",
       "      <th>February</th>\n",
       "      <th>January</th>\n",
       "      <th>July</th>\n",
       "      <th>June</th>\n",
       "      <th>March</th>\n",
       "      <th>May</th>\n",
       "      <th>November</th>\n",
       "      <th>October</th>\n",
       "      <th>September</th>\n",
       "    </tr>\n",
       "    <tr>\n",
       "      <th>InvoiceDate</th>\n",
       "      <th></th>\n",
       "      <th></th>\n",
       "      <th></th>\n",
       "      <th></th>\n",
       "      <th></th>\n",
       "      <th></th>\n",
       "      <th></th>\n",
       "      <th></th>\n",
       "      <th></th>\n",
       "      <th></th>\n",
       "      <th></th>\n",
       "      <th></th>\n",
       "    </tr>\n",
       "  </thead>\n",
       "  <tbody>\n",
       "    <tr>\n",
       "      <th>2010</th>\n",
       "      <td>NaN</td>\n",
       "      <td>NaN</td>\n",
       "      <td>6.132644</td>\n",
       "      <td>NaN</td>\n",
       "      <td>NaN</td>\n",
       "      <td>NaN</td>\n",
       "      <td>NaN</td>\n",
       "      <td>NaN</td>\n",
       "      <td>NaN</td>\n",
       "      <td>NaN</td>\n",
       "      <td>NaN</td>\n",
       "      <td>NaN</td>\n",
       "    </tr>\n",
       "    <tr>\n",
       "      <th>2011</th>\n",
       "      <td>4.317588</td>\n",
       "      <td>4.262149</td>\n",
       "      <td>5.246451</td>\n",
       "      <td>4.599876</td>\n",
       "      <td>4.915151</td>\n",
       "      <td>4.350088</td>\n",
       "      <td>5.44333</td>\n",
       "      <td>4.666554</td>\n",
       "      <td>5.149486</td>\n",
       "      <td>3.861952</td>\n",
       "      <td>4.336935</td>\n",
       "      <td>3.966774</td>\n",
       "    </tr>\n",
       "  </tbody>\n",
       "</table>\n",
       "</div>"
      ],
      "text/plain": [
       "InvoiceDate     April    August  December  February   January      July  \\\n",
       "InvoiceDate                                                               \n",
       "2010              NaN       NaN  6.132644       NaN       NaN       NaN   \n",
       "2011         4.317588  4.262149  5.246451  4.599876  4.915151  4.350088   \n",
       "\n",
       "InvoiceDate     June     March       May  November   October  September  \n",
       "InvoiceDate                                                              \n",
       "2010             NaN       NaN       NaN       NaN       NaN        NaN  \n",
       "2011         5.44333  4.666554  5.149486  3.861952  4.336935   3.966774  "
      ]
     },
     "execution_count": 44,
     "metadata": {},
     "output_type": "execute_result"
    }
   ],
   "source": [
    "monthly_UnitPrice_across_years = pd.pivot_table(df1, values = 'UnitPrice', columns = df1.index.month_name(), index = df1.index.year)\n",
    "monthly_UnitPrice_across_years"
   ]
  },
  {
   "cell_type": "code",
   "execution_count": 45,
   "metadata": {},
   "outputs": [
    {
     "data": {
      "text/html": [
       "<div>\n",
       "<style scoped>\n",
       "    .dataframe tbody tr th:only-of-type {\n",
       "        vertical-align: middle;\n",
       "    }\n",
       "\n",
       "    .dataframe tbody tr th {\n",
       "        vertical-align: top;\n",
       "    }\n",
       "\n",
       "    .dataframe thead th {\n",
       "        text-align: right;\n",
       "    }\n",
       "</style>\n",
       "<table border=\"1\" class=\"dataframe\">\n",
       "  <thead>\n",
       "    <tr style=\"text-align: right;\">\n",
       "      <th>InvoiceDate</th>\n",
       "      <th>April</th>\n",
       "      <th>August</th>\n",
       "      <th>December</th>\n",
       "      <th>February</th>\n",
       "      <th>January</th>\n",
       "      <th>July</th>\n",
       "      <th>June</th>\n",
       "      <th>March</th>\n",
       "      <th>May</th>\n",
       "      <th>November</th>\n",
       "      <th>October</th>\n",
       "      <th>September</th>\n",
       "    </tr>\n",
       "    <tr>\n",
       "      <th>InvoiceDate</th>\n",
       "      <th></th>\n",
       "      <th></th>\n",
       "      <th></th>\n",
       "      <th></th>\n",
       "      <th></th>\n",
       "      <th></th>\n",
       "      <th></th>\n",
       "      <th></th>\n",
       "      <th></th>\n",
       "      <th></th>\n",
       "      <th></th>\n",
       "      <th></th>\n",
       "    </tr>\n",
       "  </thead>\n",
       "  <tbody>\n",
       "    <tr>\n",
       "      <th>2010</th>\n",
       "      <td>NaN</td>\n",
       "      <td>NaN</td>\n",
       "      <td>8.056025</td>\n",
       "      <td>NaN</td>\n",
       "      <td>NaN</td>\n",
       "      <td>NaN</td>\n",
       "      <td>NaN</td>\n",
       "      <td>NaN</td>\n",
       "      <td>NaN</td>\n",
       "      <td>NaN</td>\n",
       "      <td>NaN</td>\n",
       "      <td>NaN</td>\n",
       "    </tr>\n",
       "    <tr>\n",
       "      <th>2011</th>\n",
       "      <td>9.663658</td>\n",
       "      <td>11.512272</td>\n",
       "      <td>8.867111</td>\n",
       "      <td>10.033169</td>\n",
       "      <td>8.790679</td>\n",
       "      <td>9.897161</td>\n",
       "      <td>9.264604</td>\n",
       "      <td>9.575269</td>\n",
       "      <td>10.272509</td>\n",
       "      <td>8.73896</td>\n",
       "      <td>9.39271</td>\n",
       "      <td>10.94686</td>\n",
       "    </tr>\n",
       "  </tbody>\n",
       "</table>\n",
       "</div>"
      ],
      "text/plain": [
       "InvoiceDate     April     August  December   February   January      July  \\\n",
       "InvoiceDate                                                                 \n",
       "2010              NaN        NaN  8.056025        NaN       NaN       NaN   \n",
       "2011         9.663658  11.512272  8.867111  10.033169  8.790679  9.897161   \n",
       "\n",
       "InvoiceDate      June     March        May  November  October  September  \n",
       "InvoiceDate                                                               \n",
       "2010              NaN       NaN        NaN       NaN      NaN        NaN  \n",
       "2011         9.264604  9.575269  10.272509   8.73896  9.39271   10.94686  "
      ]
     },
     "execution_count": 45,
     "metadata": {},
     "output_type": "execute_result"
    }
   ],
   "source": [
    "monthly_Quantity_across_years = pd.pivot_table(df1, values = 'Quantity', columns = df1.index.month_name(), index = df1.index.year)\n",
    "monthly_Quantity_across_years"
   ]
  },
  {
   "attachments": {
    "image.png": {
     "image/png": "[encoded data removed]"
    }
   },
   "cell_type": "markdown",
   "metadata": {},
   "source": [
    "![image.png](attachment:image.png)\n",
    "\n",
    "## From the above time series Analysis we can say that if Demand of Quantity increase then Price of Quantity also Increase.\n",
    "\n",
    "### we can see the demand of product increase in the month of May,June,August,December.\n",
    "\n",
    "### we can see Demand of Product decrease in the Month of November,December,January\n"
   ]
  },
  {
   "cell_type": "markdown",
   "metadata": {},
   "source": [
    "# Model Building\n",
    "### from the pair plot we can say that Data is NoN_Linear Clasification_Problem Type so We will go with First Ensemble_Technique"
   ]
  },
  {
   "cell_type": "code",
   "execution_count": 196,
   "metadata": {},
   "outputs": [],
   "source": [
    "for feature in df.columns: \n",
    "    if df[feature].dtype == 'object': \n",
    "        df[feature] = pd.Categorical(df[feature]).codes"
   ]
  },
  {
   "cell_type": "code",
   "execution_count": 197,
   "metadata": {},
   "outputs": [],
   "source": [
    "X=df.drop(['Country','InvoiceNo','StockCode','InvoiceDate','CustomerID'],axis=1)\n",
    "y=df['Country']\n",
    "x_train,x_test,y_train,y_test=train_test_split(X,y,test_size=0.30,random_state=1)"
   ]
  },
  {
   "cell_type": "code",
   "execution_count": 198,
   "metadata": {},
   "outputs": [
    {
     "data": {
      "text/html": [
       "<div>\n",
       "<style scoped>\n",
       "    .dataframe tbody tr th:only-of-type {\n",
       "        vertical-align: middle;\n",
       "    }\n",
       "\n",
       "    .dataframe tbody tr th {\n",
       "        vertical-align: top;\n",
       "    }\n",
       "\n",
       "    .dataframe thead th {\n",
       "        text-align: right;\n",
       "    }\n",
       "</style>\n",
       "<table border=\"1\" class=\"dataframe\">\n",
       "  <thead>\n",
       "    <tr style=\"text-align: right;\">\n",
       "      <th></th>\n",
       "      <th>Description</th>\n",
       "      <th>Quantity</th>\n",
       "      <th>UnitPrice</th>\n",
       "    </tr>\n",
       "  </thead>\n",
       "  <tbody>\n",
       "    <tr>\n",
       "      <th>387168</th>\n",
       "      <td>368</td>\n",
       "      <td>23.5</td>\n",
       "      <td>2.49</td>\n",
       "    </tr>\n",
       "    <tr>\n",
       "      <th>310839</th>\n",
       "      <td>2106</td>\n",
       "      <td>12.0</td>\n",
       "      <td>2.95</td>\n",
       "    </tr>\n",
       "    <tr>\n",
       "      <th>519047</th>\n",
       "      <td>2493</td>\n",
       "      <td>12.0</td>\n",
       "      <td>0.39</td>\n",
       "    </tr>\n",
       "    <tr>\n",
       "      <th>440442</th>\n",
       "      <td>3796</td>\n",
       "      <td>2.0</td>\n",
       "      <td>8.25</td>\n",
       "    </tr>\n",
       "    <tr>\n",
       "      <th>213553</th>\n",
       "      <td>308</td>\n",
       "      <td>20.0</td>\n",
       "      <td>0.42</td>\n",
       "    </tr>\n",
       "  </tbody>\n",
       "</table>\n",
       "</div>"
      ],
      "text/plain": [
       "        Description  Quantity  UnitPrice\n",
       "387168          368      23.5       2.49\n",
       "310839         2106      12.0       2.95\n",
       "519047         2493      12.0       0.39\n",
       "440442         3796       2.0       8.25\n",
       "213553          308      20.0       0.42"
      ]
     },
     "execution_count": 198,
     "metadata": {},
     "output_type": "execute_result"
    }
   ],
   "source": [
    "x_train.head()"
   ]
  },
  {
   "cell_type": "code",
   "execution_count": 199,
   "metadata": {},
   "outputs": [
    {
     "data": {
      "text/html": [
       "<div>\n",
       "<style scoped>\n",
       "    .dataframe tbody tr th:only-of-type {\n",
       "        vertical-align: middle;\n",
       "    }\n",
       "\n",
       "    .dataframe tbody tr th {\n",
       "        vertical-align: top;\n",
       "    }\n",
       "\n",
       "    .dataframe thead th {\n",
       "        text-align: right;\n",
       "    }\n",
       "</style>\n",
       "<table border=\"1\" class=\"dataframe\">\n",
       "  <thead>\n",
       "    <tr style=\"text-align: right;\">\n",
       "      <th></th>\n",
       "      <th>Description</th>\n",
       "      <th>Quantity</th>\n",
       "      <th>UnitPrice</th>\n",
       "    </tr>\n",
       "  </thead>\n",
       "  <tbody>\n",
       "    <tr>\n",
       "      <th>94801</th>\n",
       "      <td>1833</td>\n",
       "      <td>-2.0</td>\n",
       "      <td>3.75</td>\n",
       "    </tr>\n",
       "    <tr>\n",
       "      <th>210111</th>\n",
       "      <td>1067</td>\n",
       "      <td>1.0</td>\n",
       "      <td>8.45</td>\n",
       "    </tr>\n",
       "    <tr>\n",
       "      <th>455946</th>\n",
       "      <td>112</td>\n",
       "      <td>23.5</td>\n",
       "      <td>0.55</td>\n",
       "    </tr>\n",
       "    <tr>\n",
       "      <th>403542</th>\n",
       "      <td>1604</td>\n",
       "      <td>16.0</td>\n",
       "      <td>1.25</td>\n",
       "    </tr>\n",
       "    <tr>\n",
       "      <th>471951</th>\n",
       "      <td>2709</td>\n",
       "      <td>12.0</td>\n",
       "      <td>1.65</td>\n",
       "    </tr>\n",
       "  </tbody>\n",
       "</table>\n",
       "</div>"
      ],
      "text/plain": [
       "        Description  Quantity  UnitPrice\n",
       "94801          1833      -2.0       3.75\n",
       "210111         1067       1.0       8.45\n",
       "455946          112      23.5       0.55\n",
       "403542         1604      16.0       1.25\n",
       "471951         2709      12.0       1.65"
      ]
     },
     "execution_count": 199,
     "metadata": {},
     "output_type": "execute_result"
    }
   ],
   "source": [
    "x_test.head()"
   ]
  },
  {
   "cell_type": "code",
   "execution_count": 200,
   "metadata": {},
   "outputs": [
    {
     "data": {
      "text/plain": [
       "387168    36\n",
       "310839    36\n",
       "519047    36\n",
       "440442    36\n",
       "213553    36\n",
       "Name: Country, dtype: int8"
      ]
     },
     "execution_count": 200,
     "metadata": {},
     "output_type": "execute_result"
    }
   ],
   "source": [
    "y_train.head()"
   ]
  },
  {
   "cell_type": "code",
   "execution_count": 201,
   "metadata": {},
   "outputs": [
    {
     "data": {
      "text/plain": [
       "94801     36\n",
       "210111    36\n",
       "455946    36\n",
       "403542    36\n",
       "471951    14\n",
       "Name: Country, dtype: int8"
      ]
     },
     "execution_count": 201,
     "metadata": {},
     "output_type": "execute_result"
    }
   ],
   "source": [
    "y_test.head()"
   ]
  },
  {
   "cell_type": "markdown",
   "metadata": {},
   "source": [
    "# Ada Boost"
   ]
  },
  {
   "cell_type": "code",
   "execution_count": 202,
   "metadata": {},
   "outputs": [
    {
     "data": {
      "text/plain": [
       "AdaBoostRegressor(n_estimators=100, random_state=1)"
      ]
     },
     "execution_count": 202,
     "metadata": {},
     "output_type": "execute_result"
    }
   ],
   "source": [
    "from sklearn.ensemble import AdaBoostRegressor\n",
    "\n",
    "ADB_model = AdaBoostRegressor(n_estimators=100,random_state=1)\n",
    "ADB_model.fit(x_train,y_train)"
   ]
  },
  {
   "cell_type": "code",
   "execution_count": 203,
   "metadata": {},
   "outputs": [
    {
     "data": {
      "text/plain": [
       "-0.3462128169689238"
      ]
     },
     "execution_count": 203,
     "metadata": {},
     "output_type": "execute_result"
    }
   ],
   "source": [
    "ADB_model.score(x_train,y_train)"
   ]
  },
  {
   "cell_type": "code",
   "execution_count": 204,
   "metadata": {},
   "outputs": [
    {
     "data": {
      "text/plain": [
       "-0.3418957053424374"
      ]
     },
     "execution_count": 204,
     "metadata": {},
     "output_type": "execute_result"
    }
   ],
   "source": [
    "ADB_model.score(x_test,y_test)"
   ]
  },
  {
   "cell_type": "code",
   "execution_count": 205,
   "metadata": {},
   "outputs": [],
   "source": [
    "ADB_y_train_predict = ADB_model.predict(x_train)\n",
    "ADB_y_test_predict = ADB_model.predict(x_test)"
   ]
  },
  {
   "cell_type": "code",
   "execution_count": 206,
   "metadata": {},
   "outputs": [
    {
     "data": {
      "text/plain": [
       "7.220504515787038"
      ]
     },
     "execution_count": 206,
     "metadata": {},
     "output_type": "execute_result"
    }
   ],
   "source": [
    "np.sqrt(metrics.mean_squared_error(y_train,ADB_y_train_predict))"
   ]
  },
  {
   "cell_type": "code",
   "execution_count": 207,
   "metadata": {},
   "outputs": [
    {
     "data": {
      "text/plain": [
       "7.207756088777701"
      ]
     },
     "execution_count": 207,
     "metadata": {},
     "output_type": "execute_result"
    }
   ],
   "source": [
    "np.sqrt(metrics.mean_squared_error(y_test,ADB_y_test_predict))"
   ]
  },
  {
   "cell_type": "code",
   "execution_count": 261,
   "metadata": {},
   "outputs": [
    {
     "name": "stdout",
     "output_type": "stream",
     "text": [
      "-0.3462128169689238\n"
     ]
    }
   ],
   "source": [
    "## Performance Matrix on train data set\n",
    "y_train_predict = ADB_model.predict(x_train)\n",
    "model_score = ADB_model.score(x_train, y_train)\n",
    "print(model_score)\n"
   ]
  },
  {
   "cell_type": "code",
   "execution_count": 263,
   "metadata": {},
   "outputs": [
    {
     "name": "stdout",
     "output_type": "stream",
     "text": [
      "-0.3418957053424374\n"
     ]
    }
   ],
   "source": [
    "## Performance Matrix on test data set\n",
    "y_test_predict = ADB_model.predict(x_test)\n",
    "model_score = ADB_model.score(x_test, y_test)\n",
    "print(model_score)"
   ]
  },
  {
   "cell_type": "markdown",
   "metadata": {},
   "source": [
    "# Gradient Boost"
   ]
  },
  {
   "cell_type": "code",
   "execution_count": 208,
   "metadata": {},
   "outputs": [],
   "source": [
    "from sklearn.ensemble import GradientBoostingRegressor\n",
    "gbcl = GradientBoostingRegressor(random_state=1)\n",
    "gbcl = gbcl.fit(x_train, y_train)"
   ]
  },
  {
   "cell_type": "code",
   "execution_count": 209,
   "metadata": {},
   "outputs": [
    {
     "data": {
      "text/plain": [
       "0.09656146553975764"
      ]
     },
     "execution_count": 209,
     "metadata": {},
     "output_type": "execute_result"
    }
   ],
   "source": [
    "gbcl.score(x_train,y_train)"
   ]
  },
  {
   "cell_type": "code",
   "execution_count": 210,
   "metadata": {},
   "outputs": [
    {
     "data": {
      "text/plain": [
       "0.09417512375148751"
      ]
     },
     "execution_count": 210,
     "metadata": {},
     "output_type": "execute_result"
    }
   ],
   "source": [
    "gbcl.score(x_test,y_test)"
   ]
  },
  {
   "cell_type": "code",
   "execution_count": 211,
   "metadata": {},
   "outputs": [],
   "source": [
    "GB_y_train_predict = gbcl.predict(x_train)\n",
    "GB_y_test_predict = gbcl.predict(x_test)"
   ]
  },
  {
   "cell_type": "code",
   "execution_count": 212,
   "metadata": {},
   "outputs": [
    {
     "data": {
      "text/plain": [
       "5.915071364866841"
      ]
     },
     "execution_count": 212,
     "metadata": {},
     "output_type": "execute_result"
    }
   ],
   "source": [
    "np.sqrt(metrics.mean_squared_error(y_train,GB_y_train_predict))"
   ]
  },
  {
   "cell_type": "code",
   "execution_count": 213,
   "metadata": {},
   "outputs": [
    {
     "data": {
      "text/plain": [
       "5.921923895542421"
      ]
     },
     "execution_count": 213,
     "metadata": {},
     "output_type": "execute_result"
    }
   ],
   "source": [
    "np.sqrt(metrics.mean_squared_error(y_test,GB_y_test_predict))"
   ]
  },
  {
   "cell_type": "code",
   "execution_count": 264,
   "metadata": {},
   "outputs": [
    {
     "name": "stdout",
     "output_type": "stream",
     "text": [
      "0.09656146553975764\n"
     ]
    }
   ],
   "source": [
    "## Performance Matrix on train data set\n",
    "y_train_predict = gbcl.predict(x_train)\n",
    "model_score = gbcl.score(x_train, y_train)\n",
    "print(model_score)"
   ]
  },
  {
   "cell_type": "code",
   "execution_count": 266,
   "metadata": {},
   "outputs": [
    {
     "name": "stdout",
     "output_type": "stream",
     "text": [
      "0.09417512375148751\n"
     ]
    }
   ],
   "source": [
    "## Performance Matrix on test data set\n",
    "y_test_predict = gbcl.predict(x_test)\n",
    "model_score = gbcl.score(x_test, y_test)\n",
    "print(model_score)"
   ]
  },
  {
   "cell_type": "markdown",
   "metadata": {},
   "source": [
    "# Random Forest"
   ]
  },
  {
   "cell_type": "code",
   "execution_count": 270,
   "metadata": {},
   "outputs": [],
   "source": [
    "from sklearn.ensemble import RandomForestRegressor\n",
    "from sklearn.ensemble import RandomForestClassifier"
   ]
  },
  {
   "cell_type": "code",
   "execution_count": 271,
   "metadata": {},
   "outputs": [],
   "source": [
    "rfcl = RandomForestRegressor()\n",
    "rfcl = rfcl.fit(x_train,y_train)"
   ]
  },
  {
   "cell_type": "code",
   "execution_count": 272,
   "metadata": {},
   "outputs": [
    {
     "data": {
      "text/plain": [
       "RandomForestRegressor()"
      ]
     },
     "execution_count": 272,
     "metadata": {},
     "output_type": "execute_result"
    }
   ],
   "source": [
    "rfcl"
   ]
  },
  {
   "cell_type": "code",
   "execution_count": 273,
   "metadata": {},
   "outputs": [
    {
     "data": {
      "text/plain": [
       "0.25422590530264955"
      ]
     },
     "execution_count": 273,
     "metadata": {},
     "output_type": "execute_result"
    }
   ],
   "source": [
    "rfcl.score(x_train,y_train)"
   ]
  },
  {
   "cell_type": "code",
   "execution_count": 274,
   "metadata": {},
   "outputs": [
    {
     "data": {
      "text/plain": [
       "0.12408854730306162"
      ]
     },
     "execution_count": 274,
     "metadata": {},
     "output_type": "execute_result"
    }
   ],
   "source": [
    "rfcl.score(x_test,y_test)"
   ]
  },
  {
   "cell_type": "code",
   "execution_count": 275,
   "metadata": {},
   "outputs": [],
   "source": [
    "RF_y_train_predict = rfcl.predict(x_train)\n",
    "RF_y_test_predict = rfcl.predict(x_test)"
   ]
  },
  {
   "cell_type": "code",
   "execution_count": 276,
   "metadata": {},
   "outputs": [
    {
     "data": {
      "text/plain": [
       "5.374206256590714"
      ]
     },
     "execution_count": 276,
     "metadata": {},
     "output_type": "execute_result"
    }
   ],
   "source": [
    "np.sqrt(metrics.mean_squared_error(y_train,RF_y_train_predict))"
   ]
  },
  {
   "cell_type": "code",
   "execution_count": 277,
   "metadata": {},
   "outputs": [
    {
     "data": {
      "text/plain": [
       "5.8233219672209025"
      ]
     },
     "execution_count": 277,
     "metadata": {},
     "output_type": "execute_result"
    }
   ],
   "source": [
    "np.sqrt(metrics.mean_squared_error(y_test,RF_y_test_predict))"
   ]
  },
  {
   "cell_type": "code",
   "execution_count": 278,
   "metadata": {},
   "outputs": [
    {
     "data": {
      "text/plain": [
       "array([0.53629734, 0.2678941 , 0.19580856])"
      ]
     },
     "execution_count": 278,
     "metadata": {},
     "output_type": "execute_result"
    }
   ],
   "source": [
    "rfcl.feature_importances_"
   ]
  },
  {
   "cell_type": "code",
   "execution_count": 279,
   "metadata": {},
   "outputs": [
    {
     "name": "stdout",
     "output_type": "stream",
     "text": [
      "               Anurag\n",
      "Description  0.536297\n",
      "Quantity     0.267894\n",
      "UnitPrice    0.195809\n"
     ]
    }
   ],
   "source": [
    "print (pd.DataFrame(rfcl.feature_importances_, columns = [\"Anurag\"], index = x_train.columns))"
   ]
  },
  {
   "cell_type": "code",
   "execution_count": 283,
   "metadata": {},
   "outputs": [
    {
     "name": "stdout",
     "output_type": "stream",
     "text": [
      "0.25422590530264955\n"
     ]
    }
   ],
   "source": [
    "## Performance Matrix on train data set\n",
    "y_train_predict = rfcl.predict(x_train)\n",
    "model_score =rfcl.score(x_train, y_train)\n",
    "print(model_score)\n"
   ]
  },
  {
   "cell_type": "code",
   "execution_count": 284,
   "metadata": {},
   "outputs": [
    {
     "name": "stdout",
     "output_type": "stream",
     "text": [
      "0.12408854730306162\n"
     ]
    }
   ],
   "source": [
    "## Performance Matrix on test data set\n",
    "y_test_predict = rfcl.predict(x_test)\n",
    "model_score = rfcl.score(x_test, y_test)\n",
    "print(model_score)"
   ]
  },
  {
   "cell_type": "markdown",
   "metadata": {},
   "source": [
    "# Decision Tree"
   ]
  },
  {
   "cell_type": "code",
   "execution_count": 290,
   "metadata": {},
   "outputs": [
    {
     "data": {
      "text/plain": [
       "DecisionTreeClassifier()"
      ]
     },
     "execution_count": 290,
     "metadata": {},
     "output_type": "execute_result"
    }
   ],
   "source": [
    "from sklearn import tree\n",
    "\n",
    "\n",
    "DT_model= tree.DecisionTreeClassifier()\n",
    "DT_model.fit(x_train, y_train)"
   ]
  },
  {
   "cell_type": "code",
   "execution_count": 291,
   "metadata": {},
   "outputs": [
    {
     "data": {
      "text/plain": [
       "DecisionTreeClassifier()"
      ]
     },
     "execution_count": 291,
     "metadata": {},
     "output_type": "execute_result"
    }
   ],
   "source": [
    "from sklearn import tree\n",
    "\n",
    "\n",
    "DT_model= tree.DecisionTreeClassifier()\n",
    "DT_model.fit(x_train, y_train)"
   ]
  },
  {
   "cell_type": "code",
   "execution_count": 292,
   "metadata": {},
   "outputs": [
    {
     "name": "stdout",
     "output_type": "stream",
     "text": [
      "0.9206429128793471\n",
      "[[   226      0      0 ...      0    612      0]\n",
      " [     0      8      0 ...      0    254      0]\n",
      " [     0      0      2 ...      0     13      0]\n",
      " ...\n",
      " [     0      0      0 ...      6     46      0]\n",
      " [    95      7      0 ...      4 345593      0]\n",
      " [     0      0      0 ...      0    285     21]]\n"
     ]
    },
    {
     "name": "stderr",
     "output_type": "stream",
     "text": [
      "C:\\Users\\anura\\anaconda3\\lib\\site-packages\\sklearn\\metrics\\_classification.py:1248: UndefinedMetricWarning: Precision and F-score are ill-defined and being set to 0.0 in labels with no predicted samples. Use `zero_division` parameter to control this behavior.\n",
      "  _warn_prf(average, modifier, msg_start, len(result))\n",
      "C:\\Users\\anura\\anaconda3\\lib\\site-packages\\sklearn\\metrics\\_classification.py:1248: UndefinedMetricWarning: Precision and F-score are ill-defined and being set to 0.0 in labels with no predicted samples. Use `zero_division` parameter to control this behavior.\n",
      "  _warn_prf(average, modifier, msg_start, len(result))\n",
      "C:\\Users\\anura\\anaconda3\\lib\\site-packages\\sklearn\\metrics\\_classification.py:1248: UndefinedMetricWarning: Precision and F-score are ill-defined and being set to 0.0 in labels with no predicted samples. Use `zero_division` parameter to control this behavior.\n",
      "  _warn_prf(average, modifier, msg_start, len(result))\n"
     ]
    },
    {
     "name": "stdout",
     "output_type": "stream",
     "text": [
      "              precision    recall  f1-score   support\n",
      "\n",
      "           0       0.54      0.25      0.34       899\n",
      "           1       0.42      0.03      0.05       273\n",
      "           2       1.00      0.13      0.24        15\n",
      "           3       0.52      0.04      0.07      1428\n",
      "           4       0.00      0.00      0.00        24\n",
      "           5       0.75      0.03      0.06       104\n",
      "           6       0.62      0.04      0.08       527\n",
      "           7       0.50      0.08      0.13       448\n",
      "           8       0.80      0.50      0.62        24\n",
      "           9       0.52      0.13      0.21       267\n",
      "          10       0.69      0.11      0.19      5669\n",
      "          11       0.50      0.04      0.08        47\n",
      "          12       0.62      0.10      0.17       493\n",
      "          13       0.48      0.08      0.13      6048\n",
      "          14       0.50      0.14      0.22      6675\n",
      "          15       0.75      0.03      0.06        97\n",
      "          16       0.55      0.14      0.22       207\n",
      "          17       0.75      0.10      0.17       124\n",
      "          18       0.48      0.10      0.16       213\n",
      "          19       0.66      0.07      0.12       571\n",
      "          20       0.78      0.25      0.37       252\n",
      "          21       0.67      0.20      0.31        30\n",
      "          22       0.69      0.32      0.44        28\n",
      "          23       0.71      0.14      0.24        85\n",
      "          24       0.64      0.34      0.44      1636\n",
      "          25       0.72      0.07      0.13       758\n",
      "          26       0.57      0.03      0.06       239\n",
      "          27       0.76      0.05      0.09      1045\n",
      "          28       0.00      0.00      0.00        42\n",
      "          29       0.00      0.00      0.00         6\n",
      "          30       0.91      0.06      0.11       166\n",
      "          31       0.70      0.06      0.12      1750\n",
      "          32       0.79      0.10      0.18       312\n",
      "          33       0.70      0.06      0.11      1384\n",
      "          34       0.77      0.36      0.49       196\n",
      "          35       0.60      0.11      0.19        54\n",
      "          36       0.93      1.00      0.96    346888\n",
      "          37       1.00      0.07      0.13       312\n",
      "\n",
      "    accuracy                           0.92    379336\n",
      "   macro avg       0.62      0.14      0.20    379336\n",
      "weighted avg       0.90      0.92      0.89    379336\n",
      "\n"
     ]
    }
   ],
   "source": [
    "## Performance Matrix on train data set\n",
    "y_train_predict = DT_model.predict(x_train)\n",
    "model_score = DT_model.score(x_train, y_train)\n",
    "print(model_score)\n",
    "print(metrics.confusion_matrix(y_train, y_train_predict))\n",
    "print(metrics.classification_report(y_train, y_train_predict))"
   ]
  },
  {
   "cell_type": "code",
   "execution_count": 293,
   "metadata": {},
   "outputs": [
    {
     "name": "stdout",
     "output_type": "stream",
     "text": [
      "0.9084226778124289\n",
      "[[    22      0      0 ...      0    288      0]\n",
      " [     0      0      0 ...      0    116      0]\n",
      " [     0      0      0 ...      0      4      0]\n",
      " ...\n",
      " [     0      0      0 ...      0     14      0]\n",
      " [   112      6      0 ...      6 147093      4]\n",
      " [     0      0      0 ...      0    132      0]]\n"
     ]
    },
    {
     "name": "stderr",
     "output_type": "stream",
     "text": [
      "C:\\Users\\anura\\anaconda3\\lib\\site-packages\\sklearn\\metrics\\_classification.py:1248: UndefinedMetricWarning: Precision and F-score are ill-defined and being set to 0.0 in labels with no predicted samples. Use `zero_division` parameter to control this behavior.\n",
      "  _warn_prf(average, modifier, msg_start, len(result))\n",
      "C:\\Users\\anura\\anaconda3\\lib\\site-packages\\sklearn\\metrics\\_classification.py:1248: UndefinedMetricWarning: Precision and F-score are ill-defined and being set to 0.0 in labels with no predicted samples. Use `zero_division` parameter to control this behavior.\n",
      "  _warn_prf(average, modifier, msg_start, len(result))\n"
     ]
    },
    {
     "name": "stdout",
     "output_type": "stream",
     "text": [
      "              precision    recall  f1-score   support\n",
      "\n",
      "           0       0.12      0.06      0.08       360\n",
      "           1       0.00      0.00      0.00       128\n",
      "           2       0.00      0.00      0.00         4\n",
      "           3       0.04      0.00      0.01       641\n",
      "           4       0.00      0.00      0.00         8\n",
      "           5       0.00      0.00      0.00        47\n",
      "           6       0.09      0.01      0.02       231\n",
      "           7       0.00      0.00      0.00       174\n",
      "           8       0.00      0.00      0.00         6\n",
      "           9       0.04      0.01      0.01       122\n",
      "          10       0.20      0.03      0.05      2527\n",
      "          11       0.25      0.07      0.11        14\n",
      "          12       0.05      0.01      0.02       202\n",
      "          13       0.20      0.04      0.06      2509\n",
      "          14       0.25      0.07      0.11      2820\n",
      "          15       0.00      0.00      0.00        49\n",
      "          16       0.12      0.04      0.06        81\n",
      "          17       0.00      0.00      0.00        58\n",
      "          18       0.00      0.00      0.00        84\n",
      "          19       0.05      0.00      0.01       232\n",
      "          20       0.10      0.03      0.04       106\n",
      "          21       0.00      0.00      0.00        15\n",
      "          22       0.00      0.00      0.00         7\n",
      "          23       0.00      0.00      0.00        42\n",
      "          24       0.41      0.23      0.29       735\n",
      "          25       0.08      0.01      0.02       328\n",
      "          26       0.14      0.01      0.02       102\n",
      "          27       0.02      0.00      0.00       474\n",
      "          28       0.00      0.00      0.00        16\n",
      "          29       0.00      0.00      0.00         4\n",
      "          30       0.09      0.02      0.03        63\n",
      "          31       0.06      0.01      0.02       783\n",
      "          32       0.32      0.05      0.08       150\n",
      "          33       0.01      0.00      0.00       618\n",
      "          34       0.06      0.02      0.03        95\n",
      "          35       0.00      0.00      0.00        14\n",
      "          36       0.92      0.99      0.95    148590\n",
      "          37       0.00      0.00      0.00       134\n",
      "\n",
      "    accuracy                           0.91    162573\n",
      "   macro avg       0.10      0.04      0.05    162573\n",
      "weighted avg       0.86      0.91      0.88    162573\n",
      "\n"
     ]
    },
    {
     "name": "stderr",
     "output_type": "stream",
     "text": [
      "C:\\Users\\anura\\anaconda3\\lib\\site-packages\\sklearn\\metrics\\_classification.py:1248: UndefinedMetricWarning: Precision and F-score are ill-defined and being set to 0.0 in labels with no predicted samples. Use `zero_division` parameter to control this behavior.\n",
      "  _warn_prf(average, modifier, msg_start, len(result))\n"
     ]
    }
   ],
   "source": [
    "## Performance Matrix on test data set\n",
    "y_test_predict = DT_model.predict(x_test)\n",
    "model_score = DT_model.score(x_test, y_test)\n",
    "print(model_score)\n",
    "print(metrics.confusion_matrix(y_test, y_test_predict))\n",
    "print(metrics.classification_report(y_test, y_test_predict))"
   ]
  },
  {
   "cell_type": "code",
   "execution_count": 299,
   "metadata": {},
   "outputs": [
    {
     "name": "stdout",
     "output_type": "stream",
     "text": [
      "0.9144610582702406\n",
      "0.9139894078352494\n"
     ]
    }
   ],
   "source": [
    "DT_model = DecisionTreeClassifier(criterion = 'gini', max_depth = 3, random_state=1)\n",
    "DT_model.fit(x_train, y_train)\n",
    "print(DT_model.score(x_train, y_train))\n",
    "print(DT_model.score(x_test, y_test))"
   ]
  },
  {
   "cell_type": "code",
   "execution_count": 302,
   "metadata": {},
   "outputs": [
    {
     "name": "stdout",
     "output_type": "stream",
     "text": [
      "             Anurag_IMP\n",
      "Description    0.106547\n",
      "Quantity       0.806304\n",
      "UnitPrice      0.087149\n"
     ]
    }
   ],
   "source": [
    "\n",
    "print (pd.DataFrame(DT_model.feature_importances_, columns = [\"Anurag_IMP\"], index = x_train.columns))"
   ]
  },
  {
   "cell_type": "markdown",
   "metadata": {},
   "source": [
    "# Bagging"
   ]
  },
  {
   "cell_type": "code",
   "execution_count": 285,
   "metadata": {},
   "outputs": [
    {
     "data": {
      "text/plain": [
       "BaggingClassifier(base_estimator=DecisionTreeClassifier(), n_estimators=100,\n",
       "                  random_state=1)"
      ]
     },
     "execution_count": 285,
     "metadata": {},
     "output_type": "execute_result"
    }
   ],
   "source": [
    "from sklearn.ensemble import BaggingClassifier\n",
    "from sklearn.tree import DecisionTreeClassifier\n",
    "cart = DecisionTreeClassifier()\n",
    "Bagging_model=BaggingClassifier(base_estimator=cart,n_estimators=100,random_state=1)\n",
    "Bagging_model.fit(x_train, y_train)"
   ]
  },
  {
   "cell_type": "code",
   "execution_count": 286,
   "metadata": {},
   "outputs": [
    {
     "name": "stdout",
     "output_type": "stream",
     "text": [
      "0.9206376405086784\n"
     ]
    }
   ],
   "source": [
    "## Performance Matrix on train data set\n",
    "y_train_predict = Bagging_model.predict(x_train)\n",
    "model_score =Bagging_model.score(x_train, y_train)\n",
    "print(model_score)"
   ]
  },
  {
   "cell_type": "code",
   "execution_count": 287,
   "metadata": {},
   "outputs": [
    {
     "name": "stdout",
     "output_type": "stream",
     "text": [
      "0.9123655219501393\n"
     ]
    }
   ],
   "source": [
    "## Performance Matrix on test data set\n",
    "y_test_predict = Bagging_model.predict(x_test)\n",
    "model_score = Bagging_model.score(x_test, y_test)\n",
    "print(model_score)"
   ]
  },
  {
   "cell_type": "markdown",
   "metadata": {},
   "source": [
    "### From Multivarient Analysis Data set look like NoN-Linear Clasifier as say:\n",
    "\n",
    "# fro such Data set Ensemble technique is the best way to find the best model.\n",
    "\n",
    "### Results Of Model are :\n",
    "\n",
    "## 1) ADA  BOOST : train and test Accuracy Score = 0.34 and 0.34\n",
    "\n",
    "## 2) Gradient Boost: train and test Accuracy Score = 0.096 and 0.094\n",
    "\n",
    "## 3) Random Forest : train and test Accuracy Score = 0.25 and 0.12\n",
    "\n",
    "###                      Anurag(Important Features)\n",
    "\n",
    "#### Description                   0.536297\n",
    "#### Quantity                        0.267894\n",
    "#### UnitPrice                       0.195809\n",
    "\n",
    "#### Important_Features as Anurag gives The Maximum Importance to the Description  which means Description play  Important role after Description it Give Important to Quantity then base on Quantity and Description UnitPrice can Predicted.\n",
    "## But the Accuracy of this model is low as compair to Decision tree and Bagging Technique\n",
    "\n",
    "\n",
    "## 4) Decision Tree: train and test Accuracy Score = 0.92 and 0.90\n",
    "\n",
    "###                               Anurag_IMP\n",
    "\n",
    "####  Description                   0.106547\n",
    "#### Quantity                         0.806304\n",
    "#### UnitPrice                        0.087149\n",
    "\n",
    "#### Important_Features as Anurag_IMP gives The Maximum Importance to the Quantity  which means Quantity play  Important role after Quantity it Give  second Important to Description and  base on Quantity and Description UnitPrice can Predicted.\n",
    "\n",
    "## So From Accuracy, Online_Retail has suggetion that , give Importance to Quantity If Quantity increase Automatically Value of Product description increase and Base on this two Category UnitPrice can Predicted and base on order Demand_Quantity UnitPrice also can be Predicted with the Help Of Sessional_Demand\n",
    "\n",
    "## 5) Bagging : train and test Accuracy Score = 0.92 and 0.91\n",
    "\n",
    "## From All of Model  \"Decision Tree\" and \"Bagging Technique\" good Model  Becuase  If we Overlook The Accuracy Score,CunfussionMatrix And Clasification report recall value is Less than 0.05 so This model is Good As compaire to other.\n",
    "\n",
    "\n"
   ]
  },
  {
   "cell_type": "markdown",
   "metadata": {},
   "source": [
    "# Clustering"
   ]
  },
  {
   "cell_type": "code",
   "execution_count": 224,
   "metadata": {},
   "outputs": [],
   "source": [
    "from sklearn.preprocessing import StandardScaler"
   ]
  },
  {
   "cell_type": "code",
   "execution_count": 225,
   "metadata": {},
   "outputs": [],
   "source": [
    "X = StandardScaler()"
   ]
  },
  {
   "cell_type": "code",
   "execution_count": 226,
   "metadata": {},
   "outputs": [
    {
     "data": {
      "text/html": [
       "<div>\n",
       "<style scoped>\n",
       "    .dataframe tbody tr th:only-of-type {\n",
       "        vertical-align: middle;\n",
       "    }\n",
       "\n",
       "    .dataframe tbody tr th {\n",
       "        vertical-align: top;\n",
       "    }\n",
       "\n",
       "    .dataframe thead th {\n",
       "        text-align: right;\n",
       "    }\n",
       "</style>\n",
       "<table border=\"1\" class=\"dataframe\">\n",
       "  <thead>\n",
       "    <tr style=\"text-align: right;\">\n",
       "      <th></th>\n",
       "      <th>Description</th>\n",
       "      <th>Quantity</th>\n",
       "      <th>UnitPrice</th>\n",
       "      <th>Country</th>\n",
       "    </tr>\n",
       "  </thead>\n",
       "  <tbody>\n",
       "    <tr>\n",
       "      <th>0</th>\n",
       "      <td>3918</td>\n",
       "      <td>6.0</td>\n",
       "      <td>2.55</td>\n",
       "      <td>36</td>\n",
       "    </tr>\n",
       "    <tr>\n",
       "      <th>1</th>\n",
       "      <td>3926</td>\n",
       "      <td>6.0</td>\n",
       "      <td>3.39</td>\n",
       "      <td>36</td>\n",
       "    </tr>\n",
       "    <tr>\n",
       "      <th>2</th>\n",
       "      <td>913</td>\n",
       "      <td>8.0</td>\n",
       "      <td>2.75</td>\n",
       "      <td>36</td>\n",
       "    </tr>\n",
       "    <tr>\n",
       "      <th>3</th>\n",
       "      <td>1910</td>\n",
       "      <td>6.0</td>\n",
       "      <td>3.39</td>\n",
       "      <td>36</td>\n",
       "    </tr>\n",
       "    <tr>\n",
       "      <th>4</th>\n",
       "      <td>2911</td>\n",
       "      <td>6.0</td>\n",
       "      <td>3.39</td>\n",
       "      <td>36</td>\n",
       "    </tr>\n",
       "  </tbody>\n",
       "</table>\n",
       "</div>"
      ],
      "text/plain": [
       "   Description  Quantity  UnitPrice  Country\n",
       "0         3918       6.0       2.55       36\n",
       "1         3926       6.0       3.39       36\n",
       "2          913       8.0       2.75       36\n",
       "3         1910       6.0       3.39       36\n",
       "4         2911       6.0       3.39       36"
      ]
     },
     "execution_count": 226,
     "metadata": {},
     "output_type": "execute_result"
    }
   ],
   "source": [
    "df2=df.drop(['InvoiceNo','StockCode','InvoiceDate','CustomerID'],axis=1)\n",
    "df2.head()"
   ]
  },
  {
   "cell_type": "code",
   "execution_count": 227,
   "metadata": {},
   "outputs": [
    {
     "name": "stdout",
     "output_type": "stream",
     "text": [
      "<class 'pandas.core.frame.DataFrame'>\n",
      "RangeIndex: 541909 entries, 0 to 541908\n",
      "Data columns (total 4 columns):\n",
      " #   Column       Non-Null Count   Dtype  \n",
      "---  ------       --------------   -----  \n",
      " 0   Description  541909 non-null  int16  \n",
      " 1   Quantity     541909 non-null  float64\n",
      " 2   UnitPrice    541909 non-null  float64\n",
      " 3   Country      541909 non-null  int8   \n",
      "dtypes: float64(2), int16(1), int8(1)\n",
      "memory usage: 9.8 MB\n"
     ]
    }
   ],
   "source": [
    "df2.info()"
   ]
  },
  {
   "cell_type": "code",
   "execution_count": 228,
   "metadata": {},
   "outputs": [
    {
     "data": {
      "text/html": [
       "<div>\n",
       "<style scoped>\n",
       "    .dataframe tbody tr th:only-of-type {\n",
       "        vertical-align: middle;\n",
       "    }\n",
       "\n",
       "    .dataframe tbody tr th {\n",
       "        vertical-align: top;\n",
       "    }\n",
       "\n",
       "    .dataframe thead th {\n",
       "        text-align: right;\n",
       "    }\n",
       "</style>\n",
       "<table border=\"1\" class=\"dataframe\">\n",
       "  <thead>\n",
       "    <tr style=\"text-align: right;\">\n",
       "      <th></th>\n",
       "      <th>count</th>\n",
       "      <th>mean</th>\n",
       "      <th>std</th>\n",
       "      <th>min</th>\n",
       "      <th>25%</th>\n",
       "      <th>50%</th>\n",
       "      <th>75%</th>\n",
       "      <th>max</th>\n",
       "    </tr>\n",
       "  </thead>\n",
       "  <tbody>\n",
       "    <tr>\n",
       "      <th>Description</th>\n",
       "      <td>541909.0</td>\n",
       "      <td>2135.446459</td>\n",
       "      <td>1147.656338</td>\n",
       "      <td>0.00</td>\n",
       "      <td>1209.00</td>\n",
       "      <td>2101.00</td>\n",
       "      <td>3129.00</td>\n",
       "      <td>4222.00</td>\n",
       "    </tr>\n",
       "    <tr>\n",
       "      <th>Quantity</th>\n",
       "      <td>541909.0</td>\n",
       "      <td>6.489984</td>\n",
       "      <td>7.298093</td>\n",
       "      <td>-12.50</td>\n",
       "      <td>1.00</td>\n",
       "      <td>3.00</td>\n",
       "      <td>10.00</td>\n",
       "      <td>23.50</td>\n",
       "    </tr>\n",
       "    <tr>\n",
       "      <th>UnitPrice</th>\n",
       "      <td>541909.0</td>\n",
       "      <td>2.955909</td>\n",
       "      <td>2.406223</td>\n",
       "      <td>-3.07</td>\n",
       "      <td>1.25</td>\n",
       "      <td>2.08</td>\n",
       "      <td>4.13</td>\n",
       "      <td>8.45</td>\n",
       "    </tr>\n",
       "    <tr>\n",
       "      <th>Country</th>\n",
       "      <td>541909.0</td>\n",
       "      <td>34.259772</td>\n",
       "      <td>6.222861</td>\n",
       "      <td>0.00</td>\n",
       "      <td>36.00</td>\n",
       "      <td>36.00</td>\n",
       "      <td>36.00</td>\n",
       "      <td>37.00</td>\n",
       "    </tr>\n",
       "  </tbody>\n",
       "</table>\n",
       "</div>"
      ],
      "text/plain": [
       "                count         mean          std    min      25%      50%  \\\n",
       "Description  541909.0  2135.446459  1147.656338   0.00  1209.00  2101.00   \n",
       "Quantity     541909.0     6.489984     7.298093 -12.50     1.00     3.00   \n",
       "UnitPrice    541909.0     2.955909     2.406223  -3.07     1.25     2.08   \n",
       "Country      541909.0    34.259772     6.222861   0.00    36.00    36.00   \n",
       "\n",
       "                 75%      max  \n",
       "Description  3129.00  4222.00  \n",
       "Quantity       10.00    23.50  \n",
       "UnitPrice       4.13     8.45  \n",
       "Country        36.00    37.00  "
      ]
     },
     "execution_count": 228,
     "metadata": {},
     "output_type": "execute_result"
    }
   ],
   "source": [
    "df2.describe().T"
   ]
  },
  {
   "cell_type": "code",
   "execution_count": 229,
   "metadata": {},
   "outputs": [],
   "source": [
    "scaled_df = X.fit_transform(df2)"
   ]
  },
  {
   "cell_type": "code",
   "execution_count": 230,
   "metadata": {},
   "outputs": [
    {
     "data": {
      "text/plain": [
       "array([[ 1.55321339, -0.06713864, -0.16869146,  0.27965099],\n",
       "       [ 1.56018412, -0.06713864,  0.18040372,  0.27965099],\n",
       "       [-1.06516868,  0.20690581, -0.08557356,  0.27965099],\n",
       "       ...,\n",
       "       [-1.20806873, -0.34118308,  0.49625174, -3.41640162],\n",
       "       [-1.20894007, -0.34118308,  0.49625174, -3.41640162],\n",
       "       [-1.59581583, -0.47820531,  0.82872334, -3.41640162]])"
      ]
     },
     "execution_count": 230,
     "metadata": {},
     "output_type": "execute_result"
    }
   ],
   "source": [
    "scaled_df"
   ]
  },
  {
   "cell_type": "code",
   "execution_count": 231,
   "metadata": {},
   "outputs": [],
   "source": [
    "from sklearn.cluster import KMeans \n",
    "k_means = KMeans(n_clusters = 2)"
   ]
  },
  {
   "cell_type": "code",
   "execution_count": 232,
   "metadata": {},
   "outputs": [
    {
     "data": {
      "text/plain": [
       "KMeans(n_clusters=2)"
      ]
     },
     "execution_count": 232,
     "metadata": {},
     "output_type": "execute_result"
    }
   ],
   "source": [
    "k_means.fit(scaled_df)"
   ]
  },
  {
   "cell_type": "code",
   "execution_count": 233,
   "metadata": {},
   "outputs": [
    {
     "data": {
      "text/plain": [
       "1655247.9238009586"
      ]
     },
     "execution_count": 233,
     "metadata": {},
     "output_type": "execute_result"
    }
   ],
   "source": [
    "k_means.inertia_"
   ]
  },
  {
   "cell_type": "code",
   "execution_count": 234,
   "metadata": {},
   "outputs": [],
   "source": [
    "wss =[] "
   ]
  },
  {
   "cell_type": "code",
   "execution_count": 235,
   "metadata": {},
   "outputs": [],
   "source": [
    "for i in range(1,11):\n",
    "    KM = KMeans(n_clusters=i)\n",
    "    KM.fit(scaled_df)\n",
    "    wss.append(KM.inertia_)"
   ]
  },
  {
   "cell_type": "code",
   "execution_count": 236,
   "metadata": {},
   "outputs": [
    {
     "data": {
      "text/plain": [
       "[2167635.999999593,\n",
       " 1643690.396204512,\n",
       " 1211830.4487204938,\n",
       " 908679.7265541295,\n",
       " 672816.6366695872,\n",
       " 597003.5506595039,\n",
       " 534236.2058329264,\n",
       " 487326.62486013275,\n",
       " 442647.77737813466,\n",
       " 413139.09421007073]"
      ]
     },
     "execution_count": 236,
     "metadata": {},
     "output_type": "execute_result"
    }
   ],
   "source": [
    "wss"
   ]
  },
  {
   "cell_type": "code",
   "execution_count": 237,
   "metadata": {},
   "outputs": [
    {
     "data": {
      "image/png": "[encoded data removed]",
      "text/plain": [
       "<Figure size 1080x576 with 1 Axes>"
      ]
     },
     "metadata": {
      "needs_background": "light"
     },
     "output_type": "display_data"
    }
   ],
   "source": [
    "plt.plot(range(1,11), wss);"
   ]
  },
  {
   "cell_type": "code",
   "execution_count": 238,
   "metadata": {},
   "outputs": [],
   "source": [
    "k_means = KMeans(n_clusters = 5)\n",
    "k_means.fit(scaled_df)\n",
    "labels = k_means.labels_"
   ]
  },
  {
   "cell_type": "code",
   "execution_count": 239,
   "metadata": {},
   "outputs": [
    {
     "data": {
      "text/html": [
       "<div>\n",
       "<style scoped>\n",
       "    .dataframe tbody tr th:only-of-type {\n",
       "        vertical-align: middle;\n",
       "    }\n",
       "\n",
       "    .dataframe tbody tr th {\n",
       "        vertical-align: top;\n",
       "    }\n",
       "\n",
       "    .dataframe thead th {\n",
       "        text-align: right;\n",
       "    }\n",
       "</style>\n",
       "<table border=\"1\" class=\"dataframe\">\n",
       "  <thead>\n",
       "    <tr style=\"text-align: right;\">\n",
       "      <th></th>\n",
       "      <th>Description</th>\n",
       "      <th>Quantity</th>\n",
       "      <th>UnitPrice</th>\n",
       "      <th>Country</th>\n",
       "      <th>Clus_kmeans</th>\n",
       "    </tr>\n",
       "  </thead>\n",
       "  <tbody>\n",
       "    <tr>\n",
       "      <th>0</th>\n",
       "      <td>3918</td>\n",
       "      <td>6.0</td>\n",
       "      <td>2.55</td>\n",
       "      <td>36</td>\n",
       "      <td>4</td>\n",
       "    </tr>\n",
       "    <tr>\n",
       "      <th>1</th>\n",
       "      <td>3926</td>\n",
       "      <td>6.0</td>\n",
       "      <td>3.39</td>\n",
       "      <td>36</td>\n",
       "      <td>4</td>\n",
       "    </tr>\n",
       "    <tr>\n",
       "      <th>2</th>\n",
       "      <td>913</td>\n",
       "      <td>8.0</td>\n",
       "      <td>2.75</td>\n",
       "      <td>36</td>\n",
       "      <td>3</td>\n",
       "    </tr>\n",
       "    <tr>\n",
       "      <th>3</th>\n",
       "      <td>1910</td>\n",
       "      <td>6.0</td>\n",
       "      <td>3.39</td>\n",
       "      <td>36</td>\n",
       "      <td>3</td>\n",
       "    </tr>\n",
       "    <tr>\n",
       "      <th>4</th>\n",
       "      <td>2911</td>\n",
       "      <td>6.0</td>\n",
       "      <td>3.39</td>\n",
       "      <td>36</td>\n",
       "      <td>4</td>\n",
       "    </tr>\n",
       "    <tr>\n",
       "      <th>5</th>\n",
       "      <td>3158</td>\n",
       "      <td>2.0</td>\n",
       "      <td>7.65</td>\n",
       "      <td>36</td>\n",
       "      <td>0</td>\n",
       "    </tr>\n",
       "    <tr>\n",
       "      <th>6</th>\n",
       "      <td>1529</td>\n",
       "      <td>6.0</td>\n",
       "      <td>4.25</td>\n",
       "      <td>36</td>\n",
       "      <td>3</td>\n",
       "    </tr>\n",
       "    <tr>\n",
       "      <th>7</th>\n",
       "      <td>1653</td>\n",
       "      <td>6.0</td>\n",
       "      <td>1.85</td>\n",
       "      <td>36</td>\n",
       "      <td>3</td>\n",
       "    </tr>\n",
       "    <tr>\n",
       "      <th>8</th>\n",
       "      <td>1650</td>\n",
       "      <td>6.0</td>\n",
       "      <td>1.85</td>\n",
       "      <td>36</td>\n",
       "      <td>3</td>\n",
       "    </tr>\n",
       "    <tr>\n",
       "      <th>9</th>\n",
       "      <td>244</td>\n",
       "      <td>23.5</td>\n",
       "      <td>1.69</td>\n",
       "      <td>36</td>\n",
       "      <td>1</td>\n",
       "    </tr>\n",
       "  </tbody>\n",
       "</table>\n",
       "</div>"
      ],
      "text/plain": [
       "   Description  Quantity  UnitPrice  Country  Clus_kmeans\n",
       "0         3918       6.0       2.55       36            4\n",
       "1         3926       6.0       3.39       36            4\n",
       "2          913       8.0       2.75       36            3\n",
       "3         1910       6.0       3.39       36            3\n",
       "4         2911       6.0       3.39       36            4\n",
       "5         3158       2.0       7.65       36            0\n",
       "6         1529       6.0       4.25       36            3\n",
       "7         1653       6.0       1.85       36            3\n",
       "8         1650       6.0       1.85       36            3\n",
       "9          244      23.5       1.69       36            1"
      ]
     },
     "execution_count": 239,
     "metadata": {},
     "output_type": "execute_result"
    }
   ],
   "source": [
    "df2[\"Clus_kmeans\"] = labels\n",
    "df2.head(10)"
   ]
  },
  {
   "cell_type": "code",
   "execution_count": 240,
   "metadata": {},
   "outputs": [
    {
     "data": {
      "text/html": [
       "<div>\n",
       "<style scoped>\n",
       "    .dataframe tbody tr th:only-of-type {\n",
       "        vertical-align: middle;\n",
       "    }\n",
       "\n",
       "    .dataframe tbody tr th {\n",
       "        vertical-align: top;\n",
       "    }\n",
       "\n",
       "    .dataframe thead th {\n",
       "        text-align: right;\n",
       "    }\n",
       "</style>\n",
       "<table border=\"1\" class=\"dataframe\">\n",
       "  <thead>\n",
       "    <tr style=\"text-align: right;\">\n",
       "      <th></th>\n",
       "      <th>Description</th>\n",
       "      <th>Quantity</th>\n",
       "      <th>UnitPrice</th>\n",
       "      <th>Country</th>\n",
       "      <th>Clus_kmeans</th>\n",
       "    </tr>\n",
       "  </thead>\n",
       "  <tbody>\n",
       "    <tr>\n",
       "      <th>0</th>\n",
       "      <td>3918</td>\n",
       "      <td>6.0</td>\n",
       "      <td>2.55</td>\n",
       "      <td>36</td>\n",
       "      <td>4</td>\n",
       "    </tr>\n",
       "    <tr>\n",
       "      <th>1</th>\n",
       "      <td>3926</td>\n",
       "      <td>6.0</td>\n",
       "      <td>3.39</td>\n",
       "      <td>36</td>\n",
       "      <td>4</td>\n",
       "    </tr>\n",
       "    <tr>\n",
       "      <th>4</th>\n",
       "      <td>2911</td>\n",
       "      <td>6.0</td>\n",
       "      <td>3.39</td>\n",
       "      <td>36</td>\n",
       "      <td>4</td>\n",
       "    </tr>\n",
       "    <tr>\n",
       "      <th>2</th>\n",
       "      <td>913</td>\n",
       "      <td>8.0</td>\n",
       "      <td>2.75</td>\n",
       "      <td>36</td>\n",
       "      <td>3</td>\n",
       "    </tr>\n",
       "    <tr>\n",
       "      <th>3</th>\n",
       "      <td>1910</td>\n",
       "      <td>6.0</td>\n",
       "      <td>3.39</td>\n",
       "      <td>36</td>\n",
       "      <td>3</td>\n",
       "    </tr>\n",
       "    <tr>\n",
       "      <th>6</th>\n",
       "      <td>1529</td>\n",
       "      <td>6.0</td>\n",
       "      <td>4.25</td>\n",
       "      <td>36</td>\n",
       "      <td>3</td>\n",
       "    </tr>\n",
       "    <tr>\n",
       "      <th>7</th>\n",
       "      <td>1653</td>\n",
       "      <td>6.0</td>\n",
       "      <td>1.85</td>\n",
       "      <td>36</td>\n",
       "      <td>3</td>\n",
       "    </tr>\n",
       "    <tr>\n",
       "      <th>8</th>\n",
       "      <td>1650</td>\n",
       "      <td>6.0</td>\n",
       "      <td>1.85</td>\n",
       "      <td>36</td>\n",
       "      <td>3</td>\n",
       "    </tr>\n",
       "    <tr>\n",
       "      <th>9</th>\n",
       "      <td>244</td>\n",
       "      <td>23.5</td>\n",
       "      <td>1.69</td>\n",
       "      <td>36</td>\n",
       "      <td>1</td>\n",
       "    </tr>\n",
       "    <tr>\n",
       "      <th>5</th>\n",
       "      <td>3158</td>\n",
       "      <td>2.0</td>\n",
       "      <td>7.65</td>\n",
       "      <td>36</td>\n",
       "      <td>0</td>\n",
       "    </tr>\n",
       "  </tbody>\n",
       "</table>\n",
       "</div>"
      ],
      "text/plain": [
       "   Description  Quantity  UnitPrice  Country  Clus_kmeans\n",
       "0         3918       6.0       2.55       36            4\n",
       "1         3926       6.0       3.39       36            4\n",
       "4         2911       6.0       3.39       36            4\n",
       "2          913       8.0       2.75       36            3\n",
       "3         1910       6.0       3.39       36            3\n",
       "6         1529       6.0       4.25       36            3\n",
       "7         1653       6.0       1.85       36            3\n",
       "8         1650       6.0       1.85       36            3\n",
       "9          244      23.5       1.69       36            1\n",
       "5         3158       2.0       7.65       36            0"
      ]
     },
     "execution_count": 240,
     "metadata": {},
     "output_type": "execute_result"
    }
   ],
   "source": [
    "df2.head(10).sort_values([\"Clus_kmeans\"],ascending=False)"
   ]
  },
  {
   "cell_type": "code",
   "execution_count": 241,
   "metadata": {},
   "outputs": [
    {
     "data": {
      "text/html": [
       "<div>\n",
       "<style scoped>\n",
       "    .dataframe tbody tr th:only-of-type {\n",
       "        vertical-align: middle;\n",
       "    }\n",
       "\n",
       "    .dataframe tbody tr th {\n",
       "        vertical-align: top;\n",
       "    }\n",
       "\n",
       "    .dataframe thead th {\n",
       "        text-align: right;\n",
       "    }\n",
       "</style>\n",
       "<table border=\"1\" class=\"dataframe\">\n",
       "  <thead>\n",
       "    <tr style=\"text-align: right;\">\n",
       "      <th></th>\n",
       "      <th>Quantity</th>\n",
       "      <th>UnitPrice</th>\n",
       "      <th>Country</th>\n",
       "      <th>Clus_kmeans</th>\n",
       "    </tr>\n",
       "  </thead>\n",
       "  <tbody>\n",
       "    <tr>\n",
       "      <th>0</th>\n",
       "      <td>6.0</td>\n",
       "      <td>2.55</td>\n",
       "      <td>36</td>\n",
       "      <td>4</td>\n",
       "    </tr>\n",
       "    <tr>\n",
       "      <th>1</th>\n",
       "      <td>6.0</td>\n",
       "      <td>3.39</td>\n",
       "      <td>36</td>\n",
       "      <td>4</td>\n",
       "    </tr>\n",
       "    <tr>\n",
       "      <th>2</th>\n",
       "      <td>8.0</td>\n",
       "      <td>2.75</td>\n",
       "      <td>36</td>\n",
       "      <td>3</td>\n",
       "    </tr>\n",
       "    <tr>\n",
       "      <th>3</th>\n",
       "      <td>6.0</td>\n",
       "      <td>3.39</td>\n",
       "      <td>36</td>\n",
       "      <td>3</td>\n",
       "    </tr>\n",
       "    <tr>\n",
       "      <th>4</th>\n",
       "      <td>6.0</td>\n",
       "      <td>3.39</td>\n",
       "      <td>36</td>\n",
       "      <td>4</td>\n",
       "    </tr>\n",
       "    <tr>\n",
       "      <th>...</th>\n",
       "      <td>...</td>\n",
       "      <td>...</td>\n",
       "      <td>...</td>\n",
       "      <td>...</td>\n",
       "    </tr>\n",
       "    <tr>\n",
       "      <th>541904</th>\n",
       "      <td>12.0</td>\n",
       "      <td>0.85</td>\n",
       "      <td>13</td>\n",
       "      <td>2</td>\n",
       "    </tr>\n",
       "    <tr>\n",
       "      <th>541905</th>\n",
       "      <td>6.0</td>\n",
       "      <td>2.10</td>\n",
       "      <td>13</td>\n",
       "      <td>2</td>\n",
       "    </tr>\n",
       "    <tr>\n",
       "      <th>541906</th>\n",
       "      <td>4.0</td>\n",
       "      <td>4.15</td>\n",
       "      <td>13</td>\n",
       "      <td>2</td>\n",
       "    </tr>\n",
       "    <tr>\n",
       "      <th>541907</th>\n",
       "      <td>4.0</td>\n",
       "      <td>4.15</td>\n",
       "      <td>13</td>\n",
       "      <td>2</td>\n",
       "    </tr>\n",
       "    <tr>\n",
       "      <th>541908</th>\n",
       "      <td>3.0</td>\n",
       "      <td>4.95</td>\n",
       "      <td>13</td>\n",
       "      <td>2</td>\n",
       "    </tr>\n",
       "  </tbody>\n",
       "</table>\n",
       "<p>541909 rows × 4 columns</p>\n",
       "</div>"
      ],
      "text/plain": [
       "        Quantity  UnitPrice  Country  Clus_kmeans\n",
       "0            6.0       2.55       36            4\n",
       "1            6.0       3.39       36            4\n",
       "2            8.0       2.75       36            3\n",
       "3            6.0       3.39       36            3\n",
       "4            6.0       3.39       36            4\n",
       "...          ...        ...      ...          ...\n",
       "541904      12.0       0.85       13            2\n",
       "541905       6.0       2.10       13            2\n",
       "541906       4.0       4.15       13            2\n",
       "541907       4.0       4.15       13            2\n",
       "541908       3.0       4.95       13            2\n",
       "\n",
       "[541909 rows x 4 columns]"
      ]
     },
     "execution_count": 241,
     "metadata": {},
     "output_type": "execute_result"
    }
   ],
   "source": [
    "df3=df2.copy()\n",
    "df3.drop(['Description'],axis=1)"
   ]
  },
  {
   "cell_type": "code",
   "execution_count": 242,
   "metadata": {},
   "outputs": [
    {
     "name": "stdout",
     "output_type": "stream",
     "text": [
      "<class 'pandas.core.frame.DataFrame'>\n",
      "RangeIndex: 541909 entries, 0 to 541908\n",
      "Data columns (total 5 columns):\n",
      " #   Column       Non-Null Count   Dtype  \n",
      "---  ------       --------------   -----  \n",
      " 0   Description  541909 non-null  int16  \n",
      " 1   Quantity     541909 non-null  float64\n",
      " 2   UnitPrice    541909 non-null  float64\n",
      " 3   Country      541909 non-null  int8   \n",
      " 4   Clus_kmeans  541909 non-null  int32  \n",
      "dtypes: float64(2), int16(1), int32(1), int8(1)\n",
      "memory usage: 11.9 MB\n"
     ]
    }
   ],
   "source": [
    "df3.info()"
   ]
  },
  {
   "cell_type": "code",
   "execution_count": 243,
   "metadata": {},
   "outputs": [],
   "source": [
    "df3=df2.iloc[:,1:6]"
   ]
  },
  {
   "cell_type": "code",
   "execution_count": 244,
   "metadata": {},
   "outputs": [
    {
     "data": {
      "text/html": [
       "<div>\n",
       "<style scoped>\n",
       "    .dataframe tbody tr th:only-of-type {\n",
       "        vertical-align: middle;\n",
       "    }\n",
       "\n",
       "    .dataframe tbody tr th {\n",
       "        vertical-align: top;\n",
       "    }\n",
       "\n",
       "    .dataframe thead th {\n",
       "        text-align: right;\n",
       "    }\n",
       "</style>\n",
       "<table border=\"1\" class=\"dataframe\">\n",
       "  <thead>\n",
       "    <tr style=\"text-align: right;\">\n",
       "      <th></th>\n",
       "      <th>Quantity</th>\n",
       "      <th>UnitPrice</th>\n",
       "      <th>Country</th>\n",
       "      <th>Clus_kmeans</th>\n",
       "    </tr>\n",
       "  </thead>\n",
       "  <tbody>\n",
       "    <tr>\n",
       "      <th>0</th>\n",
       "      <td>6.0</td>\n",
       "      <td>2.55</td>\n",
       "      <td>36</td>\n",
       "      <td>4</td>\n",
       "    </tr>\n",
       "    <tr>\n",
       "      <th>382480</th>\n",
       "      <td>12.0</td>\n",
       "      <td>1.25</td>\n",
       "      <td>36</td>\n",
       "      <td>4</td>\n",
       "    </tr>\n",
       "    <tr>\n",
       "      <th>158250</th>\n",
       "      <td>6.0</td>\n",
       "      <td>2.55</td>\n",
       "      <td>36</td>\n",
       "      <td>4</td>\n",
       "    </tr>\n",
       "    <tr>\n",
       "      <th>158251</th>\n",
       "      <td>12.0</td>\n",
       "      <td>2.55</td>\n",
       "      <td>36</td>\n",
       "      <td>4</td>\n",
       "    </tr>\n",
       "    <tr>\n",
       "      <th>382491</th>\n",
       "      <td>12.0</td>\n",
       "      <td>0.55</td>\n",
       "      <td>36</td>\n",
       "      <td>4</td>\n",
       "    </tr>\n",
       "    <tr>\n",
       "      <th>...</th>\n",
       "      <td>...</td>\n",
       "      <td>...</td>\n",
       "      <td>...</td>\n",
       "      <td>...</td>\n",
       "    </tr>\n",
       "    <tr>\n",
       "      <th>128798</th>\n",
       "      <td>16.0</td>\n",
       "      <td>8.45</td>\n",
       "      <td>36</td>\n",
       "      <td>0</td>\n",
       "    </tr>\n",
       "    <tr>\n",
       "      <th>184794</th>\n",
       "      <td>2.0</td>\n",
       "      <td>7.95</td>\n",
       "      <td>36</td>\n",
       "      <td>0</td>\n",
       "    </tr>\n",
       "    <tr>\n",
       "      <th>184795</th>\n",
       "      <td>2.0</td>\n",
       "      <td>7.95</td>\n",
       "      <td>36</td>\n",
       "      <td>0</td>\n",
       "    </tr>\n",
       "    <tr>\n",
       "      <th>413588</th>\n",
       "      <td>1.0</td>\n",
       "      <td>5.95</td>\n",
       "      <td>36</td>\n",
       "      <td>0</td>\n",
       "    </tr>\n",
       "    <tr>\n",
       "      <th>404368</th>\n",
       "      <td>8.0</td>\n",
       "      <td>4.95</td>\n",
       "      <td>36</td>\n",
       "      <td>0</td>\n",
       "    </tr>\n",
       "  </tbody>\n",
       "</table>\n",
       "<p>541909 rows × 4 columns</p>\n",
       "</div>"
      ],
      "text/plain": [
       "        Quantity  UnitPrice  Country  Clus_kmeans\n",
       "0            6.0       2.55       36            4\n",
       "382480      12.0       1.25       36            4\n",
       "158250       6.0       2.55       36            4\n",
       "158251      12.0       2.55       36            4\n",
       "382491      12.0       0.55       36            4\n",
       "...          ...        ...      ...          ...\n",
       "128798      16.0       8.45       36            0\n",
       "184794       2.0       7.95       36            0\n",
       "184795       2.0       7.95       36            0\n",
       "413588       1.0       5.95       36            0\n",
       "404368       8.0       4.95       36            0\n",
       "\n",
       "[541909 rows x 4 columns]"
      ]
     },
     "execution_count": 244,
     "metadata": {},
     "output_type": "execute_result"
    }
   ],
   "source": [
    "df3.sort_values([\"Clus_kmeans\"],ascending=False)"
   ]
  },
  {
   "cell_type": "code",
   "execution_count": 249,
   "metadata": {},
   "outputs": [
    {
     "data": {
      "text/html": [
       "<div>\n",
       "<style scoped>\n",
       "    .dataframe tbody tr th:only-of-type {\n",
       "        vertical-align: middle;\n",
       "    }\n",
       "\n",
       "    .dataframe tbody tr th {\n",
       "        vertical-align: top;\n",
       "    }\n",
       "\n",
       "    .dataframe thead th {\n",
       "        text-align: right;\n",
       "    }\n",
       "</style>\n",
       "<table border=\"1\" class=\"dataframe\">\n",
       "  <thead>\n",
       "    <tr style=\"text-align: right;\">\n",
       "      <th></th>\n",
       "      <th>InvoiceNo</th>\n",
       "      <th>StockCode</th>\n",
       "      <th>Description</th>\n",
       "      <th>Quantity</th>\n",
       "      <th>InvoiceDate</th>\n",
       "      <th>UnitPrice</th>\n",
       "      <th>CustomerID</th>\n",
       "      <th>Country</th>\n",
       "    </tr>\n",
       "  </thead>\n",
       "  <tbody>\n",
       "    <tr>\n",
       "      <th>0</th>\n",
       "      <td>536365</td>\n",
       "      <td>85123A</td>\n",
       "      <td>WHITE HANGING HEART T-LIGHT HOLDER</td>\n",
       "      <td>6</td>\n",
       "      <td>2010-12-01 08:26:00</td>\n",
       "      <td>2.55</td>\n",
       "      <td>17850.0</td>\n",
       "      <td>United Kingdom</td>\n",
       "    </tr>\n",
       "    <tr>\n",
       "      <th>1</th>\n",
       "      <td>536365</td>\n",
       "      <td>71053</td>\n",
       "      <td>WHITE METAL LANTERN</td>\n",
       "      <td>6</td>\n",
       "      <td>2010-12-01 08:26:00</td>\n",
       "      <td>3.39</td>\n",
       "      <td>17850.0</td>\n",
       "      <td>United Kingdom</td>\n",
       "    </tr>\n",
       "    <tr>\n",
       "      <th>2</th>\n",
       "      <td>536365</td>\n",
       "      <td>84406B</td>\n",
       "      <td>CREAM CUPID HEARTS COAT HANGER</td>\n",
       "      <td>8</td>\n",
       "      <td>2010-12-01 08:26:00</td>\n",
       "      <td>2.75</td>\n",
       "      <td>17850.0</td>\n",
       "      <td>United Kingdom</td>\n",
       "    </tr>\n",
       "    <tr>\n",
       "      <th>3</th>\n",
       "      <td>536365</td>\n",
       "      <td>84029G</td>\n",
       "      <td>KNITTED UNION FLAG HOT WATER BOTTLE</td>\n",
       "      <td>6</td>\n",
       "      <td>2010-12-01 08:26:00</td>\n",
       "      <td>3.39</td>\n",
       "      <td>17850.0</td>\n",
       "      <td>United Kingdom</td>\n",
       "    </tr>\n",
       "    <tr>\n",
       "      <th>4</th>\n",
       "      <td>536365</td>\n",
       "      <td>84029E</td>\n",
       "      <td>RED WOOLLY HOTTIE WHITE HEART.</td>\n",
       "      <td>6</td>\n",
       "      <td>2010-12-01 08:26:00</td>\n",
       "      <td>3.39</td>\n",
       "      <td>17850.0</td>\n",
       "      <td>United Kingdom</td>\n",
       "    </tr>\n",
       "    <tr>\n",
       "      <th>5</th>\n",
       "      <td>536365</td>\n",
       "      <td>22752</td>\n",
       "      <td>SET 7 BABUSHKA NESTING BOXES</td>\n",
       "      <td>2</td>\n",
       "      <td>2010-12-01 08:26:00</td>\n",
       "      <td>7.65</td>\n",
       "      <td>17850.0</td>\n",
       "      <td>United Kingdom</td>\n",
       "    </tr>\n",
       "    <tr>\n",
       "      <th>6</th>\n",
       "      <td>536365</td>\n",
       "      <td>21730</td>\n",
       "      <td>GLASS STAR FROSTED T-LIGHT HOLDER</td>\n",
       "      <td>6</td>\n",
       "      <td>2010-12-01 08:26:00</td>\n",
       "      <td>4.25</td>\n",
       "      <td>17850.0</td>\n",
       "      <td>United Kingdom</td>\n",
       "    </tr>\n",
       "    <tr>\n",
       "      <th>7</th>\n",
       "      <td>536366</td>\n",
       "      <td>22633</td>\n",
       "      <td>HAND WARMER UNION JACK</td>\n",
       "      <td>6</td>\n",
       "      <td>2010-12-01 08:28:00</td>\n",
       "      <td>1.85</td>\n",
       "      <td>17850.0</td>\n",
       "      <td>United Kingdom</td>\n",
       "    </tr>\n",
       "    <tr>\n",
       "      <th>8</th>\n",
       "      <td>536366</td>\n",
       "      <td>22632</td>\n",
       "      <td>HAND WARMER RED POLKA DOT</td>\n",
       "      <td>6</td>\n",
       "      <td>2010-12-01 08:28:00</td>\n",
       "      <td>1.85</td>\n",
       "      <td>17850.0</td>\n",
       "      <td>United Kingdom</td>\n",
       "    </tr>\n",
       "    <tr>\n",
       "      <th>9</th>\n",
       "      <td>536367</td>\n",
       "      <td>84879</td>\n",
       "      <td>ASSORTED COLOUR BIRD ORNAMENT</td>\n",
       "      <td>32</td>\n",
       "      <td>2010-12-01 08:34:00</td>\n",
       "      <td>1.69</td>\n",
       "      <td>13047.0</td>\n",
       "      <td>United Kingdom</td>\n",
       "    </tr>\n",
       "  </tbody>\n",
       "</table>\n",
       "</div>"
      ],
      "text/plain": [
       "  InvoiceNo StockCode                          Description  Quantity  \\\n",
       "0    536365    85123A   WHITE HANGING HEART T-LIGHT HOLDER         6   \n",
       "1    536365     71053                  WHITE METAL LANTERN         6   \n",
       "2    536365    84406B       CREAM CUPID HEARTS COAT HANGER         8   \n",
       "3    536365    84029G  KNITTED UNION FLAG HOT WATER BOTTLE         6   \n",
       "4    536365    84029E       RED WOOLLY HOTTIE WHITE HEART.         6   \n",
       "5    536365     22752         SET 7 BABUSHKA NESTING BOXES         2   \n",
       "6    536365     21730    GLASS STAR FROSTED T-LIGHT HOLDER         6   \n",
       "7    536366     22633               HAND WARMER UNION JACK         6   \n",
       "8    536366     22632            HAND WARMER RED POLKA DOT         6   \n",
       "9    536367     84879        ASSORTED COLOUR BIRD ORNAMENT        32   \n",
       "\n",
       "          InvoiceDate  UnitPrice  CustomerID         Country  \n",
       "0 2010-12-01 08:26:00       2.55     17850.0  United Kingdom  \n",
       "1 2010-12-01 08:26:00       3.39     17850.0  United Kingdom  \n",
       "2 2010-12-01 08:26:00       2.75     17850.0  United Kingdom  \n",
       "3 2010-12-01 08:26:00       3.39     17850.0  United Kingdom  \n",
       "4 2010-12-01 08:26:00       3.39     17850.0  United Kingdom  \n",
       "5 2010-12-01 08:26:00       7.65     17850.0  United Kingdom  \n",
       "6 2010-12-01 08:26:00       4.25     17850.0  United Kingdom  \n",
       "7 2010-12-01 08:28:00       1.85     17850.0  United Kingdom  \n",
       "8 2010-12-01 08:28:00       1.85     17850.0  United Kingdom  \n",
       "9 2010-12-01 08:34:00       1.69     13047.0  United Kingdom  "
      ]
     },
     "execution_count": 249,
     "metadata": {},
     "output_type": "execute_result"
    }
   ],
   "source": [
    "df4=pd.read_excel('C:/Users/anura/OneDrive/Desktop/DT Consulting/Meergrow/Online Retail.xlsx')\n",
    "df4.head(10)"
   ]
  },
  {
   "cell_type": "code",
   "execution_count": 251,
   "metadata": {},
   "outputs": [
    {
     "data": {
      "text/html": [
       "<div>\n",
       "<style scoped>\n",
       "    .dataframe tbody tr th:only-of-type {\n",
       "        vertical-align: middle;\n",
       "    }\n",
       "\n",
       "    .dataframe tbody tr th {\n",
       "        vertical-align: top;\n",
       "    }\n",
       "\n",
       "    .dataframe thead th {\n",
       "        text-align: right;\n",
       "    }\n",
       "</style>\n",
       "<table border=\"1\" class=\"dataframe\">\n",
       "  <thead>\n",
       "    <tr style=\"text-align: right;\">\n",
       "      <th></th>\n",
       "      <th>InvoiceNo</th>\n",
       "      <th>StockCode</th>\n",
       "      <th>Description</th>\n",
       "      <th>Quantity</th>\n",
       "      <th>InvoiceDate</th>\n",
       "      <th>UnitPrice</th>\n",
       "      <th>CustomerID</th>\n",
       "      <th>Country</th>\n",
       "      <th>Clus_kmeans</th>\n",
       "    </tr>\n",
       "  </thead>\n",
       "  <tbody>\n",
       "    <tr>\n",
       "      <th>0</th>\n",
       "      <td>536365</td>\n",
       "      <td>85123A</td>\n",
       "      <td>WHITE HANGING HEART T-LIGHT HOLDER</td>\n",
       "      <td>6</td>\n",
       "      <td>2010-12-01 08:26:00</td>\n",
       "      <td>2.55</td>\n",
       "      <td>17850.0</td>\n",
       "      <td>United Kingdom</td>\n",
       "      <td>4</td>\n",
       "    </tr>\n",
       "    <tr>\n",
       "      <th>1</th>\n",
       "      <td>536365</td>\n",
       "      <td>71053</td>\n",
       "      <td>WHITE METAL LANTERN</td>\n",
       "      <td>6</td>\n",
       "      <td>2010-12-01 08:26:00</td>\n",
       "      <td>3.39</td>\n",
       "      <td>17850.0</td>\n",
       "      <td>United Kingdom</td>\n",
       "      <td>4</td>\n",
       "    </tr>\n",
       "    <tr>\n",
       "      <th>2</th>\n",
       "      <td>536365</td>\n",
       "      <td>84406B</td>\n",
       "      <td>CREAM CUPID HEARTS COAT HANGER</td>\n",
       "      <td>8</td>\n",
       "      <td>2010-12-01 08:26:00</td>\n",
       "      <td>2.75</td>\n",
       "      <td>17850.0</td>\n",
       "      <td>United Kingdom</td>\n",
       "      <td>3</td>\n",
       "    </tr>\n",
       "    <tr>\n",
       "      <th>3</th>\n",
       "      <td>536365</td>\n",
       "      <td>84029G</td>\n",
       "      <td>KNITTED UNION FLAG HOT WATER BOTTLE</td>\n",
       "      <td>6</td>\n",
       "      <td>2010-12-01 08:26:00</td>\n",
       "      <td>3.39</td>\n",
       "      <td>17850.0</td>\n",
       "      <td>United Kingdom</td>\n",
       "      <td>3</td>\n",
       "    </tr>\n",
       "    <tr>\n",
       "      <th>4</th>\n",
       "      <td>536365</td>\n",
       "      <td>84029E</td>\n",
       "      <td>RED WOOLLY HOTTIE WHITE HEART.</td>\n",
       "      <td>6</td>\n",
       "      <td>2010-12-01 08:26:00</td>\n",
       "      <td>3.39</td>\n",
       "      <td>17850.0</td>\n",
       "      <td>United Kingdom</td>\n",
       "      <td>4</td>\n",
       "    </tr>\n",
       "    <tr>\n",
       "      <th>5</th>\n",
       "      <td>536365</td>\n",
       "      <td>22752</td>\n",
       "      <td>SET 7 BABUSHKA NESTING BOXES</td>\n",
       "      <td>2</td>\n",
       "      <td>2010-12-01 08:26:00</td>\n",
       "      <td>7.65</td>\n",
       "      <td>17850.0</td>\n",
       "      <td>United Kingdom</td>\n",
       "      <td>0</td>\n",
       "    </tr>\n",
       "    <tr>\n",
       "      <th>6</th>\n",
       "      <td>536365</td>\n",
       "      <td>21730</td>\n",
       "      <td>GLASS STAR FROSTED T-LIGHT HOLDER</td>\n",
       "      <td>6</td>\n",
       "      <td>2010-12-01 08:26:00</td>\n",
       "      <td>4.25</td>\n",
       "      <td>17850.0</td>\n",
       "      <td>United Kingdom</td>\n",
       "      <td>3</td>\n",
       "    </tr>\n",
       "    <tr>\n",
       "      <th>7</th>\n",
       "      <td>536366</td>\n",
       "      <td>22633</td>\n",
       "      <td>HAND WARMER UNION JACK</td>\n",
       "      <td>6</td>\n",
       "      <td>2010-12-01 08:28:00</td>\n",
       "      <td>1.85</td>\n",
       "      <td>17850.0</td>\n",
       "      <td>United Kingdom</td>\n",
       "      <td>3</td>\n",
       "    </tr>\n",
       "    <tr>\n",
       "      <th>8</th>\n",
       "      <td>536366</td>\n",
       "      <td>22632</td>\n",
       "      <td>HAND WARMER RED POLKA DOT</td>\n",
       "      <td>6</td>\n",
       "      <td>2010-12-01 08:28:00</td>\n",
       "      <td>1.85</td>\n",
       "      <td>17850.0</td>\n",
       "      <td>United Kingdom</td>\n",
       "      <td>3</td>\n",
       "    </tr>\n",
       "    <tr>\n",
       "      <th>9</th>\n",
       "      <td>536367</td>\n",
       "      <td>84879</td>\n",
       "      <td>ASSORTED COLOUR BIRD ORNAMENT</td>\n",
       "      <td>32</td>\n",
       "      <td>2010-12-01 08:34:00</td>\n",
       "      <td>1.69</td>\n",
       "      <td>13047.0</td>\n",
       "      <td>United Kingdom</td>\n",
       "      <td>1</td>\n",
       "    </tr>\n",
       "  </tbody>\n",
       "</table>\n",
       "</div>"
      ],
      "text/plain": [
       "  InvoiceNo StockCode                          Description  Quantity  \\\n",
       "0    536365    85123A   WHITE HANGING HEART T-LIGHT HOLDER         6   \n",
       "1    536365     71053                  WHITE METAL LANTERN         6   \n",
       "2    536365    84406B       CREAM CUPID HEARTS COAT HANGER         8   \n",
       "3    536365    84029G  KNITTED UNION FLAG HOT WATER BOTTLE         6   \n",
       "4    536365    84029E       RED WOOLLY HOTTIE WHITE HEART.         6   \n",
       "5    536365     22752         SET 7 BABUSHKA NESTING BOXES         2   \n",
       "6    536365     21730    GLASS STAR FROSTED T-LIGHT HOLDER         6   \n",
       "7    536366     22633               HAND WARMER UNION JACK         6   \n",
       "8    536366     22632            HAND WARMER RED POLKA DOT         6   \n",
       "9    536367     84879        ASSORTED COLOUR BIRD ORNAMENT        32   \n",
       "\n",
       "          InvoiceDate  UnitPrice  CustomerID         Country  Clus_kmeans  \n",
       "0 2010-12-01 08:26:00       2.55     17850.0  United Kingdom            4  \n",
       "1 2010-12-01 08:26:00       3.39     17850.0  United Kingdom            4  \n",
       "2 2010-12-01 08:26:00       2.75     17850.0  United Kingdom            3  \n",
       "3 2010-12-01 08:26:00       3.39     17850.0  United Kingdom            3  \n",
       "4 2010-12-01 08:26:00       3.39     17850.0  United Kingdom            4  \n",
       "5 2010-12-01 08:26:00       7.65     17850.0  United Kingdom            0  \n",
       "6 2010-12-01 08:26:00       4.25     17850.0  United Kingdom            3  \n",
       "7 2010-12-01 08:28:00       1.85     17850.0  United Kingdom            3  \n",
       "8 2010-12-01 08:28:00       1.85     17850.0  United Kingdom            3  \n",
       "9 2010-12-01 08:34:00       1.69     13047.0  United Kingdom            1  "
      ]
     },
     "execution_count": 251,
     "metadata": {},
     "output_type": "execute_result"
    }
   ],
   "source": [
    "df4[\"Clus_kmeans\"] = labels\n",
    "df4.head(10)"
   ]
  },
  {
   "cell_type": "code",
   "execution_count": 252,
   "metadata": {},
   "outputs": [
    {
     "data": {
      "text/html": [
       "<div>\n",
       "<style scoped>\n",
       "    .dataframe tbody tr th:only-of-type {\n",
       "        vertical-align: middle;\n",
       "    }\n",
       "\n",
       "    .dataframe tbody tr th {\n",
       "        vertical-align: top;\n",
       "    }\n",
       "\n",
       "    .dataframe thead th {\n",
       "        text-align: right;\n",
       "    }\n",
       "</style>\n",
       "<table border=\"1\" class=\"dataframe\">\n",
       "  <thead>\n",
       "    <tr style=\"text-align: right;\">\n",
       "      <th></th>\n",
       "      <th>InvoiceNo</th>\n",
       "      <th>StockCode</th>\n",
       "      <th>Description</th>\n",
       "      <th>Quantity</th>\n",
       "      <th>InvoiceDate</th>\n",
       "      <th>UnitPrice</th>\n",
       "      <th>CustomerID</th>\n",
       "      <th>Country</th>\n",
       "    </tr>\n",
       "    <tr>\n",
       "      <th>Clus_kmeans</th>\n",
       "      <th></th>\n",
       "      <th></th>\n",
       "      <th></th>\n",
       "      <th></th>\n",
       "      <th></th>\n",
       "      <th></th>\n",
       "      <th></th>\n",
       "      <th></th>\n",
       "    </tr>\n",
       "  </thead>\n",
       "  <tbody>\n",
       "    <tr>\n",
       "      <th>3</th>\n",
       "      <td>187465</td>\n",
       "      <td>187465</td>\n",
       "      <td>187465</td>\n",
       "      <td>187465</td>\n",
       "      <td>187465</td>\n",
       "      <td>187465</td>\n",
       "      <td>139249</td>\n",
       "      <td>187465</td>\n",
       "    </tr>\n",
       "    <tr>\n",
       "      <th>4</th>\n",
       "      <td>172415</td>\n",
       "      <td>172415</td>\n",
       "      <td>171162</td>\n",
       "      <td>172415</td>\n",
       "      <td>172415</td>\n",
       "      <td>172415</td>\n",
       "      <td>125785</td>\n",
       "      <td>172415</td>\n",
       "    </tr>\n",
       "    <tr>\n",
       "      <th>0</th>\n",
       "      <td>87694</td>\n",
       "      <td>87694</td>\n",
       "      <td>87694</td>\n",
       "      <td>87694</td>\n",
       "      <td>87694</td>\n",
       "      <td>87694</td>\n",
       "      <td>51911</td>\n",
       "      <td>87694</td>\n",
       "    </tr>\n",
       "    <tr>\n",
       "      <th>1</th>\n",
       "      <td>59450</td>\n",
       "      <td>59450</td>\n",
       "      <td>59249</td>\n",
       "      <td>59450</td>\n",
       "      <td>59450</td>\n",
       "      <td>59450</td>\n",
       "      <td>56113</td>\n",
       "      <td>59450</td>\n",
       "    </tr>\n",
       "    <tr>\n",
       "      <th>2</th>\n",
       "      <td>34885</td>\n",
       "      <td>34885</td>\n",
       "      <td>34885</td>\n",
       "      <td>34885</td>\n",
       "      <td>34885</td>\n",
       "      <td>34885</td>\n",
       "      <td>33771</td>\n",
       "      <td>34885</td>\n",
       "    </tr>\n",
       "  </tbody>\n",
       "</table>\n",
       "</div>"
      ],
      "text/plain": [
       "             InvoiceNo  StockCode  Description  Quantity  InvoiceDate  \\\n",
       "Clus_kmeans                                                             \n",
       "3               187465     187465       187465    187465       187465   \n",
       "4               172415     172415       171162    172415       172415   \n",
       "0                87694      87694        87694     87694        87694   \n",
       "1                59450      59450        59249     59450        59450   \n",
       "2                34885      34885        34885     34885        34885   \n",
       "\n",
       "             UnitPrice  CustomerID  Country  \n",
       "Clus_kmeans                                  \n",
       "3               187465      139249   187465  \n",
       "4               172415      125785   172415  \n",
       "0                87694       51911    87694  \n",
       "1                59450       56113    59450  \n",
       "2                34885       33771    34885  "
      ]
     },
     "execution_count": 252,
     "metadata": {},
     "output_type": "execute_result"
    }
   ],
   "source": [
    "df4.groupby('Clus_kmeans').count().sort_values('InvoiceNo',ascending=False)"
   ]
  },
  {
   "attachments": {
    "image.png": {
     "image/png": "[encoded data removed]"
    }
   },
   "cell_type": "markdown",
   "metadata": {},
   "source": [
    "\n",
    "\n",
    "\n",
    "# Platinum:\n",
    "\n",
    "### From Above we can see that Maximum Quantity Order by Customers (i.e Wholsale_dealer) they come at  Cluster 3. If we name them  as \"Platinium\" customer who come at Cluster 3.So online_Retailer need to give more attention to such customer who come at \"Platinium Category\" i.e Cluster 3 . Cluster 4 Also come at \"Platinium\" Customer range and from the above obseration ,Online Retailer need to take Extra care of  this 3 and 4 Cluster to maintain such ration By Giving Royality.\n",
    "![image.png](attachment:image.png)\n",
    "\n",
    "# Gold:\n",
    "\n",
    "##     Take a look at  Cluster 0 and  name it as \"Gold_Customer\" . so if we compaire with Order_quantity of Cluster 0 then its half of Cluster 3 and 4. . So online _retailer need to encourage \"Gold_Customer\" to enter \"Platinium\" Category by guiding  demand of Product,description of Product with respect to their area.\n",
    "![image.png](attachment:image.png)\n",
    "\n",
    "# Silver:\n",
    "\n",
    "# And cluster 1 and 2  name it as \"Silver\" Customer  and they are average performer. so, we also have to focus on these category of customers and try to attract them with some advertisement, discount offers.so, they will do more transaction with retail store and become very good customer of Retail store and stay with store for long time. "
   ]
  },
  {
   "attachments": {
    "image.png": {
     "image/png": "[encoded data removed]"
    }
   },
   "cell_type": "markdown",
   "metadata": {},
   "source": [
    "# Recomandation:\n",
    "\n",
    "\n",
    " ## The Data points are overlaping on Each other and  Most the Data Points are from united_kingdom,need to understand  data avaibility or Sale Problem.Either need to increase sales on other side of country by Advertisment, give Offer to Customers or Promotion of product with respect to Monthly festival  celebrated in country. Like festival in Country play a major role to sell Gift in Mass Quantity so Base on country festival Online_retail need to Guid Customers \"Which Product made available in such festival\" and Guide Demand of Product with respect to seasonality and base on that price can be set\n",
    " \n",
    " ## If we look at the Time series  data maximum Quantity Order in between January to march OR at the end of the month.On-other  hand maximum order cancel by customers in same time periods ,if we take count of cancel order =9291  i.e 1.71 % order cancel.So Online_retailer need to reduce this cancelation by giving offer to Customer specialy in start and end of the Months because maximum order cancel in  this months.\n",
    " \n",
    " ## Based on clusteringCustomers can be segmented toThree category:\n",
    " \n",
    " \n",
    " ### 1)Platinium for Top Customers who come at 3 and 4 Cluster  who having Quantity more than 170000 : say\n",
    " \n",
    "###  2)Gold for Good performance  customers who come at cluster 0 who have quantity more than 87000 and less tahn 170000 : say\n",
    "\n",
    "### 3)Silver for Average performance customers who come at cluster 1 and 2 who having Quantity less than 87000 :say\n",
    "\n",
    " ### Online_retail need to encourage customers to climb Premium Step of Platinu,Gold,Silver by Giving discount / offer .\n",
    " \n",
    " # ![image.png](attachment:image.png)"
   ]
  },
  {
   "cell_type": "code",
   "execution_count": null,
   "metadata": {},
   "outputs": [],
   "source": [
    "\n"
   ]
  }
 ],
 "metadata": {
  "kernelspec": {
   "display_name": "Python 3",
   "language": "python",
   "name": "python3"
  },
  "language_info": {
   "codemirror_mode": {
    "name": "ipython",
    "version": 3
   },
   "file_extension": ".py",
   "mimetype": "text/x-python",
   "name": "python",
   "nbconvert_exporter": "python",
   "pygments_lexer": "ipython3",
   "version": "3.8.3"
  }
 },
 "nbformat": 4,
 "nbformat_minor": 4
}
